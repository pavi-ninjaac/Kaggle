{
 "cells": [
  {
   "cell_type": "markdown",
   "metadata": {
    "papermill": {
     "duration": 0.020518,
     "end_time": "2020-12-25T09:01:41.185727",
     "exception": false,
     "start_time": "2020-12-25T09:01:41.165209",
     "status": "completed"
    },
    "tags": []
   },
   "source": [
    "### CNN model of Digit Recognizer using Keras\n",
    "\n",
    "Hoon Kim (id : KeyboardWarrior6969)\n",
    "\n",
    "25/12/2020"
   ]
  },
  {
   "cell_type": "markdown",
   "metadata": {
    "papermill": {
     "duration": 0.019271,
     "end_time": "2020-12-25T09:01:41.224632",
     "exception": false,
     "start_time": "2020-12-25T09:01:41.205361",
     "status": "completed"
    },
    "tags": []
   },
   "source": [
    "**1. Introduction**\n",
    "\n",
    "**2. Data Preparation**\n",
    "\n",
    "- 2.1 Load Data\n",
    "- 2.2 Check for Null and missing Values\n",
    "- 2.3 Normalization\n",
    "- 2.4 Reshape\n",
    "- 2.5 Label Encoding\n",
    "- 2.6 Split Training and Validation Set\n",
    "\n",
    "**3. CNN Model**\n",
    "\n",
    "- 3.1 Model Definition\n",
    "- 3.2 Optimizer And Annealer\n",
    "\n",
    "**4. Model Performance**\n",
    "\n",
    "- 4.1 Validation and Training curves\n",
    "- 4.2 Confusion Matrix\n",
    "- 4.3 Examples of Inaccurate Predictions\n",
    "\n",
    "**5. Prediction and Submission of Results**"
   ]
  },
  {
   "cell_type": "markdown",
   "metadata": {
    "papermill": {
     "duration": 0.01925,
     "end_time": "2020-12-25T09:01:41.263661",
     "exception": false,
     "start_time": "2020-12-25T09:01:41.244411",
     "status": "completed"
    },
    "tags": []
   },
   "source": [
    "## 1. Introduction\n",
    "The aim of this notebook is to showcase a simple CNN build using the keras framework. Only 5 epochs were run utilising the Kaggle CPU architecture. Although starting off as as simple Cnn, further investigation will be undertaken in different notebooks so that eventually the maximum potential architecture will be achived. This will mean:\n",
    "\n",
    "- The highest possible accuracy\n",
    "- The lowest cost function value\n",
    "- no over or underfitting. \n",
    "\n",
    "\n",
    "The basic architecture will stay constant. This architecture will consisst of two convolution layers with activation Relu, Dense layer with activation Relu and output layer with activation softmax all whilst using the Adam Optimizer."
   ]
  },
  {
   "cell_type": "code",
   "execution_count": 1,
   "metadata": {
    "_cell_guid": "b1076dfc-b9ad-4769-8c92-a6c4dae69d19",
    "_uuid": "8f2839f25d086af736a60e9eeb907d3b93b6e0e5",
    "execution": {
     "iopub.execute_input": "2020-12-25T09:01:41.315780Z",
     "iopub.status.busy": "2020-12-25T09:01:41.315184Z",
     "iopub.status.idle": "2020-12-25T09:01:46.116490Z",
     "shell.execute_reply": "2020-12-25T09:01:46.115467Z"
    },
    "papermill": {
     "duration": 4.833306,
     "end_time": "2020-12-25T09:01:46.116620",
     "exception": false,
     "start_time": "2020-12-25T09:01:41.283314",
     "status": "completed"
    },
    "tags": []
   },
   "outputs": [],
   "source": [
    "import numpy as np # linear algebra\n",
    "import pandas as pd # data processing, CSV file I/O (e.g. pd.read_csv)\n",
    "import matplotlib.pyplot as plt\n",
    "import matplotlib.image as mpimg\n",
    "import seaborn as sns\n",
    "%matplotlib inline\n",
    "\n",
    "np.random.seed(2)\n",
    "\n",
    "from sklearn.model_selection import train_test_split\n",
    "from sklearn.metrics import confusion_matrix\n",
    "import itertools\n",
    "\n",
    "from keras.utils.np_utils import to_categorical # convert to one-hot-encoding\n",
    "from keras.models import Sequential\n",
    "from keras.layers import Dense, Dropout, Flatten, Conv2D, MaxPool2D, AveragePooling2D, BatchNormalization\n",
    "from keras.optimizers import Adam\n",
    "from keras.preprocessing.image import ImageDataGenerator\n",
    "from keras.callbacks import ReduceLROnPlateau\n",
    "from keras.optimizers.schedules import ExponentialDecay\n",
    "sns.set(style = 'white', context= 'notebook', palette = 'deep')"
   ]
  },
  {
   "cell_type": "markdown",
   "metadata": {
    "papermill": {
     "duration": 0.019272,
     "end_time": "2020-12-25T09:01:46.157531",
     "exception": false,
     "start_time": "2020-12-25T09:01:46.138259",
     "status": "completed"
    },
    "tags": []
   },
   "source": [
    "## 2. Data Preparation"
   ]
  },
  {
   "cell_type": "markdown",
   "metadata": {
    "papermill": {
     "duration": 0.019337,
     "end_time": "2020-12-25T09:01:46.196486",
     "exception": false,
     "start_time": "2020-12-25T09:01:46.177149",
     "status": "completed"
    },
    "tags": []
   },
   "source": [
    "### 2.1 Load Data"
   ]
  },
  {
   "cell_type": "code",
   "execution_count": 2,
   "metadata": {
    "_cell_guid": "79c7e3d0-c299-4dcb-8224-4455121ee9b0",
    "_uuid": "d629ff2d2480ee46fbb7e2d37f6b5fab8052498a",
    "execution": {
     "iopub.execute_input": "2020-12-25T09:01:46.242183Z",
     "iopub.status.busy": "2020-12-25T09:01:46.241629Z",
     "iopub.status.idle": "2020-12-25T09:01:51.817727Z",
     "shell.execute_reply": "2020-12-25T09:01:51.816573Z"
    },
    "papermill": {
     "duration": 5.601377,
     "end_time": "2020-12-25T09:01:51.817870",
     "exception": false,
     "start_time": "2020-12-25T09:01:46.216493",
     "status": "completed"
    },
    "tags": []
   },
   "outputs": [],
   "source": [
    "# Load the data\n",
    "train = pd.read_csv('../input/digit-recognizer/train.csv')\n",
    "test = pd.read_csv('../input/digit-recognizer/test.csv')"
   ]
  },
  {
   "cell_type": "markdown",
   "metadata": {
    "papermill": {
     "duration": 0.020754,
     "end_time": "2020-12-25T09:01:51.859317",
     "exception": false,
     "start_time": "2020-12-25T09:01:51.838563",
     "status": "completed"
    },
    "tags": []
   },
   "source": [
    "### 2.2 Check for null and missing values"
   ]
  },
  {
   "cell_type": "code",
   "execution_count": 3,
   "metadata": {
    "execution": {
     "iopub.execute_input": "2020-12-25T09:01:51.904262Z",
     "iopub.status.busy": "2020-12-25T09:01:51.903591Z",
     "iopub.status.idle": "2020-12-25T09:01:51.941831Z",
     "shell.execute_reply": "2020-12-25T09:01:51.941373Z"
    },
    "papermill": {
     "duration": 0.062103,
     "end_time": "2020-12-25T09:01:51.941958",
     "exception": false,
     "start_time": "2020-12-25T09:01:51.879855",
     "status": "completed"
    },
    "tags": []
   },
   "outputs": [
    {
     "data": {
      "text/plain": [
       "count       785\n",
       "unique        1\n",
       "top       False\n",
       "freq        785\n",
       "dtype: object"
      ]
     },
     "execution_count": 3,
     "metadata": {},
     "output_type": "execute_result"
    }
   ],
   "source": [
    "train.isnull().any().describe()"
   ]
  },
  {
   "cell_type": "code",
   "execution_count": 4,
   "metadata": {
    "execution": {
     "iopub.execute_input": "2020-12-25T09:01:51.988347Z",
     "iopub.status.busy": "2020-12-25T09:01:51.987456Z",
     "iopub.status.idle": "2020-12-25T09:01:52.000593Z",
     "shell.execute_reply": "2020-12-25T09:01:52.000168Z"
    },
    "papermill": {
     "duration": 0.038423,
     "end_time": "2020-12-25T09:01:52.000676",
     "exception": false,
     "start_time": "2020-12-25T09:01:51.962253",
     "status": "completed"
    },
    "tags": []
   },
   "outputs": [
    {
     "data": {
      "text/plain": [
       "count       784\n",
       "unique        1\n",
       "top       False\n",
       "freq        784\n",
       "dtype: object"
      ]
     },
     "execution_count": 4,
     "metadata": {},
     "output_type": "execute_result"
    }
   ],
   "source": [
    "test.isnull().any().describe()"
   ]
  },
  {
   "cell_type": "markdown",
   "metadata": {
    "papermill": {
     "duration": 0.020997,
     "end_time": "2020-12-25T09:01:52.043217",
     "exception": false,
     "start_time": "2020-12-25T09:01:52.022220",
     "status": "completed"
    },
    "tags": []
   },
   "source": [
    "No missing value so data will be organized."
   ]
  },
  {
   "cell_type": "code",
   "execution_count": 5,
   "metadata": {
    "execution": {
     "iopub.execute_input": "2020-12-25T09:01:52.169954Z",
     "iopub.status.busy": "2020-12-25T09:01:52.169000Z",
     "iopub.status.idle": "2020-12-25T09:01:52.392260Z",
     "shell.execute_reply": "2020-12-25T09:01:52.391406Z"
    },
    "papermill": {
     "duration": 0.327167,
     "end_time": "2020-12-25T09:01:52.392363",
     "exception": false,
     "start_time": "2020-12-25T09:01:52.065196",
     "status": "completed"
    },
    "tags": []
   },
   "outputs": [
    {
     "data": {
      "text/plain": [
       "<matplotlib.axes._subplots.AxesSubplot at 0x7f47f192f710>"
      ]
     },
     "execution_count": 5,
     "metadata": {},
     "output_type": "execute_result"
    },
    {
     "data": {
      "image/png": "[encoded data removed]",
      "text/plain": [
       "<Figure size 432x288 with 1 Axes>"
      ]
     },
     "metadata": {},
     "output_type": "display_data"
    }
   ],
   "source": [
    "Y_train = train['label'] #extract labels\n",
    "X_train = train.drop(labels = ['label'], axis = 1) # drop labels\n",
    "del train # free memory\n",
    "\n",
    "g = sns.countplot(Y_train)\n",
    "g"
   ]
  },
  {
   "cell_type": "markdown",
   "metadata": {
    "papermill": {
     "duration": 0.022219,
     "end_time": "2020-12-25T09:01:52.437733",
     "exception": false,
     "start_time": "2020-12-25T09:01:52.415514",
     "status": "completed"
    },
    "tags": []
   },
   "source": [
    "### 2.3 Scaling\n",
    "\n",
    "A greyscale scaling is utilised to reduce the effect of illumination differences and to increase the efficiency of the training."
   ]
  },
  {
   "cell_type": "code",
   "execution_count": 6,
   "metadata": {
    "execution": {
     "iopub.execute_input": "2020-12-25T09:01:52.490786Z",
     "iopub.status.busy": "2020-12-25T09:01:52.489791Z",
     "iopub.status.idle": "2020-12-25T09:01:52.652840Z",
     "shell.execute_reply": "2020-12-25T09:01:52.652348Z"
    },
    "papermill": {
     "duration": 0.192184,
     "end_time": "2020-12-25T09:01:52.652944",
     "exception": false,
     "start_time": "2020-12-25T09:01:52.460760",
     "status": "completed"
    },
    "tags": []
   },
   "outputs": [],
   "source": [
    "X_train = X_train/255.0\n",
    "test = test/255.0"
   ]
  },
  {
   "cell_type": "markdown",
   "metadata": {
    "papermill": {
     "duration": 0.023817,
     "end_time": "2020-12-25T09:01:52.699047",
     "exception": false,
     "start_time": "2020-12-25T09:01:52.675230",
     "status": "completed"
    },
    "tags": []
   },
   "source": [
    "### 2.3 Reshape"
   ]
  },
  {
   "cell_type": "markdown",
   "metadata": {
    "papermill": {
     "duration": 0.023072,
     "end_time": "2020-12-25T09:01:52.745755",
     "exception": false,
     "start_time": "2020-12-25T09:01:52.722683",
     "status": "completed"
    },
    "tags": []
   },
   "source": [
    "Data is a 784 ( 28^2) column dataframe. CNN requires an image matrix, so the data will be reshaped to a 28 by 28 matrix, with 1 channel since it is black and white."
   ]
  },
  {
   "cell_type": "code",
   "execution_count": 7,
   "metadata": {
    "execution": {
     "iopub.execute_input": "2020-12-25T09:01:52.839302Z",
     "iopub.status.busy": "2020-12-25T09:01:52.837830Z",
     "iopub.status.idle": "2020-12-25T09:01:52.840363Z",
     "shell.execute_reply": "2020-12-25T09:01:52.840890Z"
    },
    "papermill": {
     "duration": 0.032771,
     "end_time": "2020-12-25T09:01:52.841023",
     "exception": false,
     "start_time": "2020-12-25T09:01:52.808252",
     "status": "completed"
    },
    "tags": []
   },
   "outputs": [],
   "source": [
    "X_train = X_train.values.reshape(-1,28,28,1)\n",
    "test= test.values.reshape(-1,28,28,1)"
   ]
  },
  {
   "cell_type": "markdown",
   "metadata": {
    "papermill": {
     "duration": 0.022797,
     "end_time": "2020-12-25T09:01:52.887018",
     "exception": false,
     "start_time": "2020-12-25T09:01:52.864221",
     "status": "completed"
    },
    "tags": []
   },
   "source": []
  },
  {
   "cell_type": "markdown",
   "metadata": {
    "papermill": {
     "duration": 0.024213,
     "end_time": "2020-12-25T09:01:52.934650",
     "exception": false,
     "start_time": "2020-12-25T09:01:52.910437",
     "status": "completed"
    },
    "tags": []
   },
   "source": [
    "### 2.5 Label Encoding\n",
    "\n",
    "Convert labbels to one hot encoding form. so a 2 would be [0,0,1,0,0,0,0,0,0]\n"
   ]
  },
  {
   "cell_type": "code",
   "execution_count": 8,
   "metadata": {
    "execution": {
     "iopub.execute_input": "2020-12-25T09:01:52.987198Z",
     "iopub.status.busy": "2020-12-25T09:01:52.986546Z",
     "iopub.status.idle": "2020-12-25T09:01:52.990181Z",
     "shell.execute_reply": "2020-12-25T09:01:52.989729Z"
    },
    "papermill": {
     "duration": 0.032391,
     "end_time": "2020-12-25T09:01:52.990263",
     "exception": false,
     "start_time": "2020-12-25T09:01:52.957872",
     "status": "completed"
    },
    "tags": []
   },
   "outputs": [],
   "source": [
    "Y_train = to_categorical(Y_train,num_classes= 10)"
   ]
  },
  {
   "cell_type": "markdown",
   "metadata": {
    "papermill": {
     "duration": 0.023516,
     "end_time": "2020-12-25T09:01:53.037050",
     "exception": false,
     "start_time": "2020-12-25T09:01:53.013534",
     "status": "completed"
    },
    "tags": []
   },
   "source": [
    "### 2.6 Split training and validation set"
   ]
  },
  {
   "cell_type": "code",
   "execution_count": 9,
   "metadata": {
    "execution": {
     "iopub.execute_input": "2020-12-25T09:01:53.091170Z",
     "iopub.status.busy": "2020-12-25T09:01:53.089346Z",
     "iopub.status.idle": "2020-12-25T09:01:53.091795Z",
     "shell.execute_reply": "2020-12-25T09:01:53.092215Z"
    },
    "papermill": {
     "duration": 0.031079,
     "end_time": "2020-12-25T09:01:53.092316",
     "exception": false,
     "start_time": "2020-12-25T09:01:53.061237",
     "status": "completed"
    },
    "tags": []
   },
   "outputs": [],
   "source": [
    "# set random seed\n",
    "random_seed = 2"
   ]
  },
  {
   "cell_type": "code",
   "execution_count": 10,
   "metadata": {
    "execution": {
     "iopub.execute_input": "2020-12-25T09:01:53.143280Z",
     "iopub.status.busy": "2020-12-25T09:01:53.142426Z",
     "iopub.status.idle": "2020-12-25T09:01:53.519370Z",
     "shell.execute_reply": "2020-12-25T09:01:53.518740Z"
    },
    "papermill": {
     "duration": 0.404356,
     "end_time": "2020-12-25T09:01:53.519481",
     "exception": false,
     "start_time": "2020-12-25T09:01:53.115125",
     "status": "completed"
    },
    "tags": []
   },
   "outputs": [],
   "source": [
    "# Split the train and the validation set for the fitting\n",
    "X_train, X_val, Y_train, Y_val = \\\n",
    "train_test_split(X_train, Y_train, test_size = 0.1, random_state=random_seed)"
   ]
  },
  {
   "cell_type": "markdown",
   "metadata": {
    "papermill": {
     "duration": 0.022634,
     "end_time": "2020-12-25T09:01:53.565435",
     "exception": false,
     "start_time": "2020-12-25T09:01:53.542801",
     "status": "completed"
    },
    "tags": []
   },
   "source": [
    "Validation data is 10% size of test data"
   ]
  },
  {
   "cell_type": "code",
   "execution_count": 11,
   "metadata": {
    "execution": {
     "iopub.execute_input": "2020-12-25T09:01:53.621696Z",
     "iopub.status.busy": "2020-12-25T09:01:53.620031Z",
     "iopub.status.idle": "2020-12-25T09:01:53.851702Z",
     "shell.execute_reply": "2020-12-25T09:01:53.850686Z"
    },
    "papermill": {
     "duration": 0.263584,
     "end_time": "2020-12-25T09:01:53.851837",
     "exception": false,
     "start_time": "2020-12-25T09:01:53.588253",
     "status": "completed"
    },
    "tags": []
   },
   "outputs": [
    {
     "data": {
      "text/plain": [
       "<matplotlib.image.AxesImage at 0x7f47f2476190>"
      ]
     },
     "execution_count": 11,
     "metadata": {},
     "output_type": "execute_result"
    },
    {
     "data": {
      "image/png": "[encoded data removed]",
      "text/plain": [
       "<Figure size 432x288 with 1 Axes>"
      ]
     },
     "metadata": {},
     "output_type": "display_data"
    }
   ],
   "source": [
    "plt.imshow(X_train[0][:,:,0])"
   ]
  },
  {
   "cell_type": "markdown",
   "metadata": {
    "papermill": {
     "duration": 0.023774,
     "end_time": "2020-12-25T09:01:53.900589",
     "exception": false,
     "start_time": "2020-12-25T09:01:53.876815",
     "status": "completed"
    },
    "tags": []
   },
   "source": [
    "## 3.CNN \n"
   ]
  },
  {
   "cell_type": "markdown",
   "metadata": {
    "papermill": {
     "duration": 0.02391,
     "end_time": "2020-12-25T09:01:53.948592",
     "exception": false,
     "start_time": "2020-12-25T09:01:53.924682",
     "status": "completed"
    },
    "tags": []
   },
   "source": [
    "### 3.1 Model Definition\n",
    "The basic model:\n",
    "2 Convolution layers, 1 dense layer and a final output layer"
   ]
  },
  {
   "cell_type": "code",
   "execution_count": 12,
   "metadata": {
    "execution": {
     "iopub.execute_input": "2020-12-25T09:01:54.006002Z",
     "iopub.status.busy": "2020-12-25T09:01:54.005483Z",
     "iopub.status.idle": "2020-12-25T09:01:56.542838Z",
     "shell.execute_reply": "2020-12-25T09:01:56.542310Z"
    },
    "papermill": {
     "duration": 2.570365,
     "end_time": "2020-12-25T09:01:56.542961",
     "exception": false,
     "start_time": "2020-12-25T09:01:53.972596",
     "status": "completed"
    },
    "tags": []
   },
   "outputs": [],
   "source": [
    "model = Sequential()\n",
    "\n",
    "model.add(Conv2D(filters = 32, kernel_size = (5,5),padding = 'Same', \n",
    "                 activation ='relu', input_shape = (28,28,1)))\n",
    "model.add(BatchNormalization())\n",
    "model.add(AveragePooling2D(pool_size=(2,2)))\n",
    "\n",
    "model.add(Dropout(0.1))\n",
    "\n",
    "\n",
    "model.add(Conv2D(filters = 64, kernel_size = (3,3),padding = 'Same', \n",
    "                 activation ='relu'))\n",
    "model.add(AveragePooling2D(pool_size=(2,2), strides=(2,2)))\n",
    "model.add(BatchNormalization())\n",
    "model.add(Dropout(0.1))\n",
    "\n",
    "\n",
    "model.add(Flatten())\n",
    "model.add(Dense(256, activation = \"relu\"))\n",
    "model.add(Dropout(0.25))\n",
    "model.add(Dense(10, activation = \"softmax\"))"
   ]
  },
  {
   "cell_type": "markdown",
   "metadata": {
    "papermill": {
     "duration": 0.023415,
     "end_time": "2020-12-25T09:01:56.590265",
     "exception": false,
     "start_time": "2020-12-25T09:01:56.566850",
     "status": "completed"
    },
    "tags": []
   },
   "source": [
    "### 3.2 Optimizer and Annealer"
   ]
  },
  {
   "cell_type": "code",
   "execution_count": 13,
   "metadata": {
    "execution": {
     "iopub.execute_input": "2020-12-25T09:01:56.642100Z",
     "iopub.status.busy": "2020-12-25T09:01:56.641432Z",
     "iopub.status.idle": "2020-12-25T09:01:56.645241Z",
     "shell.execute_reply": "2020-12-25T09:01:56.644822Z"
    },
    "papermill": {
     "duration": 0.031972,
     "end_time": "2020-12-25T09:01:56.645328",
     "exception": false,
     "start_time": "2020-12-25T09:01:56.613356",
     "status": "completed"
    },
    "tags": []
   },
   "outputs": [],
   "source": [
    "# Define the optimizer\n",
    "optimizer = Adam(\n",
    "    learning_rate=0.001,\n",
    "    beta_1=0.9,\n",
    "    beta_2=0.999,\n",
    "    epsilon=1e-07)\n",
    "\n",
    "# Set a learning rate annealer\n",
    "learning_rate_reduction = ReduceLROnPlateau(monitor='val_Accuracy', \n",
    "                                            patience=3, \n",
    "                                            verbose=1, \n",
    "                                            factor=5e-7, \n",
    "                                            min_lr=0.00001)"
   ]
  },
  {
   "cell_type": "code",
   "execution_count": 14,
   "metadata": {
    "execution": {
     "iopub.execute_input": "2020-12-25T09:01:56.702127Z",
     "iopub.status.busy": "2020-12-25T09:01:56.701471Z",
     "iopub.status.idle": "2020-12-25T09:01:56.708906Z",
     "shell.execute_reply": "2020-12-25T09:01:56.708409Z"
    },
    "papermill": {
     "duration": 0.040454,
     "end_time": "2020-12-25T09:01:56.709036",
     "exception": false,
     "start_time": "2020-12-25T09:01:56.668582",
     "status": "completed"
    },
    "tags": []
   },
   "outputs": [],
   "source": [
    "\n",
    "\n",
    "# Compile the model\n",
    "model.compile(optimizer = optimizer , loss = \"categorical_crossentropy\", metrics=[\"accuracy\"])\n",
    "\n",
    "\n",
    "\n",
    "epochs = 20 # Turn epochs to 30 to get 0.9967 accuracy\n",
    "batch_size = 128\n",
    "\n"
   ]
  },
  {
   "cell_type": "markdown",
   "metadata": {
    "papermill": {
     "duration": 0.023363,
     "end_time": "2020-12-25T09:01:56.755767",
     "exception": false,
     "start_time": "2020-12-25T09:01:56.732404",
     "status": "completed"
    },
    "tags": []
   },
   "source": [
    "For the data augmentation :\n",
    "\n",
    "    - Randomly rotate some training images by 10 degrees\n",
    "    - Randomly Zoom by 10% some training images\n",
    "    - Randomly shift images horizontally by 10% of the width\n",
    "    - Randomly shift images vertically by 10% of the height\n"
   ]
  },
  {
   "cell_type": "code",
   "execution_count": 15,
   "metadata": {
    "execution": {
     "iopub.execute_input": "2020-12-25T09:01:56.808963Z",
     "iopub.status.busy": "2020-12-25T09:01:56.807979Z",
     "iopub.status.idle": "2020-12-25T09:01:56.901277Z",
     "shell.execute_reply": "2020-12-25T09:01:56.900821Z"
    },
    "papermill": {
     "duration": 0.122203,
     "end_time": "2020-12-25T09:01:56.901380",
     "exception": false,
     "start_time": "2020-12-25T09:01:56.779177",
     "status": "completed"
    },
    "tags": []
   },
   "outputs": [],
   "source": [
    "datagen = ImageDataGenerator(\n",
    "        featurewise_center=False,  # set input mean to 0 over the dataset\n",
    "        samplewise_center=False,  # set each sample mean to 0\n",
    "        featurewise_std_normalization=False,  # divide inputs by std of the dataset\n",
    "        samplewise_std_normalization=False,  # divide each input by its std\n",
    "        zca_whitening=False,  # apply ZCA whitening\n",
    "        rotation_range=10,  # randomly rotate images in the range (degrees, 0 to 180)\n",
    "        zoom_range = 0.1, # Randomly zoom image \n",
    "        width_shift_range=0.1,  # randomly shift images horizontally (fraction of total width)\n",
    "        height_shift_range=0.1,  # randomly shift images vertically (fraction of total height)\n",
    "        horizontal_flip=False,  # randomly flip images\n",
    "        vertical_flip=False)  # randomly flip images\n",
    "datagen.fit(X_train)"
   ]
  },
  {
   "cell_type": "code",
   "execution_count": 16,
   "metadata": {
    "execution": {
     "iopub.execute_input": "2020-12-25T09:01:56.956469Z",
     "iopub.status.busy": "2020-12-25T09:01:56.955507Z",
     "iopub.status.idle": "2020-12-25T09:05:17.354041Z",
     "shell.execute_reply": "2020-12-25T09:05:17.353162Z"
    },
    "papermill": {
     "duration": 200.42797,
     "end_time": "2020-12-25T09:05:17.354157",
     "exception": false,
     "start_time": "2020-12-25T09:01:56.926187",
     "status": "completed"
    },
    "tags": []
   },
   "outputs": [
    {
     "name": "stdout",
     "output_type": "stream",
     "text": [
      "Epoch 1/20\n",
      "295/295 - 10s - loss: 0.2887 - accuracy: 0.9104 - val_loss: 3.4393 - val_accuracy: 0.1538\n",
      "Epoch 2/20\n",
      "295/295 - 10s - loss: 0.1132 - accuracy: 0.9649 - val_loss: 0.2318 - val_accuracy: 0.9360\n",
      "Epoch 3/20\n",
      "295/295 - 10s - loss: 0.0890 - accuracy: 0.9731 - val_loss: 0.0473 - val_accuracy: 0.9864\n",
      "Epoch 4/20\n",
      "295/295 - 9s - loss: 0.0731 - accuracy: 0.9772 - val_loss: 0.0360 - val_accuracy: 0.9893\n",
      "Epoch 5/20\n",
      "295/295 - 9s - loss: 0.0664 - accuracy: 0.9803 - val_loss: 0.0743 - val_accuracy: 0.9748\n",
      "Epoch 6/20\n",
      "295/295 - 9s - loss: 0.0647 - accuracy: 0.9803 - val_loss: 0.0246 - val_accuracy: 0.9912\n",
      "Epoch 7/20\n",
      "295/295 - 11s - loss: 0.0580 - accuracy: 0.9831 - val_loss: 0.0250 - val_accuracy: 0.9921\n",
      "Epoch 8/20\n",
      "295/295 - 10s - loss: 0.0534 - accuracy: 0.9840 - val_loss: 0.0243 - val_accuracy: 0.9926\n",
      "Epoch 9/20\n",
      "295/295 - 10s - loss: 0.0496 - accuracy: 0.9856 - val_loss: 0.0532 - val_accuracy: 0.9826\n",
      "Epoch 10/20\n",
      "295/295 - 10s - loss: 0.0475 - accuracy: 0.9851 - val_loss: 0.0270 - val_accuracy: 0.9917\n",
      "Epoch 11/20\n",
      "295/295 - 9s - loss: 0.0447 - accuracy: 0.9864 - val_loss: 0.0323 - val_accuracy: 0.9898\n",
      "Epoch 12/20\n",
      "295/295 - 9s - loss: 0.0424 - accuracy: 0.9873 - val_loss: 0.0224 - val_accuracy: 0.9929\n",
      "Epoch 13/20\n",
      "295/295 - 11s - loss: 0.0412 - accuracy: 0.9872 - val_loss: 0.0357 - val_accuracy: 0.9898\n",
      "Epoch 14/20\n",
      "295/295 - 10s - loss: 0.0421 - accuracy: 0.9871 - val_loss: 0.0336 - val_accuracy: 0.9910\n",
      "Epoch 15/20\n",
      "295/295 - 9s - loss: 0.0385 - accuracy: 0.9884 - val_loss: 0.0252 - val_accuracy: 0.9914\n",
      "Epoch 16/20\n",
      "295/295 - 9s - loss: 0.0368 - accuracy: 0.9886 - val_loss: 0.0217 - val_accuracy: 0.9929\n",
      "Epoch 17/20\n",
      "295/295 - 10s - loss: 0.0388 - accuracy: 0.9884 - val_loss: 0.0297 - val_accuracy: 0.9921\n",
      "Epoch 18/20\n",
      "295/295 - 9s - loss: 0.0355 - accuracy: 0.9894 - val_loss: 0.0296 - val_accuracy: 0.9914\n",
      "Epoch 19/20\n",
      "295/295 - 9s - loss: 0.0321 - accuracy: 0.9896 - val_loss: 0.0208 - val_accuracy: 0.9933\n",
      "Epoch 20/20\n",
      "295/295 - 11s - loss: 0.0297 - accuracy: 0.9911 - val_loss: 0.0249 - val_accuracy: 0.9917\n"
     ]
    }
   ],
   "source": [
    "# Fit the model\n",
    "history = model.fit_generator(datagen.flow(X_train,Y_train, batch_size=batch_size),\n",
    "                              epochs = epochs, validation_data = (X_val,Y_val),\n",
    "                              verbose = 2, steps_per_epoch=X_train.shape[0] // batch_size, callbacks=[learning_rate_reduction]\n",
    "                              )"
   ]
  },
  {
   "cell_type": "markdown",
   "metadata": {
    "papermill": {
     "duration": 0.03572,
     "end_time": "2020-12-25T09:05:17.426788",
     "exception": false,
     "start_time": "2020-12-25T09:05:17.391068",
     "status": "completed"
    },
    "tags": []
   },
   "source": [
    "## 4. Evaulate The Model"
   ]
  },
  {
   "cell_type": "markdown",
   "metadata": {
    "papermill": {
     "duration": 0.038338,
     "end_time": "2020-12-25T09:05:17.500869",
     "exception": false,
     "start_time": "2020-12-25T09:05:17.462531",
     "status": "completed"
    },
    "tags": []
   },
   "source": [
    "### 4.1 Training and Validation Curves"
   ]
  },
  {
   "cell_type": "code",
   "execution_count": 17,
   "metadata": {
    "execution": {
     "iopub.execute_input": "2020-12-25T09:05:17.628505Z",
     "iopub.status.busy": "2020-12-25T09:05:17.627549Z",
     "iopub.status.idle": "2020-12-25T09:05:18.334129Z",
     "shell.execute_reply": "2020-12-25T09:05:18.333137Z"
    },
    "papermill": {
     "duration": 0.773025,
     "end_time": "2020-12-25T09:05:18.334231",
     "exception": false,
     "start_time": "2020-12-25T09:05:17.561206",
     "status": "completed"
    },
    "tags": []
   },
   "outputs": [
    {
     "data": {
      "image/png": "[encoded data removed]",
      "text/plain": [
       "<Figure size 432x288 with 2 Axes>"
      ]
     },
     "metadata": {},
     "output_type": "display_data"
    }
   ],
   "source": [
    "\n",
    "\n",
    "# Plot the loss and accuracy curves for training and validation \n",
    "fig, ax = plt.subplots(2,1)\n",
    "ax[0].plot(history.history['loss'], color='b', label=\"Training loss\")\n",
    "ax[0].plot(history.history['val_loss'], color='r', label=\"validation loss\",axes =ax[0])\n",
    "legend = ax[0].legend(loc='best', shadow=True)\n",
    "\n",
    "ax[1].plot(history.history['accuracy'], color='b', label=\"Training accuracy\")\n",
    "ax[1].plot(history.history['val_accuracy'], color='r',label=\"Validation accuracy\")\n",
    "legend = ax[1].legend(loc='best', shadow=True)\n",
    "\n"
   ]
  },
  {
   "cell_type": "markdown",
   "metadata": {
    "papermill": {
     "duration": 0.03749,
     "end_time": "2020-12-25T09:05:18.409449",
     "exception": false,
     "start_time": "2020-12-25T09:05:18.371959",
     "status": "completed"
    },
    "tags": []
   },
   "source": [
    "### 4.2 Confusion Matrix"
   ]
  },
  {
   "cell_type": "code",
   "execution_count": 18,
   "metadata": {
    "execution": {
     "iopub.execute_input": "2020-12-25T09:05:18.498237Z",
     "iopub.status.busy": "2020-12-25T09:05:18.497021Z",
     "iopub.status.idle": "2020-12-25T09:05:19.297812Z",
     "shell.execute_reply": "2020-12-25T09:05:19.297357Z"
    },
    "papermill": {
     "duration": 0.851564,
     "end_time": "2020-12-25T09:05:19.297909",
     "exception": false,
     "start_time": "2020-12-25T09:05:18.446345",
     "status": "completed"
    },
    "tags": []
   },
   "outputs": [
    {
     "data": {
      "image/png": "[encoded data removed]",
      "text/plain": [
       "<Figure size 432x288 with 2 Axes>"
      ]
     },
     "metadata": {},
     "output_type": "display_data"
    }
   ],
   "source": [
    "def plot_confusion_matrix(cm, classes,\n",
    "                          normalize=False,\n",
    "                          title='Confusion matrix',\n",
    "                          cmap=plt.cm.Blues):\n",
    "    \"\"\"\n",
    "    This function prints and plots the confusion matrix.\n",
    "    Normalization can be applied by setting `normalize=True`.\n",
    "    \"\"\"\n",
    "    plt.imshow(cm, interpolation='nearest', cmap=cmap)\n",
    "    plt.title(title)\n",
    "    plt.colorbar()\n",
    "    tick_marks = np.arange(len(classes))\n",
    "    plt.xticks(tick_marks, classes, rotation=45)\n",
    "    plt.yticks(tick_marks, classes)\n",
    "\n",
    "    if normalize:\n",
    "        cm = cm.astype('float') / cm.sum(axis=1)[:, np.newaxis]\n",
    "\n",
    "    thresh = cm.max() / 2.\n",
    "    for i, j in itertools.product(range(cm.shape[0]), range(cm.shape[1])):\n",
    "        plt.text(j, i, cm[i, j],\n",
    "                 horizontalalignment=\"center\",\n",
    "                 color=\"white\" if cm[i, j] > thresh else \"black\")\n",
    "\n",
    "    plt.tight_layout()\n",
    "    plt.ylabel('True label')\n",
    "    plt.xlabel('Predicted label')\n",
    "\n",
    "# Predict the values from the validation dataset\n",
    "Y_pred = model.predict(X_val)\n",
    "# Convert predictions classes to one hot vectors \n",
    "Y_pred_classes = np.argmax(Y_pred,axis = 1) \n",
    "# Convert validation observations to one hot vectors\n",
    "Y_true = np.argmax(Y_val,axis = 1) \n",
    "# compute the confusion matrix\n",
    "confusion_mtx = confusion_matrix(Y_true, Y_pred_classes) \n",
    "# plot the confusion matrix\n",
    "plot_confusion_matrix(confusion_mtx, classes = range(10)) \n",
    "\n"
   ]
  },
  {
   "cell_type": "markdown",
   "metadata": {
    "papermill": {
     "duration": 0.037797,
     "end_time": "2020-12-25T09:05:19.374001",
     "exception": false,
     "start_time": "2020-12-25T09:05:19.336204",
     "status": "completed"
    },
    "tags": []
   },
   "source": [
    "### 4.3 Examples of Inaccurate Predictions"
   ]
  },
  {
   "cell_type": "code",
   "execution_count": 19,
   "metadata": {
    "execution": {
     "iopub.execute_input": "2020-12-25T09:05:19.462746Z",
     "iopub.status.busy": "2020-12-25T09:05:19.461871Z",
     "iopub.status.idle": "2020-12-25T09:05:20.643339Z",
     "shell.execute_reply": "2020-12-25T09:05:20.643748Z"
    },
    "papermill": {
     "duration": 1.232177,
     "end_time": "2020-12-25T09:05:20.643920",
     "exception": false,
     "start_time": "2020-12-25T09:05:19.411743",
     "status": "completed"
    },
    "tags": []
   },
   "outputs": [
    {
     "data": {
      "image/png": "[encoded data removed]",
      "text/plain": [
       "<Figure size 432x288 with 6 Axes>"
      ]
     },
     "metadata": {},
     "output_type": "display_data"
    }
   ],
   "source": [
    "# Display some error results \n",
    "\n",
    "# Errors are difference between predicted labels and true labels\n",
    "errors = (Y_pred_classes - Y_true != 0)\n",
    "\n",
    "Y_pred_classes_errors = Y_pred_classes[errors]\n",
    "Y_pred_errors = Y_pred[errors]\n",
    "Y_true_errors = Y_true[errors]\n",
    "X_val_errors = X_val[errors]\n",
    "\n",
    "def display_errors(errors_index,img_errors,pred_errors, obs_errors):\n",
    "    \"\"\" This function shows 6 images with their predicted and real labels\"\"\"\n",
    "    n = 0\n",
    "    nrows = 2\n",
    "    ncols = 3\n",
    "    fig, ax = plt.subplots(nrows,ncols,sharex=True,sharey=True)\n",
    "    for row in range(nrows):\n",
    "        for col in range(ncols):\n",
    "            error = errors_index[n]\n",
    "            ax[row,col].imshow((img_errors[error]).reshape((28,28)))\n",
    "            ax[row,col].set_title(\"Predicted label :{}\\nTrue label :{}\".format(pred_errors[error],obs_errors[error]))\n",
    "            n += 1\n",
    "\n",
    "# Probabilities of the wrong predicted numbers\n",
    "Y_pred_errors_prob = np.max(Y_pred_errors,axis = 1)\n",
    "\n",
    "# Predicted probabilities of the true values in the error set\n",
    "true_prob_errors = np.diagonal(np.take(Y_pred_errors, Y_true_errors, axis=1))\n",
    "\n",
    "# Difference between the probability of the predicted label and the true label\n",
    "delta_pred_true_errors = Y_pred_errors_prob - true_prob_errors\n",
    "\n",
    "# Sorted list of the delta prob errors\n",
    "sorted_dela_errors = np.argsort(delta_pred_true_errors)\n",
    "\n",
    "# Top 6 errors \n",
    "most_important_errors = sorted_dela_errors[-6:]\n",
    "\n",
    "# Show the top 6 errors\n",
    "display_errors(most_important_errors, X_val_errors, Y_pred_classes_errors, Y_true_errors)"
   ]
  },
  {
   "cell_type": "markdown",
   "metadata": {
    "papermill": {
     "duration": 0.039852,
     "end_time": "2020-12-25T09:05:20.725449",
     "exception": false,
     "start_time": "2020-12-25T09:05:20.685597",
     "status": "completed"
    },
    "tags": []
   },
   "source": [
    "## 5. Prediction and Submission"
   ]
  },
  {
   "cell_type": "code",
   "execution_count": 20,
   "metadata": {
    "execution": {
     "iopub.execute_input": "2020-12-25T09:05:20.808410Z",
     "iopub.status.busy": "2020-12-25T09:05:20.807497Z",
     "iopub.status.idle": "2020-12-25T09:05:21.948354Z",
     "shell.execute_reply": "2020-12-25T09:05:21.947696Z"
    },
    "papermill": {
     "duration": 1.183796,
     "end_time": "2020-12-25T09:05:21.948475",
     "exception": false,
     "start_time": "2020-12-25T09:05:20.764679",
     "status": "completed"
    },
    "tags": []
   },
   "outputs": [],
   "source": [
    "# predict results\n",
    "results = model.predict(test)\n",
    "\n",
    "# select the indix with the maximum probability\n",
    "results = np.argmax(results,axis = 1)\n",
    "\n",
    "results = pd.Series(results,name=\"Label\")"
   ]
  },
  {
   "cell_type": "code",
   "execution_count": 21,
   "metadata": {
    "execution": {
     "iopub.execute_input": "2020-12-25T09:05:22.033985Z",
     "iopub.status.busy": "2020-12-25T09:05:22.032138Z",
     "iopub.status.idle": "2020-12-25T09:05:22.264563Z",
     "shell.execute_reply": "2020-12-25T09:05:22.263692Z"
    },
    "papermill": {
     "duration": 0.275883,
     "end_time": "2020-12-25T09:05:22.264702",
     "exception": false,
     "start_time": "2020-12-25T09:05:21.988819",
     "status": "completed"
    },
    "tags": []
   },
   "outputs": [],
   "source": [
    "\n",
    "\n",
    "submission = pd.concat([pd.Series(range(1,28001),name = \"ImageId\"),results],axis = 1)\n",
    "\n",
    "submission.to_csv(\"cnn_mnist_datagen.csv\",index=False)\n",
    "\n"
   ]
  }
 ],
 "metadata": {
  "kernelspec": {
   "display_name": "Python 3",
   "language": "python",
   "name": "python3"
  },
  "language_info": {
   "codemirror_mode": {
    "name": "ipython",
    "version": 3
   },
   "file_extension": ".py",
   "mimetype": "text/x-python",
   "name": "python",
   "nbconvert_exporter": "python",
   "pygments_lexer": "ipython3",
   "version": "3.7.6"
  },
  "papermill": {
   "duration": 226.753984,
   "end_time": "2020-12-25T09:05:24.197293",
   "environment_variables": {},
   "exception": null,
   "input_path": "__notebook__.ipynb",
   "output_path": "__notebook__.ipynb",
   "parameters": {},
   "start_time": "2020-12-25T09:01:37.443309",
   "version": "2.1.0"
  }
 },
 "nbformat": 4,
 "nbformat_minor": 4
}
