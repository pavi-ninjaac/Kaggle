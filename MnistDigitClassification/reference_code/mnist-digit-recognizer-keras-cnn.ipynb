{
 "cells": [
  {
   "cell_type": "code",
   "execution_count": 1,
   "metadata": {
    "execution": {
     "iopub.execute_input": "2020-12-28T01:07:35.324316Z",
     "iopub.status.busy": "2020-12-28T01:07:35.323661Z",
     "iopub.status.idle": "2020-12-28T01:07:42.702373Z",
     "shell.execute_reply": "2020-12-28T01:07:42.701816Z"
    },
    "papermill": {
     "duration": 7.415758,
     "end_time": "2020-12-28T01:07:42.703094",
     "exception": false,
     "start_time": "2020-12-28T01:07:35.287336",
     "status": "completed"
    },
    "tags": []
   },
   "outputs": [],
   "source": [
    "import numpy as np\n",
    "import pandas as pd\n",
    "\n",
    "from sklearn.model_selection import train_test_split\n",
    "\n",
    "from keras.preprocessing.image import ImageDataGenerator\n",
    "from keras.utils import to_categorical\n",
    "\n",
    "from keras.models import Sequential, load_model\n",
    "from keras.layers import Dense, Dropout, Flatten\n",
    "from keras.layers import Conv2D, MaxPooling2D, BatchNormalization\n",
    "from keras.optimizers import Adam\n",
    "\n",
    "from keras.callbacks import LearningRateScheduler\n",
    "from keras.callbacks import EarlyStopping"
   ]
  },
  {
   "cell_type": "markdown",
   "metadata": {
    "papermill": {
     "duration": 0.025038,
     "end_time": "2020-12-28T01:07:42.753982",
     "exception": false,
     "start_time": "2020-12-28T01:07:42.728944",
     "status": "completed"
    },
    "tags": []
   },
   "source": [
    "This notebook is a blend of what I have learned from other Kaggle Notebooks and external links.\n",
    "\n",
    "Appropriate external links are placed throughout the notebook and the following notebooks I found helpful are in the list below. \n",
    "\n",
    "Chinmay Rane -> https://www.kaggle.com/fuzzywizard/beginners-guide-to-cnn-accuracy-99-7\n",
    "\n",
    "DATAI -> https://www.kaggle.com/kanncaa1/convolutional-neural-network-cnn-tutorial\n",
    "\n",
    "Chris Deotte -> https://www.kaggle.com/cdeotte/25-million-images-0-99757-mnist"
   ]
  },
  {
   "cell_type": "markdown",
   "metadata": {
    "papermill": {
     "duration": 0.026124,
     "end_time": "2020-12-28T01:07:42.807079",
     "exception": false,
     "start_time": "2020-12-28T01:07:42.780955",
     "status": "completed"
    },
    "tags": []
   },
   "source": [
    "# Loading Data"
   ]
  },
  {
   "cell_type": "code",
   "execution_count": 2,
   "metadata": {
    "execution": {
     "iopub.execute_input": "2020-12-28T01:07:42.867892Z",
     "iopub.status.busy": "2020-12-28T01:07:42.867049Z",
     "iopub.status.idle": "2020-12-28T01:07:48.589742Z",
     "shell.execute_reply": "2020-12-28T01:07:48.588400Z"
    },
    "papermill": {
     "duration": 5.756736,
     "end_time": "2020-12-28T01:07:48.589880",
     "exception": false,
     "start_time": "2020-12-28T01:07:42.833144",
     "status": "completed"
    },
    "tags": []
   },
   "outputs": [],
   "source": [
    "#loading data\n",
    "train = pd.read_csv('../input/digit-recognizer/train.csv')\n",
    "test = pd.read_csv('../input/digit-recognizer/test.csv')\n",
    "df = train.copy()\n",
    "df_test = test.copy()"
   ]
  },
  {
   "cell_type": "code",
   "execution_count": 3,
   "metadata": {
    "execution": {
     "iopub.execute_input": "2020-12-28T01:07:48.673456Z",
     "iopub.status.busy": "2020-12-28T01:07:48.672638Z",
     "iopub.status.idle": "2020-12-28T01:07:51.333382Z",
     "shell.execute_reply": "2020-12-28T01:07:51.332540Z"
    },
    "papermill": {
     "duration": 2.703831,
     "end_time": "2020-12-28T01:07:51.333535",
     "exception": false,
     "start_time": "2020-12-28T01:07:48.629704",
     "status": "completed"
    },
    "tags": []
   },
   "outputs": [
    {
     "data": {
      "text/html": [
       "<div>\n",
       "<style scoped>\n",
       "    .dataframe tbody tr th:only-of-type {\n",
       "        vertical-align: middle;\n",
       "    }\n",
       "\n",
       "    .dataframe tbody tr th {\n",
       "        vertical-align: top;\n",
       "    }\n",
       "\n",
       "    .dataframe thead th {\n",
       "        text-align: right;\n",
       "    }\n",
       "</style>\n",
       "<table border=\"1\" class=\"dataframe\">\n",
       "  <thead>\n",
       "    <tr style=\"text-align: right;\">\n",
       "      <th></th>\n",
       "      <th>label</th>\n",
       "      <th>pixel0</th>\n",
       "      <th>pixel1</th>\n",
       "      <th>pixel2</th>\n",
       "      <th>pixel3</th>\n",
       "      <th>pixel4</th>\n",
       "      <th>pixel5</th>\n",
       "      <th>pixel6</th>\n",
       "      <th>pixel7</th>\n",
       "      <th>pixel8</th>\n",
       "      <th>...</th>\n",
       "      <th>pixel774</th>\n",
       "      <th>pixel775</th>\n",
       "      <th>pixel776</th>\n",
       "      <th>pixel777</th>\n",
       "      <th>pixel778</th>\n",
       "      <th>pixel779</th>\n",
       "      <th>pixel780</th>\n",
       "      <th>pixel781</th>\n",
       "      <th>pixel782</th>\n",
       "      <th>pixel783</th>\n",
       "    </tr>\n",
       "  </thead>\n",
       "  <tbody>\n",
       "    <tr>\n",
       "      <th>count</th>\n",
       "      <td>42000.000000</td>\n",
       "      <td>42000.0</td>\n",
       "      <td>42000.0</td>\n",
       "      <td>42000.0</td>\n",
       "      <td>42000.0</td>\n",
       "      <td>42000.0</td>\n",
       "      <td>42000.0</td>\n",
       "      <td>42000.0</td>\n",
       "      <td>42000.0</td>\n",
       "      <td>42000.0</td>\n",
       "      <td>...</td>\n",
       "      <td>42000.000000</td>\n",
       "      <td>42000.000000</td>\n",
       "      <td>42000.000000</td>\n",
       "      <td>42000.00000</td>\n",
       "      <td>42000.000000</td>\n",
       "      <td>42000.000000</td>\n",
       "      <td>42000.0</td>\n",
       "      <td>42000.0</td>\n",
       "      <td>42000.0</td>\n",
       "      <td>42000.0</td>\n",
       "    </tr>\n",
       "    <tr>\n",
       "      <th>mean</th>\n",
       "      <td>4.456643</td>\n",
       "      <td>0.0</td>\n",
       "      <td>0.0</td>\n",
       "      <td>0.0</td>\n",
       "      <td>0.0</td>\n",
       "      <td>0.0</td>\n",
       "      <td>0.0</td>\n",
       "      <td>0.0</td>\n",
       "      <td>0.0</td>\n",
       "      <td>0.0</td>\n",
       "      <td>...</td>\n",
       "      <td>0.219286</td>\n",
       "      <td>0.117095</td>\n",
       "      <td>0.059024</td>\n",
       "      <td>0.02019</td>\n",
       "      <td>0.017238</td>\n",
       "      <td>0.002857</td>\n",
       "      <td>0.0</td>\n",
       "      <td>0.0</td>\n",
       "      <td>0.0</td>\n",
       "      <td>0.0</td>\n",
       "    </tr>\n",
       "    <tr>\n",
       "      <th>std</th>\n",
       "      <td>2.887730</td>\n",
       "      <td>0.0</td>\n",
       "      <td>0.0</td>\n",
       "      <td>0.0</td>\n",
       "      <td>0.0</td>\n",
       "      <td>0.0</td>\n",
       "      <td>0.0</td>\n",
       "      <td>0.0</td>\n",
       "      <td>0.0</td>\n",
       "      <td>0.0</td>\n",
       "      <td>...</td>\n",
       "      <td>6.312890</td>\n",
       "      <td>4.633819</td>\n",
       "      <td>3.274488</td>\n",
       "      <td>1.75987</td>\n",
       "      <td>1.894498</td>\n",
       "      <td>0.414264</td>\n",
       "      <td>0.0</td>\n",
       "      <td>0.0</td>\n",
       "      <td>0.0</td>\n",
       "      <td>0.0</td>\n",
       "    </tr>\n",
       "    <tr>\n",
       "      <th>min</th>\n",
       "      <td>0.000000</td>\n",
       "      <td>0.0</td>\n",
       "      <td>0.0</td>\n",
       "      <td>0.0</td>\n",
       "      <td>0.0</td>\n",
       "      <td>0.0</td>\n",
       "      <td>0.0</td>\n",
       "      <td>0.0</td>\n",
       "      <td>0.0</td>\n",
       "      <td>0.0</td>\n",
       "      <td>...</td>\n",
       "      <td>0.000000</td>\n",
       "      <td>0.000000</td>\n",
       "      <td>0.000000</td>\n",
       "      <td>0.00000</td>\n",
       "      <td>0.000000</td>\n",
       "      <td>0.000000</td>\n",
       "      <td>0.0</td>\n",
       "      <td>0.0</td>\n",
       "      <td>0.0</td>\n",
       "      <td>0.0</td>\n",
       "    </tr>\n",
       "    <tr>\n",
       "      <th>25%</th>\n",
       "      <td>2.000000</td>\n",
       "      <td>0.0</td>\n",
       "      <td>0.0</td>\n",
       "      <td>0.0</td>\n",
       "      <td>0.0</td>\n",
       "      <td>0.0</td>\n",
       "      <td>0.0</td>\n",
       "      <td>0.0</td>\n",
       "      <td>0.0</td>\n",
       "      <td>0.0</td>\n",
       "      <td>...</td>\n",
       "      <td>0.000000</td>\n",
       "      <td>0.000000</td>\n",
       "      <td>0.000000</td>\n",
       "      <td>0.00000</td>\n",
       "      <td>0.000000</td>\n",
       "      <td>0.000000</td>\n",
       "      <td>0.0</td>\n",
       "      <td>0.0</td>\n",
       "      <td>0.0</td>\n",
       "      <td>0.0</td>\n",
       "    </tr>\n",
       "    <tr>\n",
       "      <th>50%</th>\n",
       "      <td>4.000000</td>\n",
       "      <td>0.0</td>\n",
       "      <td>0.0</td>\n",
       "      <td>0.0</td>\n",
       "      <td>0.0</td>\n",
       "      <td>0.0</td>\n",
       "      <td>0.0</td>\n",
       "      <td>0.0</td>\n",
       "      <td>0.0</td>\n",
       "      <td>0.0</td>\n",
       "      <td>...</td>\n",
       "      <td>0.000000</td>\n",
       "      <td>0.000000</td>\n",
       "      <td>0.000000</td>\n",
       "      <td>0.00000</td>\n",
       "      <td>0.000000</td>\n",
       "      <td>0.000000</td>\n",
       "      <td>0.0</td>\n",
       "      <td>0.0</td>\n",
       "      <td>0.0</td>\n",
       "      <td>0.0</td>\n",
       "    </tr>\n",
       "    <tr>\n",
       "      <th>75%</th>\n",
       "      <td>7.000000</td>\n",
       "      <td>0.0</td>\n",
       "      <td>0.0</td>\n",
       "      <td>0.0</td>\n",
       "      <td>0.0</td>\n",
       "      <td>0.0</td>\n",
       "      <td>0.0</td>\n",
       "      <td>0.0</td>\n",
       "      <td>0.0</td>\n",
       "      <td>0.0</td>\n",
       "      <td>...</td>\n",
       "      <td>0.000000</td>\n",
       "      <td>0.000000</td>\n",
       "      <td>0.000000</td>\n",
       "      <td>0.00000</td>\n",
       "      <td>0.000000</td>\n",
       "      <td>0.000000</td>\n",
       "      <td>0.0</td>\n",
       "      <td>0.0</td>\n",
       "      <td>0.0</td>\n",
       "      <td>0.0</td>\n",
       "    </tr>\n",
       "    <tr>\n",
       "      <th>max</th>\n",
       "      <td>9.000000</td>\n",
       "      <td>0.0</td>\n",
       "      <td>0.0</td>\n",
       "      <td>0.0</td>\n",
       "      <td>0.0</td>\n",
       "      <td>0.0</td>\n",
       "      <td>0.0</td>\n",
       "      <td>0.0</td>\n",
       "      <td>0.0</td>\n",
       "      <td>0.0</td>\n",
       "      <td>...</td>\n",
       "      <td>254.000000</td>\n",
       "      <td>254.000000</td>\n",
       "      <td>253.000000</td>\n",
       "      <td>253.00000</td>\n",
       "      <td>254.000000</td>\n",
       "      <td>62.000000</td>\n",
       "      <td>0.0</td>\n",
       "      <td>0.0</td>\n",
       "      <td>0.0</td>\n",
       "      <td>0.0</td>\n",
       "    </tr>\n",
       "  </tbody>\n",
       "</table>\n",
       "<p>8 rows × 785 columns</p>\n",
       "</div>"
      ],
      "text/plain": [
       "              label   pixel0   pixel1   pixel2   pixel3   pixel4   pixel5  \\\n",
       "count  42000.000000  42000.0  42000.0  42000.0  42000.0  42000.0  42000.0   \n",
       "mean       4.456643      0.0      0.0      0.0      0.0      0.0      0.0   \n",
       "std        2.887730      0.0      0.0      0.0      0.0      0.0      0.0   \n",
       "min        0.000000      0.0      0.0      0.0      0.0      0.0      0.0   \n",
       "25%        2.000000      0.0      0.0      0.0      0.0      0.0      0.0   \n",
       "50%        4.000000      0.0      0.0      0.0      0.0      0.0      0.0   \n",
       "75%        7.000000      0.0      0.0      0.0      0.0      0.0      0.0   \n",
       "max        9.000000      0.0      0.0      0.0      0.0      0.0      0.0   \n",
       "\n",
       "        pixel6   pixel7   pixel8  ...      pixel774      pixel775  \\\n",
       "count  42000.0  42000.0  42000.0  ...  42000.000000  42000.000000   \n",
       "mean       0.0      0.0      0.0  ...      0.219286      0.117095   \n",
       "std        0.0      0.0      0.0  ...      6.312890      4.633819   \n",
       "min        0.0      0.0      0.0  ...      0.000000      0.000000   \n",
       "25%        0.0      0.0      0.0  ...      0.000000      0.000000   \n",
       "50%        0.0      0.0      0.0  ...      0.000000      0.000000   \n",
       "75%        0.0      0.0      0.0  ...      0.000000      0.000000   \n",
       "max        0.0      0.0      0.0  ...    254.000000    254.000000   \n",
       "\n",
       "           pixel776     pixel777      pixel778      pixel779  pixel780  \\\n",
       "count  42000.000000  42000.00000  42000.000000  42000.000000   42000.0   \n",
       "mean       0.059024      0.02019      0.017238      0.002857       0.0   \n",
       "std        3.274488      1.75987      1.894498      0.414264       0.0   \n",
       "min        0.000000      0.00000      0.000000      0.000000       0.0   \n",
       "25%        0.000000      0.00000      0.000000      0.000000       0.0   \n",
       "50%        0.000000      0.00000      0.000000      0.000000       0.0   \n",
       "75%        0.000000      0.00000      0.000000      0.000000       0.0   \n",
       "max      253.000000    253.00000    254.000000     62.000000       0.0   \n",
       "\n",
       "       pixel781  pixel782  pixel783  \n",
       "count   42000.0   42000.0   42000.0  \n",
       "mean        0.0       0.0       0.0  \n",
       "std         0.0       0.0       0.0  \n",
       "min         0.0       0.0       0.0  \n",
       "25%         0.0       0.0       0.0  \n",
       "50%         0.0       0.0       0.0  \n",
       "75%         0.0       0.0       0.0  \n",
       "max         0.0       0.0       0.0  \n",
       "\n",
       "[8 rows x 785 columns]"
      ]
     },
     "execution_count": 3,
     "metadata": {},
     "output_type": "execute_result"
    }
   ],
   "source": [
    "#Just having a look at the data\n",
    "df.describe()"
   ]
  },
  {
   "cell_type": "markdown",
   "metadata": {
    "papermill": {
     "duration": 0.040866,
     "end_time": "2020-12-28T01:07:51.415795",
     "exception": false,
     "start_time": "2020-12-28T01:07:51.374929",
     "status": "completed"
    },
    "tags": []
   },
   "source": [
    "we can see there is one column that has the label and the rest are the image pixels!"
   ]
  },
  {
   "cell_type": "code",
   "execution_count": 4,
   "metadata": {
    "execution": {
     "iopub.execute_input": "2020-12-28T01:07:51.504367Z",
     "iopub.status.busy": "2020-12-28T01:07:51.503239Z",
     "iopub.status.idle": "2020-12-28T01:07:51.517468Z",
     "shell.execute_reply": "2020-12-28T01:07:51.516961Z"
    },
    "papermill": {
     "duration": 0.060567,
     "end_time": "2020-12-28T01:07:51.517572",
     "exception": false,
     "start_time": "2020-12-28T01:07:51.457005",
     "status": "completed"
    },
    "tags": []
   },
   "outputs": [
    {
     "data": {
      "text/plain": [
       "0"
      ]
     },
     "execution_count": 4,
     "metadata": {},
     "output_type": "execute_result"
    }
   ],
   "source": [
    "#check for any missing values in train data\n",
    "df.isnull().any().sum()"
   ]
  },
  {
   "cell_type": "code",
   "execution_count": 5,
   "metadata": {
    "execution": {
     "iopub.execute_input": "2020-12-28T01:07:51.577284Z",
     "iopub.status.busy": "2020-12-28T01:07:51.576707Z",
     "iopub.status.idle": "2020-12-28T01:07:51.588243Z",
     "shell.execute_reply": "2020-12-28T01:07:51.587759Z"
    },
    "papermill": {
     "duration": 0.043506,
     "end_time": "2020-12-28T01:07:51.588349",
     "exception": false,
     "start_time": "2020-12-28T01:07:51.544843",
     "status": "completed"
    },
    "tags": []
   },
   "outputs": [
    {
     "data": {
      "text/plain": [
       "0"
      ]
     },
     "execution_count": 5,
     "metadata": {},
     "output_type": "execute_result"
    }
   ],
   "source": [
    "#check for any missing values in test data\n",
    "df_test.isnull().any().sum()"
   ]
  },
  {
   "cell_type": "markdown",
   "metadata": {
    "papermill": {
     "duration": 0.027633,
     "end_time": "2020-12-28T01:07:51.644129",
     "exception": false,
     "start_time": "2020-12-28T01:07:51.616496",
     "status": "completed"
    },
    "tags": []
   },
   "source": [
    "# Data PreProcessing"
   ]
  },
  {
   "cell_type": "code",
   "execution_count": 6,
   "metadata": {
    "execution": {
     "iopub.execute_input": "2020-12-28T01:07:51.704877Z",
     "iopub.status.busy": "2020-12-28T01:07:51.704210Z",
     "iopub.status.idle": "2020-12-28T01:07:51.707587Z",
     "shell.execute_reply": "2020-12-28T01:07:51.707060Z"
    },
    "papermill": {
     "duration": 0.035523,
     "end_time": "2020-12-28T01:07:51.707705",
     "exception": false,
     "start_time": "2020-12-28T01:07:51.672182",
     "status": "completed"
    },
    "tags": []
   },
   "outputs": [],
   "source": [
    "## Setting the seeds for Reproducibility.\n",
    "seed = 2718 #eulers constant\n",
    "np.random.seed(seed)"
   ]
  },
  {
   "cell_type": "markdown",
   "metadata": {
    "papermill": {
     "duration": 0.028585,
     "end_time": "2020-12-28T01:07:51.764354",
     "exception": false,
     "start_time": "2020-12-28T01:07:51.735769",
     "status": "completed"
    },
    "tags": []
   },
   "source": [
    "### Splitting Train and Test Data"
   ]
  },
  {
   "cell_type": "code",
   "execution_count": 7,
   "metadata": {
    "execution": {
     "iopub.execute_input": "2020-12-28T01:07:51.828271Z",
     "iopub.status.busy": "2020-12-28T01:07:51.826697Z",
     "iopub.status.idle": "2020-12-28T01:07:51.995370Z",
     "shell.execute_reply": "2020-12-28T01:07:51.994854Z"
    },
    "papermill": {
     "duration": 0.203419,
     "end_time": "2020-12-28T01:07:51.995505",
     "exception": false,
     "start_time": "2020-12-28T01:07:51.792086",
     "status": "completed"
    },
    "tags": []
   },
   "outputs": [],
   "source": [
    "# X is the pixels and Y is the image labels\n",
    "X = train.iloc[:,1:]\n",
    "Y = train.iloc[:,0]\n",
    "\n",
    "#splitting dataframe using train_test_split\n",
    "x_train , x_test , y_train , y_test = train_test_split(X, Y , test_size=0.1, random_state=seed)"
   ]
  },
  {
   "cell_type": "markdown",
   "metadata": {
    "papermill": {
     "duration": 0.027346,
     "end_time": "2020-12-28T01:07:52.050562",
     "exception": false,
     "start_time": "2020-12-28T01:07:52.023216",
     "status": "completed"
    },
    "tags": []
   },
   "source": [
    "### Reshaping Images\n",
    "\n",
    "- we have a 1D vecotr with 784 pixels and we have to reshape it to (28x28x1) before passing it to the CNN. \n",
    "\n",
    "- This is because Keras wants an Extra Dimension in the end, for channels. If this had been RGB images, there would have been 3 channels, but as MNIST is gray scale it only uses 1."
   ]
  },
  {
   "cell_type": "code",
   "execution_count": 8,
   "metadata": {
    "execution": {
     "iopub.execute_input": "2020-12-28T01:07:52.114889Z",
     "iopub.status.busy": "2020-12-28T01:07:52.114142Z",
     "iopub.status.idle": "2020-12-28T01:07:52.117293Z",
     "shell.execute_reply": "2020-12-28T01:07:52.116782Z"
    },
    "papermill": {
     "duration": 0.037698,
     "end_time": "2020-12-28T01:07:52.117400",
     "exception": false,
     "start_time": "2020-12-28T01:07:52.079702",
     "status": "completed"
    },
    "tags": []
   },
   "outputs": [],
   "source": [
    "#first param in reshape is number of examples. We can pass -1 here as we want numpy to figure that out by itself\n",
    "\n",
    "#reshape(examples, height, width, channels)\n",
    "x_train = x_train.values.reshape(-1, 28, 28, 1)\n",
    "x_test = x_test.values.reshape(-1, 28, 28, 1)\n",
    "df_test=df_test.values.reshape(-1,28,28,1)"
   ]
  },
  {
   "cell_type": "markdown",
   "metadata": {
    "papermill": {
     "duration": 0.027409,
     "end_time": "2020-12-28T01:07:52.172894",
     "exception": false,
     "start_time": "2020-12-28T01:07:52.145485",
     "status": "completed"
    },
    "tags": []
   },
   "source": [
    "### Data Augmentation"
   ]
  },
  {
   "cell_type": "markdown",
   "metadata": {
    "papermill": {
     "duration": 0.027241,
     "end_time": "2020-12-28T01:07:52.227589",
     "exception": false,
     "start_time": "2020-12-28T01:07:52.200348",
     "status": "completed"
    },
    "tags": []
   },
   "source": [
    "Data augmentation is super important.  In terms of Images it means we can increase the number of images our model sees. \n",
    "\n",
    "This can be acheived by Rotating the Image, Flipping the Image, Zooming the Image, Changing light conditions, Cropping it etc.\n",
    "\n",
    "Keep in mind doing all these things will not always help the model. For example in our situation a vertical_flip would not be wise as 6's would become 9's and vice-versa."
   ]
  },
  {
   "cell_type": "code",
   "execution_count": 9,
   "metadata": {
    "execution": {
     "iopub.execute_input": "2020-12-28T01:07:52.323074Z",
     "iopub.status.busy": "2020-12-28T01:07:52.321895Z",
     "iopub.status.idle": "2020-12-28T01:07:52.328301Z",
     "shell.execute_reply": "2020-12-28T01:07:52.327269Z"
    },
    "papermill": {
     "duration": 0.064405,
     "end_time": "2020-12-28T01:07:52.328499",
     "exception": false,
     "start_time": "2020-12-28T01:07:52.264094",
     "status": "completed"
    },
    "tags": []
   },
   "outputs": [],
   "source": [
    "datagen = ImageDataGenerator(\n",
    "            featurewise_center=False,  # set input mean to 0 over the dataset\n",
    "            samplewise_center=False,  # set each sample mean to 0\n",
    "            featurewise_std_normalization=False,  # divide inputs by std of the dataset\n",
    "            samplewise_std_normalization=False,  # divide each input by its std\n",
    "            zca_whitening=False,  # apply ZCA whitening\n",
    "            rotation_range=10,  # randomly rotate images in the range (degrees, 0 to 180)\n",
    "            zoom_range = 0.1, # Randomly zoom image \n",
    "            width_shift_range=0.1,  # randomly shift images horizontally (fraction of total width)\n",
    "            height_shift_range=0.1,  # randomly shift images vertically (fraction of total height)\n",
    "            horizontal_flip=False,  # randomly flip images\n",
    "            vertical_flip=False)  # randomly flip images"
   ]
  },
  {
   "cell_type": "markdown",
   "metadata": {
    "papermill": {
     "duration": 0.042752,
     "end_time": "2020-12-28T01:07:52.418068",
     "exception": false,
     "start_time": "2020-12-28T01:07:52.375316",
     "status": "completed"
    },
    "tags": []
   },
   "source": [
    "### Normalization"
   ]
  },
  {
   "cell_type": "markdown",
   "metadata": {
    "papermill": {
     "duration": 0.041754,
     "end_time": "2020-12-28T01:07:52.504147",
     "exception": false,
     "start_time": "2020-12-28T01:07:52.462393",
     "status": "completed"
    },
    "tags": []
   },
   "source": [
    "Pixel values are often stored as integers in the range 0 to 255, which is the range that int-8 can offer.\n",
    "\n",
    "\n",
    "Normalization:\n",
    "\n",
    "1. Sets the value of inputs between 0-1\n",
    "2. Helps Gradient Descent Converge much faster\n",
    "3. Brings features to equal level and weightage\n",
    "4. Helps remove distortians in an image caused by light and shadows "
   ]
  },
  {
   "cell_type": "code",
   "execution_count": 10,
   "metadata": {
    "execution": {
     "iopub.execute_input": "2020-12-28T01:07:52.595133Z",
     "iopub.status.busy": "2020-12-28T01:07:52.594291Z",
     "iopub.status.idle": "2020-12-28T01:07:52.682585Z",
     "shell.execute_reply": "2020-12-28T01:07:52.683235Z"
    },
    "papermill": {
     "duration": 0.13673,
     "end_time": "2020-12-28T01:07:52.683402",
     "exception": false,
     "start_time": "2020-12-28T01:07:52.546672",
     "status": "completed"
    },
    "tags": []
   },
   "outputs": [],
   "source": [
    "#convert values to float as result will be a float. If not done vals are set to zero\n",
    "\n",
    "x_train = x_train.astype(\"float32\")/255\n",
    "x_test = x_test.astype(\"float32\")/255\n",
    "df_test = df_test.astype(\"float32\")/255"
   ]
  },
  {
   "cell_type": "code",
   "execution_count": 11,
   "metadata": {
    "execution": {
     "iopub.execute_input": "2020-12-28T01:07:52.775693Z",
     "iopub.status.busy": "2020-12-28T01:07:52.774564Z",
     "iopub.status.idle": "2020-12-28T01:07:52.796452Z",
     "shell.execute_reply": "2020-12-28T01:07:52.795692Z"
    },
    "papermill": {
     "duration": 0.069764,
     "end_time": "2020-12-28T01:07:52.796579",
     "exception": false,
     "start_time": "2020-12-28T01:07:52.726815",
     "status": "completed"
    },
    "tags": []
   },
   "outputs": [],
   "source": [
    "#fitting the ImageDataGenerator we defined above\n",
    "datagen.fit(x_train)"
   ]
  },
  {
   "cell_type": "markdown",
   "metadata": {
    "papermill": {
     "duration": 0.042703,
     "end_time": "2020-12-28T01:07:52.883095",
     "exception": false,
     "start_time": "2020-12-28T01:07:52.840392",
     "status": "completed"
    },
    "tags": []
   },
   "source": [
    "### One hot encoding labels\n",
    "\n",
    "The labels are given as integers between 0-9. We need to one hot encode them.\n",
    "\n",
    "For example 4 looks like this: [0, 0, 0, 1, 0, 0, 0, 0, 0, 0]\n",
    "\n",
    "This is done so that we have labels for all the classes, and we can easily carry out the Error/Cost during BackPropogation.\n",
    "\n"
   ]
  },
  {
   "cell_type": "code",
   "execution_count": 12,
   "metadata": {
    "execution": {
     "iopub.execute_input": "2020-12-28T01:07:52.974414Z",
     "iopub.status.busy": "2020-12-28T01:07:52.973645Z",
     "iopub.status.idle": "2020-12-28T01:07:52.981802Z",
     "shell.execute_reply": "2020-12-28T01:07:52.980875Z"
    },
    "papermill": {
     "duration": 0.056125,
     "end_time": "2020-12-28T01:07:52.981977",
     "exception": false,
     "start_time": "2020-12-28T01:07:52.925852",
     "status": "completed"
    },
    "tags": []
   },
   "outputs": [
    {
     "name": "stdout",
     "output_type": "stream",
     "text": [
      "[0. 0. 0. 0. 0. 0. 0. 0. 1. 0.]\n"
     ]
    }
   ],
   "source": [
    "#notice num_classes is set to 10 as we have 10 different labels\n",
    "y_train = to_categorical(y_train, num_classes=10)\n",
    "y_test = to_categorical(y_test, num_classes=10)\n",
    "\n",
    "print(y_train[0])"
   ]
  },
  {
   "cell_type": "markdown",
   "metadata": {
    "papermill": {
     "duration": 0.045764,
     "end_time": "2020-12-28T01:07:53.072242",
     "exception": false,
     "start_time": "2020-12-28T01:07:53.026478",
     "status": "completed"
    },
    "tags": []
   },
   "source": [
    "# Building CNN Model\n",
    "\n",
    "For image classification CNN's are the best\n",
    "\n",
    "NOTE: the hardest part is picking right model by understanding the data rather than by tuning hyperparameters\n",
    "\n",
    "A larger training dataset will really help CNN accuracy"
   ]
  },
  {
   "cell_type": "markdown",
   "metadata": {
    "papermill": {
     "duration": 0.043227,
     "end_time": "2020-12-28T01:07:53.161283",
     "exception": false,
     "start_time": "2020-12-28T01:07:53.118056",
     "status": "completed"
    },
    "tags": []
   },
   "source": [
    "Steps:\n",
    "\n",
    "1. Use Sequential Keras API \n",
    "2. Add Convolutional Layers - Building blocks of ConvNets and what do the heavy computation\n",
    "3. Add Pooling Layers - Steps along image - reduces params and decreases likelihood of overfitting\n",
    "4. Add Batch Normalization Layer - Scales down outliers, and forces NN to not relying too much on a Particular Weight\n",
    "5. Add Dropout Layer -  Regularization Technique that randomly drops a percentage of neurons to avoid overfitting (usually 20% - 50%)\n",
    "6. Add Flatten Layer - Flattens the input as a 1D vector\n",
    "7. Add Output Layer - Units equals number of classes. Sigmoid for Binary Classification, Softmax in case of Multi-Class Classification."
   ]
  },
  {
   "cell_type": "code",
   "execution_count": 13,
   "metadata": {
    "execution": {
     "iopub.execute_input": "2020-12-28T01:07:53.263503Z",
     "iopub.status.busy": "2020-12-28T01:07:53.257255Z",
     "iopub.status.idle": "2020-12-28T01:07:53.670368Z",
     "shell.execute_reply": "2020-12-28T01:07:53.669582Z"
    },
    "papermill": {
     "duration": 0.465515,
     "end_time": "2020-12-28T01:07:53.670511",
     "exception": false,
     "start_time": "2020-12-28T01:07:53.204996",
     "status": "completed"
    },
    "tags": []
   },
   "outputs": [],
   "source": [
    "# Building ConvNet\n",
    "\n",
    "model = Sequential()\n",
    "\n",
    "model.add(Conv2D(filters=32, kernel_size=(3, 3), activation='relu', strides=1, padding='same', data_format='channels_last',\n",
    "                 input_shape=(28,28,1)))\n",
    "model.add(BatchNormalization())\n",
    "model.add(Conv2D(filters=32, kernel_size=(3, 3), activation='relu', strides=1, padding='same', data_format='channels_last'))\n",
    "model.add(BatchNormalization())\n",
    "model.add(MaxPooling2D(pool_size=(2, 2), strides=2, padding='valid' ))\n",
    "model.add(Dropout(0.25))\n",
    "\n",
    "model.add(Conv2D(filters=64, kernel_size=(3, 3), activation='relu', strides=1, padding='same', data_format='channels_last'))\n",
    "model.add(BatchNormalization())\n",
    "model.add(Conv2D(filters=64, kernel_size=(3, 3), strides=1, padding='same', activation='relu', data_format='channels_last'))\n",
    "model.add(BatchNormalization())\n",
    "model.add(MaxPooling2D(pool_size=(2, 2), padding='valid', strides=2))\n",
    "model.add(Dropout(0.25))\n",
    "\n",
    "model.add(Flatten())\n",
    "model.add(Dense(512, activation='relu'))\n",
    "model.add(BatchNormalization())\n",
    "model.add(Dropout(0.25))\n",
    "model.add(Dense(1024, activation='relu'))\n",
    "model.add(BatchNormalization())\n",
    "model.add(Dropout(0.5))\n",
    "model.add(Dense(10, activation='softmax'))"
   ]
  },
  {
   "cell_type": "markdown",
   "metadata": {
    "papermill": {
     "duration": 0.02952,
     "end_time": "2020-12-28T01:07:53.729689",
     "exception": false,
     "start_time": "2020-12-28T01:07:53.700169",
     "status": "completed"
    },
    "tags": []
   },
   "source": [
    "# Compiling Model (configure learning process)\n",
    "\n",
    "Before training the model we need to make sure we specify how the model will \"learn\"\n",
    "\n",
    "1. Specify the Optimizer - The optimizer help us minimize the error function. Examples - RMSprop, Adam, AdaGrad, AdaDelta\n",
    "2. Specify Loss Function -  For Binary Classification use \"binary_crossentropy\" and for Multi-class Classification use \"categorical_crossentropy\"\n",
    "3. Specify the metrics to evaluate model performance\n",
    "\n"
   ]
  },
  {
   "cell_type": "markdown",
   "metadata": {
    "papermill": {
     "duration": 0.028269,
     "end_time": "2020-12-28T01:07:53.788611",
     "exception": false,
     "start_time": "2020-12-28T01:07:53.760342",
     "status": "completed"
    },
    "tags": []
   },
   "source": [
    "Great article here to understand the ADAM optimizer -> https://machinelearningmastery.com/adam-optimization-algorithm-for-deep-learning/"
   ]
  },
  {
   "cell_type": "code",
   "execution_count": 14,
   "metadata": {
    "execution": {
     "iopub.execute_input": "2020-12-28T01:07:53.852750Z",
     "iopub.status.busy": "2020-12-28T01:07:53.851853Z",
     "iopub.status.idle": "2020-12-28T01:07:53.853656Z",
     "shell.execute_reply": "2020-12-28T01:07:53.854348Z"
    },
    "papermill": {
     "duration": 0.037762,
     "end_time": "2020-12-28T01:07:53.854535",
     "exception": false,
     "start_time": "2020-12-28T01:07:53.816773",
     "status": "completed"
    },
    "tags": []
   },
   "outputs": [],
   "source": [
    "#Optimizer\n",
    "optimizer = Adam(lr=0.001, beta_1=0.9, beta_2=0.999 )"
   ]
  },
  {
   "cell_type": "code",
   "execution_count": 15,
   "metadata": {
    "execution": {
     "iopub.execute_input": "2020-12-28T01:07:53.947147Z",
     "iopub.status.busy": "2020-12-28T01:07:53.946317Z",
     "iopub.status.idle": "2020-12-28T01:07:53.959965Z",
     "shell.execute_reply": "2020-12-28T01:07:53.960670Z"
    },
    "papermill": {
     "duration": 0.061697,
     "end_time": "2020-12-28T01:07:53.960831",
     "exception": false,
     "start_time": "2020-12-28T01:07:53.899134",
     "status": "completed"
    },
    "tags": []
   },
   "outputs": [],
   "source": [
    "#Compiling the model\n",
    "model.compile(optimizer=optimizer, loss=\"categorical_crossentropy\", metrics=[\"accuracy\"])"
   ]
  },
  {
   "cell_type": "markdown",
   "metadata": {
    "papermill": {
     "duration": 0.044332,
     "end_time": "2020-12-28T01:07:54.049888",
     "exception": false,
     "start_time": "2020-12-28T01:07:54.005556",
     "status": "completed"
    },
    "tags": []
   },
   "source": [
    "Model Summary"
   ]
  },
  {
   "cell_type": "code",
   "execution_count": 16,
   "metadata": {
    "execution": {
     "iopub.execute_input": "2020-12-28T01:07:54.143452Z",
     "iopub.status.busy": "2020-12-28T01:07:54.142643Z",
     "iopub.status.idle": "2020-12-28T01:07:54.165521Z",
     "shell.execute_reply": "2020-12-28T01:07:54.164711Z"
    },
    "papermill": {
     "duration": 0.071286,
     "end_time": "2020-12-28T01:07:54.165676",
     "exception": false,
     "start_time": "2020-12-28T01:07:54.094390",
     "status": "completed"
    },
    "tags": []
   },
   "outputs": [
    {
     "name": "stdout",
     "output_type": "stream",
     "text": [
      "Model: \"sequential\"\n",
      "_________________________________________________________________\n",
      "Layer (type)                 Output Shape              Param #   \n",
      "=================================================================\n",
      "conv2d (Conv2D)              (None, 28, 28, 32)        320       \n",
      "_________________________________________________________________\n",
      "batch_normalization (BatchNo (None, 28, 28, 32)        128       \n",
      "_________________________________________________________________\n",
      "conv2d_1 (Conv2D)            (None, 28, 28, 32)        9248      \n",
      "_________________________________________________________________\n",
      "batch_normalization_1 (Batch (None, 28, 28, 32)        128       \n",
      "_________________________________________________________________\n",
      "max_pooling2d (MaxPooling2D) (None, 14, 14, 32)        0         \n",
      "_________________________________________________________________\n",
      "dropout (Dropout)            (None, 14, 14, 32)        0         \n",
      "_________________________________________________________________\n",
      "conv2d_2 (Conv2D)            (None, 14, 14, 64)        18496     \n",
      "_________________________________________________________________\n",
      "batch_normalization_2 (Batch (None, 14, 14, 64)        256       \n",
      "_________________________________________________________________\n",
      "conv2d_3 (Conv2D)            (None, 14, 14, 64)        36928     \n",
      "_________________________________________________________________\n",
      "batch_normalization_3 (Batch (None, 14, 14, 64)        256       \n",
      "_________________________________________________________________\n",
      "max_pooling2d_1 (MaxPooling2 (None, 7, 7, 64)          0         \n",
      "_________________________________________________________________\n",
      "dropout_1 (Dropout)          (None, 7, 7, 64)          0         \n",
      "_________________________________________________________________\n",
      "flatten (Flatten)            (None, 3136)              0         \n",
      "_________________________________________________________________\n",
      "dense (Dense)                (None, 512)               1606144   \n",
      "_________________________________________________________________\n",
      "batch_normalization_4 (Batch (None, 512)               2048      \n",
      "_________________________________________________________________\n",
      "dropout_2 (Dropout)          (None, 512)               0         \n",
      "_________________________________________________________________\n",
      "dense_1 (Dense)              (None, 1024)              525312    \n",
      "_________________________________________________________________\n",
      "batch_normalization_5 (Batch (None, 1024)              4096      \n",
      "_________________________________________________________________\n",
      "dropout_3 (Dropout)          (None, 1024)              0         \n",
      "_________________________________________________________________\n",
      "dense_2 (Dense)              (None, 10)                10250     \n",
      "=================================================================\n",
      "Total params: 2,213,610\n",
      "Trainable params: 2,210,154\n",
      "Non-trainable params: 3,456\n",
      "_________________________________________________________________\n"
     ]
    }
   ],
   "source": [
    "model.summary()"
   ]
  },
  {
   "cell_type": "markdown",
   "metadata": {
    "papermill": {
     "duration": 0.029741,
     "end_time": "2020-12-28T01:07:54.226296",
     "exception": false,
     "start_time": "2020-12-28T01:07:54.196555",
     "status": "completed"
    },
    "tags": []
   },
   "source": [
    "### Learning Rate Decay\n",
    "\n",
    "Many optimization algorithms have a constant learning rate, which will often not reach a local minima.\n",
    "\n",
    "To implement Learning Rate Decay we can use either LearningRateScheduler or ReduceLRonPlateau.\n",
    "\n",
    "- LearningRateScheduler -  takes the step decay function as argument and returns updated learning rates for use in optimzer at every epoch stage.\n",
    "\n",
    "- ReduceLRonPlateau  - monitors a quantity and if no improvement is seen for a 'patience' number of epochs, then the learning rate is reduced by a factor specified manually."
   ]
  },
  {
   "cell_type": "code",
   "execution_count": 17,
   "metadata": {
    "execution": {
     "iopub.execute_input": "2020-12-28T01:07:54.291273Z",
     "iopub.status.busy": "2020-12-28T01:07:54.290689Z",
     "iopub.status.idle": "2020-12-28T01:07:54.295319Z",
     "shell.execute_reply": "2020-12-28T01:07:54.294736Z"
    },
    "papermill": {
     "duration": 0.039085,
     "end_time": "2020-12-28T01:07:54.295413",
     "exception": false,
     "start_time": "2020-12-28T01:07:54.256328",
     "status": "completed"
    },
    "tags": []
   },
   "outputs": [],
   "source": [
    "reduce_lr = LearningRateScheduler(lambda x: 1e-3 * 0.9 ** x)"
   ]
  },
  {
   "cell_type": "code",
   "execution_count": 18,
   "metadata": {
    "_kg_hide-input": false,
    "execution": {
     "iopub.execute_input": "2020-12-28T01:07:54.361171Z",
     "iopub.status.busy": "2020-12-28T01:07:54.360260Z",
     "iopub.status.idle": "2020-12-28T01:07:54.366784Z",
     "shell.execute_reply": "2020-12-28T01:07:54.365994Z"
    },
    "papermill": {
     "duration": 0.042156,
     "end_time": "2020-12-28T01:07:54.366917",
     "exception": false,
     "start_time": "2020-12-28T01:07:54.324761",
     "status": "completed"
    },
    "tags": []
   },
   "outputs": [
    {
     "name": "stdout",
     "output_type": "stream",
     "text": [
      "Epoch 1 Learning Rate: 0.001\n",
      "Epoch 2 Learning Rate: 0.0009000000000000001\n",
      "Epoch 3 Learning Rate: 0.0008100000000000001\n",
      "Epoch 4 Learning Rate: 0.0007290000000000002\n",
      "Epoch 5 Learning Rate: 0.0006561000000000001\n",
      "Epoch 6 Learning Rate: 0.00059049\n",
      "Epoch 7 Learning Rate: 0.000531441\n",
      "Epoch 8 Learning Rate: 0.0004782969000000001\n",
      "Epoch 9 Learning Rate: 0.0004304672100000001\n",
      "Epoch 10 Learning Rate: 0.0003874204890000001\n"
     ]
    }
   ],
   "source": [
    "#visualizing what the learning rate decay will do to the learning rate through every epoch\n",
    "decays = [(lambda x: 1e-3 * 0.9 ** x)(x) for x in range(10)]\n",
    "i=1\n",
    "\n",
    "for lr in decays:\n",
    "    print(\"Epoch \" + str(i) +\" Learning Rate: \" + str(lr))\n",
    "    i+=1"
   ]
  },
  {
   "cell_type": "markdown",
   "metadata": {
    "papermill": {
     "duration": 0.029594,
     "end_time": "2020-12-28T01:07:54.427464",
     "exception": false,
     "start_time": "2020-12-28T01:07:54.397870",
     "status": "completed"
    },
    "tags": []
   },
   "source": [
    "### Early Stopping Rounds\n",
    "\n",
    "- I would still like to define an early stopping parameter to ensure that my model stops training once I have reached a point where it is no longer necessary to continue training. This is another way to control overfitting.\n",
    "\n",
    "- Its important to note that we need to specify a validation dataset in the model to use an early_stopping callback"
   ]
  },
  {
   "cell_type": "code",
   "execution_count": 19,
   "metadata": {
    "execution": {
     "iopub.execute_input": "2020-12-28T01:07:54.492002Z",
     "iopub.status.busy": "2020-12-28T01:07:54.491391Z",
     "iopub.status.idle": "2020-12-28T01:07:54.494180Z",
     "shell.execute_reply": "2020-12-28T01:07:54.493637Z"
    },
    "papermill": {
     "duration": 0.037026,
     "end_time": "2020-12-28T01:07:54.494273",
     "exception": false,
     "start_time": "2020-12-28T01:07:54.457247",
     "status": "completed"
    },
    "tags": []
   },
   "outputs": [],
   "source": [
    "#by default this is evaluated on 'val_loss'\n",
    "early_stopping = EarlyStopping(\n",
    "    min_delta=0.001, # minimium amount of change to count as an improvement\n",
    "    patience=20, # how many epochs to wait before stopping\n",
    "    restore_best_weights=True,\n",
    ")"
   ]
  },
  {
   "cell_type": "markdown",
   "metadata": {
    "papermill": {
     "duration": 0.029843,
     "end_time": "2020-12-28T01:07:54.554222",
     "exception": false,
     "start_time": "2020-12-28T01:07:54.524379",
     "status": "completed"
    },
    "tags": []
   },
   "source": [
    "# Fitting the Model"
   ]
  },
  {
   "cell_type": "code",
   "execution_count": 20,
   "metadata": {
    "execution": {
     "iopub.execute_input": "2020-12-28T01:07:54.616803Z",
     "iopub.status.busy": "2020-12-28T01:07:54.616183Z",
     "iopub.status.idle": "2020-12-28T01:07:54.619510Z",
     "shell.execute_reply": "2020-12-28T01:07:54.619985Z"
    },
    "papermill": {
     "duration": 0.036121,
     "end_time": "2020-12-28T01:07:54.620108",
     "exception": false,
     "start_time": "2020-12-28T01:07:54.583987",
     "status": "completed"
    },
    "tags": []
   },
   "outputs": [],
   "source": [
    "#defining these prior to model to increase readability and debugging\n",
    "batch_size = 64\n",
    "epochs = 50"
   ]
  },
  {
   "cell_type": "code",
   "execution_count": 21,
   "metadata": {
    "execution": {
     "iopub.execute_input": "2020-12-28T01:07:54.684282Z",
     "iopub.status.busy": "2020-12-28T01:07:54.683618Z",
     "iopub.status.idle": "2020-12-28T02:05:53.985583Z",
     "shell.execute_reply": "2020-12-28T02:05:53.986481Z"
    },
    "papermill": {
     "duration": 3479.336568,
     "end_time": "2020-12-28T02:05:53.986697",
     "exception": false,
     "start_time": "2020-12-28T01:07:54.650129",
     "status": "completed"
    },
    "tags": []
   },
   "outputs": [
    {
     "name": "stdout",
     "output_type": "stream",
     "text": [
      "Epoch 1/50\n",
      "590/590 [==============================] - 98s 166ms/step - loss: 0.3712 - accuracy: 0.8915 - val_loss: 0.1623 - val_accuracy: 0.9543\n",
      "Epoch 2/50\n",
      "590/590 [==============================] - 98s 167ms/step - loss: 0.1393 - accuracy: 0.9582 - val_loss: 0.0518 - val_accuracy: 0.9860\n",
      "Epoch 3/50\n",
      "590/590 [==============================] - 98s 165ms/step - loss: 0.0989 - accuracy: 0.9693 - val_loss: 0.0485 - val_accuracy: 0.9833\n",
      "Epoch 4/50\n",
      "590/590 [==============================] - 97s 165ms/step - loss: 0.0795 - accuracy: 0.9763 - val_loss: 0.0354 - val_accuracy: 0.9888\n",
      "Epoch 5/50\n",
      "590/590 [==============================] - 97s 165ms/step - loss: 0.0746 - accuracy: 0.9777 - val_loss: 0.0409 - val_accuracy: 0.9867\n",
      "Epoch 6/50\n",
      "590/590 [==============================] - 97s 164ms/step - loss: 0.0636 - accuracy: 0.9807 - val_loss: 0.0284 - val_accuracy: 0.9924\n",
      "Epoch 7/50\n",
      "590/590 [==============================] - 98s 166ms/step - loss: 0.0573 - accuracy: 0.9824 - val_loss: 0.0275 - val_accuracy: 0.9907\n",
      "Epoch 8/50\n",
      "590/590 [==============================] - 98s 167ms/step - loss: 0.0513 - accuracy: 0.9840 - val_loss: 0.0270 - val_accuracy: 0.9910\n",
      "Epoch 9/50\n",
      "590/590 [==============================] - 98s 165ms/step - loss: 0.0504 - accuracy: 0.9841 - val_loss: 0.0357 - val_accuracy: 0.9881\n",
      "Epoch 10/50\n",
      "590/590 [==============================] - 98s 166ms/step - loss: 0.0431 - accuracy: 0.9867 - val_loss: 0.0226 - val_accuracy: 0.9938\n",
      "Epoch 11/50\n",
      "590/590 [==============================] - 99s 167ms/step - loss: 0.0406 - accuracy: 0.9872 - val_loss: 0.0240 - val_accuracy: 0.9940\n",
      "Epoch 12/50\n",
      "590/590 [==============================] - 98s 166ms/step - loss: 0.0354 - accuracy: 0.9885 - val_loss: 0.0235 - val_accuracy: 0.9931\n",
      "Epoch 13/50\n",
      "590/590 [==============================] - 99s 168ms/step - loss: 0.0351 - accuracy: 0.9891 - val_loss: 0.0212 - val_accuracy: 0.9938\n",
      "Epoch 14/50\n",
      "590/590 [==============================] - 99s 168ms/step - loss: 0.0371 - accuracy: 0.9887 - val_loss: 0.0236 - val_accuracy: 0.9940\n",
      "Epoch 15/50\n",
      "590/590 [==============================] - 99s 167ms/step - loss: 0.0331 - accuracy: 0.9898 - val_loss: 0.0174 - val_accuracy: 0.9950\n",
      "Epoch 16/50\n",
      "590/590 [==============================] - 99s 168ms/step - loss: 0.0311 - accuracy: 0.9909 - val_loss: 0.0182 - val_accuracy: 0.9960\n",
      "Epoch 17/50\n",
      "590/590 [==============================] - 98s 167ms/step - loss: 0.0279 - accuracy: 0.9906 - val_loss: 0.0219 - val_accuracy: 0.9933\n",
      "Epoch 18/50\n",
      "590/590 [==============================] - 100s 169ms/step - loss: 0.0267 - accuracy: 0.9917 - val_loss: 0.0180 - val_accuracy: 0.9955\n",
      "Epoch 19/50\n",
      "590/590 [==============================] - 100s 169ms/step - loss: 0.0235 - accuracy: 0.9927 - val_loss: 0.0198 - val_accuracy: 0.9945\n",
      "Epoch 20/50\n",
      "590/590 [==============================] - 100s 169ms/step - loss: 0.0239 - accuracy: 0.9927 - val_loss: 0.0171 - val_accuracy: 0.9945\n",
      "Epoch 21/50\n",
      "590/590 [==============================] - 98s 167ms/step - loss: 0.0211 - accuracy: 0.9938 - val_loss: 0.0175 - val_accuracy: 0.9955\n",
      "Epoch 22/50\n",
      "590/590 [==============================] - 118s 200ms/step - loss: 0.0208 - accuracy: 0.9936 - val_loss: 0.0170 - val_accuracy: 0.9960\n",
      "Epoch 23/50\n",
      "590/590 [==============================] - 99s 168ms/step - loss: 0.0198 - accuracy: 0.9937 - val_loss: 0.0176 - val_accuracy: 0.9957\n",
      "Epoch 24/50\n",
      "590/590 [==============================] - 98s 166ms/step - loss: 0.0198 - accuracy: 0.9939 - val_loss: 0.0177 - val_accuracy: 0.9957\n",
      "Epoch 25/50\n",
      "590/590 [==============================] - 99s 168ms/step - loss: 0.0172 - accuracy: 0.9946 - val_loss: 0.0165 - val_accuracy: 0.9952\n",
      "Epoch 26/50\n",
      "590/590 [==============================] - 98s 166ms/step - loss: 0.0173 - accuracy: 0.9945 - val_loss: 0.0177 - val_accuracy: 0.9955\n",
      "Epoch 27/50\n",
      "590/590 [==============================] - 99s 168ms/step - loss: 0.0182 - accuracy: 0.9938 - val_loss: 0.0176 - val_accuracy: 0.9950\n",
      "Epoch 28/50\n",
      "590/590 [==============================] - 99s 168ms/step - loss: 0.0170 - accuracy: 0.9950 - val_loss: 0.0180 - val_accuracy: 0.9957\n",
      "Epoch 29/50\n",
      "590/590 [==============================] - 98s 167ms/step - loss: 0.0163 - accuracy: 0.9950 - val_loss: 0.0166 - val_accuracy: 0.9967\n",
      "Epoch 30/50\n",
      "590/590 [==============================] - 100s 169ms/step - loss: 0.0164 - accuracy: 0.9943 - val_loss: 0.0172 - val_accuracy: 0.9967\n",
      "Epoch 31/50\n",
      "590/590 [==============================] - 98s 167ms/step - loss: 0.0161 - accuracy: 0.9949 - val_loss: 0.0177 - val_accuracy: 0.9960\n",
      "Epoch 32/50\n",
      "590/590 [==============================] - 100s 170ms/step - loss: 0.0167 - accuracy: 0.9947 - val_loss: 0.0187 - val_accuracy: 0.9952\n",
      "Epoch 33/50\n",
      "590/590 [==============================] - 98s 166ms/step - loss: 0.0164 - accuracy: 0.9947 - val_loss: 0.0189 - val_accuracy: 0.9950\n",
      "Epoch 34/50\n",
      "590/590 [==============================] - 98s 167ms/step - loss: 0.0156 - accuracy: 0.9951 - val_loss: 0.0177 - val_accuracy: 0.9960\n",
      "Epoch 35/50\n",
      "590/590 [==============================] - 100s 170ms/step - loss: 0.0152 - accuracy: 0.9953 - val_loss: 0.0181 - val_accuracy: 0.9955\n"
     ]
    }
   ],
   "source": [
    "# Fit the Model\n",
    "history = model.fit_generator(datagen.flow(x_train, y_train, batch_size = batch_size), epochs = epochs, \n",
    "                              validation_data = (x_test, y_test), verbose=1, \n",
    "                              steps_per_epoch=x_train.shape[0] // batch_size,\n",
    "                              callbacks = [reduce_lr,early_stopping])"
   ]
  },
  {
   "cell_type": "markdown",
   "metadata": {
    "papermill": {
     "duration": 7.081148,
     "end_time": "2020-12-28T02:06:09.207083",
     "exception": false,
     "start_time": "2020-12-28T02:06:02.125935",
     "status": "completed"
    },
    "tags": []
   },
   "source": [
    "### Evaluating the model"
   ]
  },
  {
   "cell_type": "code",
   "execution_count": 22,
   "metadata": {
    "execution": {
     "iopub.execute_input": "2020-12-28T02:06:24.200227Z",
     "iopub.status.busy": "2020-12-28T02:06:24.199581Z",
     "iopub.status.idle": "2020-12-28T02:06:24.203266Z",
     "shell.execute_reply": "2020-12-28T02:06:24.202751Z"
    },
    "papermill": {
     "duration": 7.81787,
     "end_time": "2020-12-28T02:06:24.203375",
     "exception": false,
     "start_time": "2020-12-28T02:06:16.385505",
     "status": "completed"
    },
    "tags": []
   },
   "outputs": [],
   "source": [
    "import matplotlib.pyplot as plt"
   ]
  },
  {
   "cell_type": "code",
   "execution_count": 23,
   "metadata": {
    "execution": {
     "iopub.execute_input": "2020-12-28T02:06:38.524890Z",
     "iopub.status.busy": "2020-12-28T02:06:38.524208Z",
     "iopub.status.idle": "2020-12-28T02:06:38.789202Z",
     "shell.execute_reply": "2020-12-28T02:06:38.788687Z"
    },
    "papermill": {
     "duration": 7.520748,
     "end_time": "2020-12-28T02:06:38.789309",
     "exception": false,
     "start_time": "2020-12-28T02:06:31.268561",
     "status": "completed"
    },
    "tags": []
   },
   "outputs": [
    {
     "data": {
      "image/png": "[encoded data removed]",
      "text/plain": [
       "<Figure size 936x360 with 1 Axes>"
      ]
     },
     "metadata": {
      "needs_background": "light"
     },
     "output_type": "display_data"
    }
   ],
   "source": [
    "plt.figure(figsize=(13, 5))\n",
    "plt.plot(history.history['loss'])\n",
    "plt.plot(history.history['val_loss'])\n",
    "plt.title(\"Model Loss\")\n",
    "plt.xlabel('Epochs')\n",
    "plt.ylabel('Loss')\n",
    "plt.legend(['Train', 'Test'])\n",
    "plt.grid()\n",
    "plt.show()"
   ]
  },
  {
   "cell_type": "code",
   "execution_count": 24,
   "metadata": {
    "execution": {
     "iopub.execute_input": "2020-12-28T02:06:53.322971Z",
     "iopub.status.busy": "2020-12-28T02:06:53.322330Z",
     "iopub.status.idle": "2020-12-28T02:06:53.512641Z",
     "shell.execute_reply": "2020-12-28T02:06:53.512044Z"
    },
    "papermill": {
     "duration": 7.362101,
     "end_time": "2020-12-28T02:06:53.512760",
     "exception": false,
     "start_time": "2020-12-28T02:06:46.150659",
     "status": "completed"
    },
    "tags": []
   },
   "outputs": [
    {
     "data": {
      "image/png": "[encoded data removed]",
      "text/plain": [
       "<Figure size 936x360 with 1 Axes>"
      ]
     },
     "metadata": {
      "needs_background": "light"
     },
     "output_type": "display_data"
    }
   ],
   "source": [
    "plt.figure(figsize=(13, 5))\n",
    "plt.plot(history.history['accuracy'])\n",
    "plt.plot(history.history['val_accuracy'])\n",
    "plt.title('Model Accuracy')\n",
    "plt.xlabel('Epochs')\n",
    "plt.ylabel('Accuracy')\n",
    "plt.legend(['Train','Test'])\n",
    "plt.grid()\n",
    "plt.show()"
   ]
  },
  {
   "cell_type": "markdown",
   "metadata": {
    "papermill": {
     "duration": 7.040364,
     "end_time": "2020-12-28T02:07:07.650206",
     "exception": false,
     "start_time": "2020-12-28T02:07:00.609842",
     "status": "completed"
    },
    "tags": []
   },
   "source": [
    "Since the validation_accuracy and the accuracy are really close together we can conclude that we are not overfitting the data."
   ]
  },
  {
   "cell_type": "markdown",
   "metadata": {
    "papermill": {
     "duration": 7.079765,
     "end_time": "2020-12-28T02:07:21.862732",
     "exception": false,
     "start_time": "2020-12-28T02:07:14.782967",
     "status": "completed"
    },
    "tags": []
   },
   "source": [
    "# Output prediction to CSV file"
   ]
  },
  {
   "cell_type": "code",
   "execution_count": 25,
   "metadata": {
    "execution": {
     "iopub.execute_input": "2020-12-28T02:07:36.108633Z",
     "iopub.status.busy": "2020-12-28T02:07:36.107963Z",
     "iopub.status.idle": "2020-12-28T02:07:54.914381Z",
     "shell.execute_reply": "2020-12-28T02:07:54.913841Z"
    },
    "papermill": {
     "duration": 25.959699,
     "end_time": "2020-12-28T02:07:54.914520",
     "exception": false,
     "start_time": "2020-12-28T02:07:28.954821",
     "status": "completed"
    },
    "tags": []
   },
   "outputs": [],
   "source": [
    "pred_digits_test = np.argmax(model.predict(df_test),axis=1)\n",
    "image_id_test = []\n",
    "\n",
    "for i in range (len(pred_digits_test)):\n",
    "    image_id_test.append(i+1)\n",
    "    \n",
    "d = {'ImageId':image_id_test,'Label':pred_digits_test}\n",
    "answer = pd.DataFrame(d)\n",
    "\n",
    "answer.to_csv('answer.csv',index=False)"
   ]
  }
 ],
 "metadata": {
  "kernelspec": {
   "display_name": "Python 3",
   "language": "python",
   "name": "python3"
  },
  "language_info": {
   "codemirror_mode": {
    "name": "ipython",
    "version": 3
   },
   "file_extension": ".py",
   "mimetype": "text/x-python",
   "name": "python",
   "nbconvert_exporter": "python",
   "pygments_lexer": "ipython3",
   "version": "3.7.6"
  },
  "papermill": {
   "duration": 3632.709703,
   "end_time": "2020-12-28T02:08:02.544928",
   "environment_variables": {},
   "exception": null,
   "input_path": "__notebook__.ipynb",
   "output_path": "__notebook__.ipynb",
   "parameters": {},
   "start_time": "2020-12-28T01:07:29.835225",
   "version": "2.1.0"
  }
 },
 "nbformat": 4,
 "nbformat_minor": 4
}
