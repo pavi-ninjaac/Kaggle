{
 "cells": [
  {
   "cell_type": "code",
   "execution_count": 1,
   "metadata": {},
   "outputs": [],
   "source": [
    "import pandas as pd\n",
    "import numpy as np\n",
    "\n",
    "# visualization tools\n",
    "import matplotlib.pyplot as plt\n",
    "import seaborn as sns\n",
    "import plotly.graph_objects as go\n",
    "from plotly.subplots import make_subplots\n",
    "\n",
    "# kaggle utils\n",
    "import kaggle_utils_py as kaggle_utils"
   ]
  },
  {
   "cell_type": "markdown",
   "metadata": {},
   "source": [
    "\n",
    "# <p style=\"background-color:#9900cc;padding:15px;font-family:newtimeroman;color:#ffff80;font-size:110%;border-radius:40px 5px;\"> 1 | Basic stuff</p>\n"
   ]
  },
  {
   "cell_type": "code",
   "execution_count": 51,
   "metadata": {},
   "outputs": [
    {
     "data": {
      "text/html": [
       "<div>\n",
       "<style scoped>\n",
       "    .dataframe tbody tr th:only-of-type {\n",
       "        vertical-align: middle;\n",
       "    }\n",
       "\n",
       "    .dataframe tbody tr th {\n",
       "        vertical-align: top;\n",
       "    }\n",
       "\n",
       "    .dataframe thead th {\n",
       "        text-align: right;\n",
       "    }\n",
       "</style>\n",
       "<table border=\"1\" class=\"dataframe\">\n",
       "  <thead>\n",
       "    <tr style=\"text-align: right;\">\n",
       "      <th></th>\n",
       "      <th>country_name</th>\n",
       "      <th>country_code</th>\n",
       "      <th>university_name</th>\n",
       "      <th>university_rank</th>\n",
       "      <th>program_name</th>\n",
       "      <th>program_type</th>\n",
       "      <th>deadline</th>\n",
       "      <th>duration</th>\n",
       "      <th>language</th>\n",
       "      <th>tution_1_currency</th>\n",
       "      <th>...</th>\n",
       "      <th>tution_2_money</th>\n",
       "      <th>tution_2_type</th>\n",
       "      <th>tuition_price_specification</th>\n",
       "      <th>start_date</th>\n",
       "      <th>ielts_score</th>\n",
       "      <th>structure</th>\n",
       "      <th>academic_req</th>\n",
       "      <th>facts</th>\n",
       "      <th>city</th>\n",
       "      <th>program_url</th>\n",
       "    </tr>\n",
       "  </thead>\n",
       "  <tbody>\n",
       "    <tr>\n",
       "      <th>0</th>\n",
       "      <td>Armenia</td>\n",
       "      <td>ARM</td>\n",
       "      <td>American University of Armenia</td>\n",
       "      <td>NaN</td>\n",
       "      <td>Economics</td>\n",
       "      <td>MSc</td>\n",
       "      <td>2004-07-18T00:00:00Z</td>\n",
       "      <td>NaN</td>\n",
       "      <td>English</td>\n",
       "      <td>EUR</td>\n",
       "      <td>...</td>\n",
       "      <td>2108.0</td>\n",
       "      <td>EU/EEA</td>\n",
       "      <td>Tuition (Year)</td>\n",
       "      <td>2018-09-01 00:00:00</td>\n",
       "      <td>6.5</td>\n",
       "      <td>['Quantitative Methods for Economists (Mathema...</td>\n",
       "      <td>&lt;section id=\"AcademicRequirements\"&gt; &lt;h2&gt;Academ...</td>\n",
       "      <td>['Starting in   2018-09-01 00:00:00    You can...</td>\n",
       "      <td>['Yerevan']</td>\n",
       "      <td>http://www.mastersportal.eu/studies/71101/econ...</td>\n",
       "    </tr>\n",
       "    <tr>\n",
       "      <th>1</th>\n",
       "      <td>Armenia</td>\n",
       "      <td>ARM</td>\n",
       "      <td>American University of Armenia</td>\n",
       "      <td>NaN</td>\n",
       "      <td>Political Science and International Affairs</td>\n",
       "      <td>Master</td>\n",
       "      <td>2031-07-18T00:00:00Z</td>\n",
       "      <td>24 months</td>\n",
       "      <td>English</td>\n",
       "      <td>EUR</td>\n",
       "      <td>...</td>\n",
       "      <td>2500.0</td>\n",
       "      <td>National</td>\n",
       "      <td>Tuition (Year)</td>\n",
       "      <td>2018-08-22 00:00:00</td>\n",
       "      <td>6.5</td>\n",
       "      <td>NaN</td>\n",
       "      <td>&lt;section id=\"AcademicRequirements\"&gt; &lt;h2&gt;Academ...</td>\n",
       "      <td>['Starting in   2018-08-22 00:00:00    You can...</td>\n",
       "      <td>['Yerevan']</td>\n",
       "      <td>http://www.mastersportal.eu/studies/71085/poli...</td>\n",
       "    </tr>\n",
       "    <tr>\n",
       "      <th>2</th>\n",
       "      <td>Armenia</td>\n",
       "      <td>ARM</td>\n",
       "      <td>American University of Armenia</td>\n",
       "      <td>NaN</td>\n",
       "      <td>Business Administration</td>\n",
       "      <td>MBA</td>\n",
       "      <td>2004-07-18T00:00:00Z</td>\n",
       "      <td>NaN</td>\n",
       "      <td>English</td>\n",
       "      <td>EUR</td>\n",
       "      <td>...</td>\n",
       "      <td>2499.0</td>\n",
       "      <td>EU/EEA</td>\n",
       "      <td>Tuition (Year)</td>\n",
       "      <td>2018-09-01 00:00:00</td>\n",
       "      <td>6.5</td>\n",
       "      <td>['Managers with practical knowledge of account...</td>\n",
       "      <td>&lt;section id=\"AcademicRequirements\"&gt; &lt;h2&gt;Academ...</td>\n",
       "      <td>['Starting in   2018-09-01 00:00:00    You can...</td>\n",
       "      <td>['Yerevan']</td>\n",
       "      <td>http://www.mastersportal.eu/studies/71102/busi...</td>\n",
       "    </tr>\n",
       "    <tr>\n",
       "      <th>3</th>\n",
       "      <td>Armenia</td>\n",
       "      <td>ARM</td>\n",
       "      <td>American University of Armenia</td>\n",
       "      <td>NaN</td>\n",
       "      <td>Computer and Information Science</td>\n",
       "      <td>MSc</td>\n",
       "      <td>NaN</td>\n",
       "      <td>24 months</td>\n",
       "      <td>English</td>\n",
       "      <td>EUR</td>\n",
       "      <td>...</td>\n",
       "      <td>2500.0</td>\n",
       "      <td>National</td>\n",
       "      <td>Tuition (Year)</td>\n",
       "      <td>NaN</td>\n",
       "      <td>6.5</td>\n",
       "      <td>['Introduction to Object-Oriented Programming'...</td>\n",
       "      <td>&lt;section id=\"AcademicRequirements\"&gt; &lt;h2&gt;Academ...</td>\n",
       "      <td>['Deadline and start date Application deadline...</td>\n",
       "      <td>['Yerevan']</td>\n",
       "      <td>http://www.mastersportal.eu/studies/71104/comp...</td>\n",
       "    </tr>\n",
       "    <tr>\n",
       "      <th>4</th>\n",
       "      <td>Armenia</td>\n",
       "      <td>ARM</td>\n",
       "      <td>American University of Armenia</td>\n",
       "      <td>NaN</td>\n",
       "      <td>Industrial Engineering and Systems Management</td>\n",
       "      <td>MEng</td>\n",
       "      <td>2031-07-18T00:00:00Z</td>\n",
       "      <td>24 months</td>\n",
       "      <td>English</td>\n",
       "      <td>EUR</td>\n",
       "      <td>...</td>\n",
       "      <td>2500.0</td>\n",
       "      <td>National</td>\n",
       "      <td>Tuition (Year)</td>\n",
       "      <td>2018-08-22 00:00:00</td>\n",
       "      <td>6.5</td>\n",
       "      <td>['Probability Theory', 'Analysis and Design of...</td>\n",
       "      <td>&lt;section id=\"AcademicRequirements\"&gt; &lt;h2&gt;Academ...</td>\n",
       "      <td>['Starting in   2018-08-22 00:00:00    You can...</td>\n",
       "      <td>['Yerevan']</td>\n",
       "      <td>http://www.mastersportal.eu/studies/71103/indu...</td>\n",
       "    </tr>\n",
       "  </tbody>\n",
       "</table>\n",
       "<p>5 rows × 23 columns</p>\n",
       "</div>"
      ],
      "text/plain": [
       "  country_name country_code                 university_name  university_rank  \\\n",
       "0      Armenia          ARM  American University of Armenia              NaN   \n",
       "1      Armenia          ARM  American University of Armenia              NaN   \n",
       "2      Armenia          ARM  American University of Armenia              NaN   \n",
       "3      Armenia          ARM  American University of Armenia              NaN   \n",
       "4      Armenia          ARM  American University of Armenia              NaN   \n",
       "\n",
       "                                    program_name program_type  \\\n",
       "0                                      Economics          MSc   \n",
       "1    Political Science and International Affairs       Master   \n",
       "2                        Business Administration          MBA   \n",
       "3               Computer and Information Science          MSc   \n",
       "4  Industrial Engineering and Systems Management         MEng   \n",
       "\n",
       "               deadline   duration language tution_1_currency  ...  \\\n",
       "0  2004-07-18T00:00:00Z        NaN  English               EUR  ...   \n",
       "1  2031-07-18T00:00:00Z  24 months  English               EUR  ...   \n",
       "2  2004-07-18T00:00:00Z        NaN  English               EUR  ...   \n",
       "3                   NaN  24 months  English               EUR  ...   \n",
       "4  2031-07-18T00:00:00Z  24 months  English               EUR  ...   \n",
       "\n",
       "   tution_2_money tution_2_type tuition_price_specification  \\\n",
       "0          2108.0        EU/EEA              Tuition (Year)   \n",
       "1          2500.0      National              Tuition (Year)   \n",
       "2          2499.0        EU/EEA              Tuition (Year)   \n",
       "3          2500.0      National              Tuition (Year)   \n",
       "4          2500.0      National              Tuition (Year)   \n",
       "\n",
       "              start_date ielts_score  \\\n",
       "0    2018-09-01 00:00:00         6.5   \n",
       "1    2018-08-22 00:00:00         6.5   \n",
       "2    2018-09-01 00:00:00         6.5   \n",
       "3                    NaN         6.5   \n",
       "4    2018-08-22 00:00:00         6.5   \n",
       "\n",
       "                                           structure  \\\n",
       "0  ['Quantitative Methods for Economists (Mathema...   \n",
       "1                                                NaN   \n",
       "2  ['Managers with practical knowledge of account...   \n",
       "3  ['Introduction to Object-Oriented Programming'...   \n",
       "4  ['Probability Theory', 'Analysis and Design of...   \n",
       "\n",
       "                                        academic_req  \\\n",
       "0  <section id=\"AcademicRequirements\"> <h2>Academ...   \n",
       "1  <section id=\"AcademicRequirements\"> <h2>Academ...   \n",
       "2  <section id=\"AcademicRequirements\"> <h2>Academ...   \n",
       "3  <section id=\"AcademicRequirements\"> <h2>Academ...   \n",
       "4  <section id=\"AcademicRequirements\"> <h2>Academ...   \n",
       "\n",
       "                                               facts         city  \\\n",
       "0  ['Starting in   2018-09-01 00:00:00    You can...  ['Yerevan']   \n",
       "1  ['Starting in   2018-08-22 00:00:00    You can...  ['Yerevan']   \n",
       "2  ['Starting in   2018-09-01 00:00:00    You can...  ['Yerevan']   \n",
       "3  ['Deadline and start date Application deadline...  ['Yerevan']   \n",
       "4  ['Starting in   2018-08-22 00:00:00    You can...  ['Yerevan']   \n",
       "\n",
       "                                         program_url  \n",
       "0  http://www.mastersportal.eu/studies/71101/econ...  \n",
       "1  http://www.mastersportal.eu/studies/71085/poli...  \n",
       "2  http://www.mastersportal.eu/studies/71102/busi...  \n",
       "3  http://www.mastersportal.eu/studies/71104/comp...  \n",
       "4  http://www.mastersportal.eu/studies/71103/indu...  \n",
       "\n",
       "[5 rows x 23 columns]"
      ]
     },
     "execution_count": 51,
     "metadata": {},
     "output_type": "execute_result"
    }
   ],
   "source": [
    "data = pd.read_csv(\"/home/pavithra/projects/Kaggle/EDA&Hypothesis_testing_master_degree_program/data/201709301651_masters_portal.csv\")\n",
    "data.head()"
   ]
  },
  {
   "cell_type": "code",
   "execution_count": 52,
   "metadata": {},
   "outputs": [
    {
     "data": {
      "text/plain": [
       "'<section id=\"AcademicRequirements\"> <h2>Academic Requirements</h2> <section id=\"StudyRequirement\"> <h6> Application Requirements</h6><p>To ensure your application for admission is complete, you must submit all of the required documents. Some programs have additional supplements. You should check the website of your preferred field of study to clarify whether there are additional admissions requirements. General application requirements include:</p><ul><li>A complete Application for Admission to Graduate Studyincluding all required supplements as outlined in the application instructions.</li></ul><ul><li>Present official results confirming English Language Proficiency typically through the TOEFL iBT or IELTS. Native and near native speakers are eligible for a waiver. For more information, please read the English proficiency waiver policy and application form here.<ul><li>You must submit official score reports confirming English language proficiency either from the TOEFL iBT or IELTS exams. For AUA application purposes, these scores are valid only if your test date was less than two years before the application submission date. You must ensure that official test scores are sent to AUA directly from the testing service, using AUA\\\\xc2\\\\x92s institution codes as noted below:<ul><li>TOEFL iBT code 4151</li></ul></li></ul></li></ul><ul><li>Present official Graduate School Admissions Exam results typically from the GRE, GMAT, or LSAT depending on your selected field of study as outlined below to demonstrate to the Admissions Committee your ability to succeed in your selected graduate program. </li></ul> </section> </section>'"
      ]
     },
     "execution_count": 52,
     "metadata": {},
     "output_type": "execute_result"
    }
   ],
   "source": [
    "data[\"academic_req\"][0]\n",
    "\n",
    "# We are not doing any kind of NLP here, and wanna check the price with other factors so this is not needed."
   ]
  },
  {
   "cell_type": "code",
   "execution_count": 53,
   "metadata": {},
   "outputs": [],
   "source": [
    "# Remove the unwanted columns:\n",
    "unwanted_columns = [\"country_code\", \"deadline\", \"start_date\", \"structure\", \"academic_req\", \"facts\", \"program_url\"]\n",
    "data.drop(unwanted_columns, axis=1, inplace=True)"
   ]
  },
  {
   "cell_type": "code",
   "execution_count": 54,
   "metadata": {},
   "outputs": [
    {
     "name": "stdout",
     "output_type": "stream",
     "text": [
      "Total number of columns: 16\n",
      "Total number of rows: 60425\n",
      "----------------------------------------------------------------------------------------------------\n",
      "categorical Columns: 12\n",
      "Index(['country_name', 'university_name', 'program_name', 'program_type',\n",
      "       'duration', 'language', 'tution_1_currency', 'tution_1_type',\n",
      "       'tution_2_currency', 'tution_2_type', 'tuition_price_specification',\n",
      "       'city'],\n",
      "      dtype='object')\n",
      "continuous Columns: 4\n",
      "Index(['university_rank', 'tution_1_money', 'tution_2_money', 'ielts_score'], dtype='object')\n"
     ]
    }
   ],
   "source": [
    "print(\"Total number of columns: {}\".format(len(data.columns)))\n",
    "\n",
    "print(\"Total number of rows: {}\".format(len(data)))\n",
    "\n",
    "print(\"--\"*50)\n",
    "# find the categorical columns\n",
    "categorical_columns = data.select_dtypes(include=['object']).columns\n",
    "continuous_columns = data.select_dtypes(include=[\"float64\", \"int64\"]).columns\n",
    "print(\"categorical Columns: {}\".format(len(categorical_columns)))\n",
    "print(categorical_columns)\n",
    "print(\"continuous Columns: {}\".format(len(continuous_columns)))\n",
    "print(continuous_columns)"
   ]
  },
  {
   "cell_type": "code",
   "execution_count": 55,
   "metadata": {},
   "outputs": [
    {
     "data": {
      "text/html": [
       "<div>\n",
       "<style scoped>\n",
       "    .dataframe tbody tr th:only-of-type {\n",
       "        vertical-align: middle;\n",
       "    }\n",
       "\n",
       "    .dataframe tbody tr th {\n",
       "        vertical-align: top;\n",
       "    }\n",
       "\n",
       "    .dataframe thead th {\n",
       "        text-align: right;\n",
       "    }\n",
       "</style>\n",
       "<table border=\"1\" class=\"dataframe\">\n",
       "  <thead>\n",
       "    <tr style=\"text-align: right;\">\n",
       "      <th></th>\n",
       "      <th>university_rank</th>\n",
       "      <th>tution_1_money</th>\n",
       "      <th>tution_2_money</th>\n",
       "      <th>ielts_score</th>\n",
       "    </tr>\n",
       "  </thead>\n",
       "  <tbody>\n",
       "    <tr>\n",
       "      <th>count</th>\n",
       "      <td>34901.000000</td>\n",
       "      <td>53773.000000</td>\n",
       "      <td>48086.000000</td>\n",
       "      <td>47357.000000</td>\n",
       "    </tr>\n",
       "    <tr>\n",
       "      <th>mean</th>\n",
       "      <td>278.745165</td>\n",
       "      <td>13956.115578</td>\n",
       "      <td>9030.554943</td>\n",
       "      <td>6.486992</td>\n",
       "    </tr>\n",
       "    <tr>\n",
       "      <th>std</th>\n",
       "      <td>202.120986</td>\n",
       "      <td>12908.596010</td>\n",
       "      <td>11581.640846</td>\n",
       "      <td>0.420575</td>\n",
       "    </tr>\n",
       "    <tr>\n",
       "      <th>min</th>\n",
       "      <td>1.000000</td>\n",
       "      <td>0.000000</td>\n",
       "      <td>0.000000</td>\n",
       "      <td>3.500000</td>\n",
       "    </tr>\n",
       "    <tr>\n",
       "      <th>25%</th>\n",
       "      <td>113.000000</td>\n",
       "      <td>2153.000000</td>\n",
       "      <td>1195.000000</td>\n",
       "      <td>6.500000</td>\n",
       "    </tr>\n",
       "    <tr>\n",
       "      <th>50%</th>\n",
       "      <td>251.000000</td>\n",
       "      <td>12850.000000</td>\n",
       "      <td>6120.000000</td>\n",
       "      <td>6.500000</td>\n",
       "    </tr>\n",
       "    <tr>\n",
       "      <th>75%</th>\n",
       "      <td>401.000000</td>\n",
       "      <td>19000.000000</td>\n",
       "      <td>10480.000000</td>\n",
       "      <td>6.500000</td>\n",
       "    </tr>\n",
       "    <tr>\n",
       "      <th>max</th>\n",
       "      <td>801.000000</td>\n",
       "      <td>99960.000000</td>\n",
       "      <td>99750.000000</td>\n",
       "      <td>9.000000</td>\n",
       "    </tr>\n",
       "  </tbody>\n",
       "</table>\n",
       "</div>"
      ],
      "text/plain": [
       "       university_rank  tution_1_money  tution_2_money   ielts_score\n",
       "count     34901.000000    53773.000000    48086.000000  47357.000000\n",
       "mean        278.745165    13956.115578     9030.554943      6.486992\n",
       "std         202.120986    12908.596010    11581.640846      0.420575\n",
       "min           1.000000        0.000000        0.000000      3.500000\n",
       "25%         113.000000     2153.000000     1195.000000      6.500000\n",
       "50%         251.000000    12850.000000     6120.000000      6.500000\n",
       "75%         401.000000    19000.000000    10480.000000      6.500000\n",
       "max         801.000000    99960.000000    99750.000000      9.000000"
      ]
     },
     "execution_count": 55,
     "metadata": {},
     "output_type": "execute_result"
    }
   ],
   "source": [
    "data.describe()\n"
   ]
  },
  {
   "cell_type": "code",
   "execution_count": 56,
   "metadata": {},
   "outputs": [
    {
     "name": "stdout",
     "output_type": "stream",
     "text": [
      "The unique values in the 'country_name' columns is ---- > 94\n",
      "The unique values in the 'university_name' columns is ---- > 2273\n",
      "The unique values in the 'program_name' columns is ---- > 25352\n",
      "The unique values in the 'program_type' columns is ---- > 502\n",
      "The unique values in the 'duration' columns is ---- > 80\n",
      "The unique values in the 'language' columns is ---- > 75\n",
      "The unique values in the 'tution_1_currency' columns is ---- > 6\n",
      "The unique values in the 'tution_1_type' columns is ---- > 4\n",
      "The unique values in the 'tution_2_currency' columns is ---- > 6\n",
      "The unique values in the 'tution_2_type' columns is ---- > 3\n",
      "The unique values in the 'tuition_price_specification' columns is ---- > 8\n",
      "The unique values in the 'city' columns is ---- > 1464\n"
     ]
    }
   ],
   "source": [
    "# How many levels present in the categorical columns.\n",
    "for col in categorical_columns:\n",
    "    print(f\"The unique values in the '{col}' columns is ---- > {data[col].nunique()}\")"
   ]
  },
  {
   "cell_type": "markdown",
   "metadata": {},
   "source": [
    "# My main goal is to analysis the relations between country, university, program and price\n",
    "\n",
    "- 1 - which country gives the most master program\n",
    "- 2 - which university gives the most master program\n",
    "- 3 - which university has more price \n",
    "- 4 - which university has more number of programs\n",
    "- 5 - does city has any effects on the price from the same university\n",
    "- 6 - "
   ]
  },
  {
   "cell_type": "code",
   "execution_count": 65,
   "metadata": {},
   "outputs": [],
   "source": [
    "# 1 |  which country gives the most master program\n",
    "program_data = data.groupby(\"country_name\")[\"program_name\"].count()"
   ]
  },
  {
   "cell_type": "code",
   "execution_count": 76,
   "metadata": {},
   "outputs": [
    {
     "data": {
      "text/html": [
       "<div>\n",
       "<style scoped>\n",
       "    .dataframe tbody tr th:only-of-type {\n",
       "        vertical-align: middle;\n",
       "    }\n",
       "\n",
       "    .dataframe tbody tr th {\n",
       "        vertical-align: top;\n",
       "    }\n",
       "\n",
       "    .dataframe thead th {\n",
       "        text-align: right;\n",
       "    }\n",
       "</style>\n",
       "<table border=\"1\" class=\"dataframe\">\n",
       "  <thead>\n",
       "    <tr style=\"text-align: right;\">\n",
       "      <th></th>\n",
       "      <th>country_name</th>\n",
       "      <th>program_count</th>\n",
       "    </tr>\n",
       "  </thead>\n",
       "  <tbody>\n",
       "    <tr>\n",
       "      <th>0</th>\n",
       "      <td>United States</td>\n",
       "      <td>24084</td>\n",
       "    </tr>\n",
       "    <tr>\n",
       "      <th>1</th>\n",
       "      <td>United Kingdom</td>\n",
       "      <td>14130</td>\n",
       "    </tr>\n",
       "    <tr>\n",
       "      <th>2</th>\n",
       "      <td>Australia</td>\n",
       "      <td>2932</td>\n",
       "    </tr>\n",
       "    <tr>\n",
       "      <th>3</th>\n",
       "      <td>Canada</td>\n",
       "      <td>2152</td>\n",
       "    </tr>\n",
       "    <tr>\n",
       "      <th>4</th>\n",
       "      <td>Netherlands</td>\n",
       "      <td>1346</td>\n",
       "    </tr>\n",
       "    <tr>\n",
       "      <th>...</th>\n",
       "      <td>...</td>\n",
       "      <td>...</td>\n",
       "    </tr>\n",
       "    <tr>\n",
       "      <th>89</th>\n",
       "      <td>Guatemala</td>\n",
       "      <td>2</td>\n",
       "    </tr>\n",
       "    <tr>\n",
       "      <th>90</th>\n",
       "      <td>Guyana</td>\n",
       "      <td>1</td>\n",
       "    </tr>\n",
       "    <tr>\n",
       "      <th>91</th>\n",
       "      <td>Fiji</td>\n",
       "      <td>1</td>\n",
       "    </tr>\n",
       "    <tr>\n",
       "      <th>92</th>\n",
       "      <td>Ethiopia</td>\n",
       "      <td>1</td>\n",
       "    </tr>\n",
       "    <tr>\n",
       "      <th>93</th>\n",
       "      <td>Bosnia and Herzegovina</td>\n",
       "      <td>1</td>\n",
       "    </tr>\n",
       "  </tbody>\n",
       "</table>\n",
       "<p>94 rows × 2 columns</p>\n",
       "</div>"
      ],
      "text/plain": [
       "              country_name  program_count\n",
       "0            United States          24084\n",
       "1           United Kingdom          14130\n",
       "2                Australia           2932\n",
       "3                   Canada           2152\n",
       "4              Netherlands           1346\n",
       "..                     ...            ...\n",
       "89               Guatemala              2\n",
       "90                  Guyana              1\n",
       "91                    Fiji              1\n",
       "92                Ethiopia              1\n",
       "93  Bosnia and Herzegovina              1\n",
       "\n",
       "[94 rows x 2 columns]"
      ]
     },
     "execution_count": 76,
     "metadata": {},
     "output_type": "execute_result"
    }
   ],
   "source": [
    "program_data = program_data.sort_values(ascending=False)\n",
    "df = pd.DataFrame({\"country_name\": program_data.index,\n",
    "                   \"program_count\": program_data.values})\n",
    "df"
   ]
  },
  {
   "cell_type": "code",
   "execution_count": 132,
   "metadata": {},
   "outputs": [
    {
     "data": {
      "application/vnd.plotly.v1+json": {
       "config": {
        "plotlyServerURL": "https://plot.ly"
       },
       "data": [
        {
         "marker": {
          "color": "#9900cc"
         },
         "type": "bar",
         "x": [
          "United States",
          "United Kingdom",
          "Australia",
          "Canada",
          "Netherlands",
          "France",
          "Germany",
          "Ireland",
          "China",
          "Sweden",
          "Italy",
          "Spain",
          "Greece",
          "Belgium",
          "Hong Kong",
          "Switzerland",
          "New Zealand",
          "Malaysia",
          "Denmark",
          "Norway",
          "Poland",
          "Turkey",
          "Finland",
          "Singapore",
          "Russian Federation",
          "Hungary",
          "South Africa",
          "United Arab Emirates",
          "Portugal",
          "Austria",
          "Czech Republic",
          "Taiwan, Province of China",
          "Japan",
          "Kenya",
          "Lithuania",
          "Thailand",
          "Israel",
          "Pakistan",
          "Cyprus",
          "Philippines",
          "Sri Lanka",
          "India",
          "Slovenia",
          "Saudi Arabia",
          "Estonia",
          "Barbados",
          "Egypt",
          "Latvia",
          "Romania",
          "Korea, Republic of",
          "Palestinian Territory, Occupied",
          "Iran, Islamic Republic of",
          "Iceland",
          "Luxembourg",
          "Colombia",
          "Macao",
          "Oman",
          "Qatar",
          "Brazil",
          "Namibia",
          "Croatia",
          "Slovakia",
          "Bulgaria",
          "Kazakhstan",
          "Bangladesh",
          "Lebanon",
          "Guam",
          "Bahrain",
          "Trinidad and Tobago",
          "Uganda",
          "Monaco",
          "Georgia",
          "Rwanda",
          "Nigeria",
          "Tanzania, United Republic of",
          "Armenia",
          "Virgin Islands, U.S.",
          "Indonesia",
          "Macedonia, the former Yugoslav Republic of",
          "Ukraine",
          "Malta",
          "Viet Nam",
          "Liechtenstein",
          "Serbia",
          "Isle of Man",
          "Grenada",
          "Kyrgyzstan",
          "Azerbaijan",
          "Aruba",
          "Guatemala",
          "Guyana",
          "Fiji",
          "Ethiopia",
          "Bosnia and Herzegovina"
         ],
         "y": [
          24084,
          14130,
          2932,
          2152,
          1346,
          1282,
          1053,
          894,
          836,
          806,
          756,
          724,
          700,
          657,
          542,
          482,
          472,
          457,
          374,
          348,
          345,
          345,
          339,
          255,
          254,
          246,
          246,
          234,
          215,
          199,
          169,
          157,
          157,
          149,
          143,
          136,
          131,
          130,
          128,
          102,
          94,
          84,
          71,
          64,
          61,
          60,
          60,
          59,
          57,
          50,
          50,
          44,
          41,
          41,
          40,
          32,
          32,
          29,
          29,
          28,
          26,
          26,
          22,
          21,
          16,
          16,
          14,
          13,
          12,
          11,
          11,
          11,
          9,
          8,
          8,
          7,
          6,
          6,
          6,
          6,
          6,
          5,
          5,
          4,
          3,
          2,
          2,
          2,
          2,
          2,
          1,
          1,
          1,
          1
         ]
        }
       ],
       "layout": {
        "bargap": 0.2,
        "template": {
         "data": {
          "bar": [
           {
            "error_x": {
             "color": "#f2f5fa"
            },
            "error_y": {
             "color": "#f2f5fa"
            },
            "marker": {
             "line": {
              "color": "rgb(17,17,17)",
              "width": 0.5
             },
             "pattern": {
              "fillmode": "overlay",
              "size": 10,
              "solidity": 0.2
             }
            },
            "type": "bar"
           }
          ],
          "barpolar": [
           {
            "marker": {
             "line": {
              "color": "rgb(17,17,17)",
              "width": 0.5
             },
             "pattern": {
              "fillmode": "overlay",
              "size": 10,
              "solidity": 0.2
             }
            },
            "type": "barpolar"
           }
          ],
          "carpet": [
           {
            "aaxis": {
             "endlinecolor": "#A2B1C6",
             "gridcolor": "#506784",
             "linecolor": "#506784",
             "minorgridcolor": "#506784",
             "startlinecolor": "#A2B1C6"
            },
            "baxis": {
             "endlinecolor": "#A2B1C6",
             "gridcolor": "#506784",
             "linecolor": "#506784",
             "minorgridcolor": "#506784",
             "startlinecolor": "#A2B1C6"
            },
            "type": "carpet"
           }
          ],
          "choropleth": [
           {
            "colorbar": {
             "outlinewidth": 0,
             "ticks": ""
            },
            "type": "choropleth"
           }
          ],
          "contour": [
           {
            "colorbar": {
             "outlinewidth": 0,
             "ticks": ""
            },
            "colorscale": [
             [
              0,
              "#0d0887"
             ],
             [
              0.1111111111111111,
              "#46039f"
             ],
             [
              0.2222222222222222,
              "#7201a8"
             ],
             [
              0.3333333333333333,
              "#9c179e"
             ],
             [
              0.4444444444444444,
              "#bd3786"
             ],
             [
              0.5555555555555556,
              "#d8576b"
             ],
             [
              0.6666666666666666,
              "#ed7953"
             ],
             [
              0.7777777777777778,
              "#fb9f3a"
             ],
             [
              0.8888888888888888,
              "#fdca26"
             ],
             [
              1,
              "#f0f921"
             ]
            ],
            "type": "contour"
           }
          ],
          "contourcarpet": [
           {
            "colorbar": {
             "outlinewidth": 0,
             "ticks": ""
            },
            "type": "contourcarpet"
           }
          ],
          "heatmap": [
           {
            "colorbar": {
             "outlinewidth": 0,
             "ticks": ""
            },
            "colorscale": [
             [
              0,
              "#0d0887"
             ],
             [
              0.1111111111111111,
              "#46039f"
             ],
             [
              0.2222222222222222,
              "#7201a8"
             ],
             [
              0.3333333333333333,
              "#9c179e"
             ],
             [
              0.4444444444444444,
              "#bd3786"
             ],
             [
              0.5555555555555556,
              "#d8576b"
             ],
             [
              0.6666666666666666,
              "#ed7953"
             ],
             [
              0.7777777777777778,
              "#fb9f3a"
             ],
             [
              0.8888888888888888,
              "#fdca26"
             ],
             [
              1,
              "#f0f921"
             ]
            ],
            "type": "heatmap"
           }
          ],
          "heatmapgl": [
           {
            "colorbar": {
             "outlinewidth": 0,
             "ticks": ""
            },
            "colorscale": [
             [
              0,
              "#0d0887"
             ],
             [
              0.1111111111111111,
              "#46039f"
             ],
             [
              0.2222222222222222,
              "#7201a8"
             ],
             [
              0.3333333333333333,
              "#9c179e"
             ],
             [
              0.4444444444444444,
              "#bd3786"
             ],
             [
              0.5555555555555556,
              "#d8576b"
             ],
             [
              0.6666666666666666,
              "#ed7953"
             ],
             [
              0.7777777777777778,
              "#fb9f3a"
             ],
             [
              0.8888888888888888,
              "#fdca26"
             ],
             [
              1,
              "#f0f921"
             ]
            ],
            "type": "heatmapgl"
           }
          ],
          "histogram": [
           {
            "marker": {
             "pattern": {
              "fillmode": "overlay",
              "size": 10,
              "solidity": 0.2
             }
            },
            "type": "histogram"
           }
          ],
          "histogram2d": [
           {
            "colorbar": {
             "outlinewidth": 0,
             "ticks": ""
            },
            "colorscale": [
             [
              0,
              "#0d0887"
             ],
             [
              0.1111111111111111,
              "#46039f"
             ],
             [
              0.2222222222222222,
              "#7201a8"
             ],
             [
              0.3333333333333333,
              "#9c179e"
             ],
             [
              0.4444444444444444,
              "#bd3786"
             ],
             [
              0.5555555555555556,
              "#d8576b"
             ],
             [
              0.6666666666666666,
              "#ed7953"
             ],
             [
              0.7777777777777778,
              "#fb9f3a"
             ],
             [
              0.8888888888888888,
              "#fdca26"
             ],
             [
              1,
              "#f0f921"
             ]
            ],
            "type": "histogram2d"
           }
          ],
          "histogram2dcontour": [
           {
            "colorbar": {
             "outlinewidth": 0,
             "ticks": ""
            },
            "colorscale": [
             [
              0,
              "#0d0887"
             ],
             [
              0.1111111111111111,
              "#46039f"
             ],
             [
              0.2222222222222222,
              "#7201a8"
             ],
             [
              0.3333333333333333,
              "#9c179e"
             ],
             [
              0.4444444444444444,
              "#bd3786"
             ],
             [
              0.5555555555555556,
              "#d8576b"
             ],
             [
              0.6666666666666666,
              "#ed7953"
             ],
             [
              0.7777777777777778,
              "#fb9f3a"
             ],
             [
              0.8888888888888888,
              "#fdca26"
             ],
             [
              1,
              "#f0f921"
             ]
            ],
            "type": "histogram2dcontour"
           }
          ],
          "mesh3d": [
           {
            "colorbar": {
             "outlinewidth": 0,
             "ticks": ""
            },
            "type": "mesh3d"
           }
          ],
          "parcoords": [
           {
            "line": {
             "colorbar": {
              "outlinewidth": 0,
              "ticks": ""
             }
            },
            "type": "parcoords"
           }
          ],
          "pie": [
           {
            "automargin": true,
            "type": "pie"
           }
          ],
          "scatter": [
           {
            "marker": {
             "line": {
              "color": "#283442"
             }
            },
            "type": "scatter"
           }
          ],
          "scatter3d": [
           {
            "line": {
             "colorbar": {
              "outlinewidth": 0,
              "ticks": ""
             }
            },
            "marker": {
             "colorbar": {
              "outlinewidth": 0,
              "ticks": ""
             }
            },
            "type": "scatter3d"
           }
          ],
          "scattercarpet": [
           {
            "marker": {
             "colorbar": {
              "outlinewidth": 0,
              "ticks": ""
             }
            },
            "type": "scattercarpet"
           }
          ],
          "scattergeo": [
           {
            "marker": {
             "colorbar": {
              "outlinewidth": 0,
              "ticks": ""
             }
            },
            "type": "scattergeo"
           }
          ],
          "scattergl": [
           {
            "marker": {
             "line": {
              "color": "#283442"
             }
            },
            "type": "scattergl"
           }
          ],
          "scattermapbox": [
           {
            "marker": {
             "colorbar": {
              "outlinewidth": 0,
              "ticks": ""
             }
            },
            "type": "scattermapbox"
           }
          ],
          "scatterpolar": [
           {
            "marker": {
             "colorbar": {
              "outlinewidth": 0,
              "ticks": ""
             }
            },
            "type": "scatterpolar"
           }
          ],
          "scatterpolargl": [
           {
            "marker": {
             "colorbar": {
              "outlinewidth": 0,
              "ticks": ""
             }
            },
            "type": "scatterpolargl"
           }
          ],
          "scatterternary": [
           {
            "marker": {
             "colorbar": {
              "outlinewidth": 0,
              "ticks": ""
             }
            },
            "type": "scatterternary"
           }
          ],
          "surface": [
           {
            "colorbar": {
             "outlinewidth": 0,
             "ticks": ""
            },
            "colorscale": [
             [
              0,
              "#0d0887"
             ],
             [
              0.1111111111111111,
              "#46039f"
             ],
             [
              0.2222222222222222,
              "#7201a8"
             ],
             [
              0.3333333333333333,
              "#9c179e"
             ],
             [
              0.4444444444444444,
              "#bd3786"
             ],
             [
              0.5555555555555556,
              "#d8576b"
             ],
             [
              0.6666666666666666,
              "#ed7953"
             ],
             [
              0.7777777777777778,
              "#fb9f3a"
             ],
             [
              0.8888888888888888,
              "#fdca26"
             ],
             [
              1,
              "#f0f921"
             ]
            ],
            "type": "surface"
           }
          ],
          "table": [
           {
            "cells": {
             "fill": {
              "color": "#506784"
             },
             "line": {
              "color": "rgb(17,17,17)"
             }
            },
            "header": {
             "fill": {
              "color": "#2a3f5f"
             },
             "line": {
              "color": "rgb(17,17,17)"
             }
            },
            "type": "table"
           }
          ]
         },
         "layout": {
          "annotationdefaults": {
           "arrowcolor": "#f2f5fa",
           "arrowhead": 0,
           "arrowwidth": 1
          },
          "autotypenumbers": "strict",
          "coloraxis": {
           "colorbar": {
            "outlinewidth": 0,
            "ticks": ""
           }
          },
          "colorscale": {
           "diverging": [
            [
             0,
             "#8e0152"
            ],
            [
             0.1,
             "#c51b7d"
            ],
            [
             0.2,
             "#de77ae"
            ],
            [
             0.3,
             "#f1b6da"
            ],
            [
             0.4,
             "#fde0ef"
            ],
            [
             0.5,
             "#f7f7f7"
            ],
            [
             0.6,
             "#e6f5d0"
            ],
            [
             0.7,
             "#b8e186"
            ],
            [
             0.8,
             "#7fbc41"
            ],
            [
             0.9,
             "#4d9221"
            ],
            [
             1,
             "#276419"
            ]
           ],
           "sequential": [
            [
             0,
             "#0d0887"
            ],
            [
             0.1111111111111111,
             "#46039f"
            ],
            [
             0.2222222222222222,
             "#7201a8"
            ],
            [
             0.3333333333333333,
             "#9c179e"
            ],
            [
             0.4444444444444444,
             "#bd3786"
            ],
            [
             0.5555555555555556,
             "#d8576b"
            ],
            [
             0.6666666666666666,
             "#ed7953"
            ],
            [
             0.7777777777777778,
             "#fb9f3a"
            ],
            [
             0.8888888888888888,
             "#fdca26"
            ],
            [
             1,
             "#f0f921"
            ]
           ],
           "sequentialminus": [
            [
             0,
             "#0d0887"
            ],
            [
             0.1111111111111111,
             "#46039f"
            ],
            [
             0.2222222222222222,
             "#7201a8"
            ],
            [
             0.3333333333333333,
             "#9c179e"
            ],
            [
             0.4444444444444444,
             "#bd3786"
            ],
            [
             0.5555555555555556,
             "#d8576b"
            ],
            [
             0.6666666666666666,
             "#ed7953"
            ],
            [
             0.7777777777777778,
             "#fb9f3a"
            ],
            [
             0.8888888888888888,
             "#fdca26"
            ],
            [
             1,
             "#f0f921"
            ]
           ]
          },
          "colorway": [
           "#636efa",
           "#EF553B",
           "#00cc96",
           "#ab63fa",
           "#FFA15A",
           "#19d3f3",
           "#FF6692",
           "#B6E880",
           "#FF97FF",
           "#FECB52"
          ],
          "font": {
           "color": "#f2f5fa"
          },
          "geo": {
           "bgcolor": "rgb(17,17,17)",
           "lakecolor": "rgb(17,17,17)",
           "landcolor": "rgb(17,17,17)",
           "showlakes": true,
           "showland": true,
           "subunitcolor": "#506784"
          },
          "hoverlabel": {
           "align": "left"
          },
          "hovermode": "closest",
          "mapbox": {
           "style": "dark"
          },
          "paper_bgcolor": "rgb(17,17,17)",
          "plot_bgcolor": "rgb(17,17,17)",
          "polar": {
           "angularaxis": {
            "gridcolor": "#506784",
            "linecolor": "#506784",
            "ticks": ""
           },
           "bgcolor": "rgb(17,17,17)",
           "radialaxis": {
            "gridcolor": "#506784",
            "linecolor": "#506784",
            "ticks": ""
           }
          },
          "scene": {
           "xaxis": {
            "backgroundcolor": "rgb(17,17,17)",
            "gridcolor": "#506784",
            "gridwidth": 2,
            "linecolor": "#506784",
            "showbackground": true,
            "ticks": "",
            "zerolinecolor": "#C8D4E3"
           },
           "yaxis": {
            "backgroundcolor": "rgb(17,17,17)",
            "gridcolor": "#506784",
            "gridwidth": 2,
            "linecolor": "#506784",
            "showbackground": true,
            "ticks": "",
            "zerolinecolor": "#C8D4E3"
           },
           "zaxis": {
            "backgroundcolor": "rgb(17,17,17)",
            "gridcolor": "#506784",
            "gridwidth": 2,
            "linecolor": "#506784",
            "showbackground": true,
            "ticks": "",
            "zerolinecolor": "#C8D4E3"
           }
          },
          "shapedefaults": {
           "line": {
            "color": "#f2f5fa"
           }
          },
          "sliderdefaults": {
           "bgcolor": "#C8D4E3",
           "bordercolor": "rgb(17,17,17)",
           "borderwidth": 1,
           "tickwidth": 0
          },
          "ternary": {
           "aaxis": {
            "gridcolor": "#506784",
            "linecolor": "#506784",
            "ticks": ""
           },
           "baxis": {
            "gridcolor": "#506784",
            "linecolor": "#506784",
            "ticks": ""
           },
           "bgcolor": "rgb(17,17,17)",
           "caxis": {
            "gridcolor": "#506784",
            "linecolor": "#506784",
            "ticks": ""
           }
          },
          "title": {
           "x": 0.05
          },
          "updatemenudefaults": {
           "bgcolor": "#506784",
           "borderwidth": 0
          },
          "xaxis": {
           "automargin": true,
           "gridcolor": "#283442",
           "linecolor": "#506784",
           "ticks": "",
           "title": {
            "standoff": 15
           },
           "zerolinecolor": "#283442",
           "zerolinewidth": 2
          },
          "yaxis": {
           "automargin": true,
           "gridcolor": "#283442",
           "linecolor": "#506784",
           "ticks": "",
           "title": {
            "standoff": 15
           },
           "zerolinecolor": "#283442",
           "zerolinewidth": 2
          }
         }
        },
        "title": {
         "text": "The number of master programs provided by each countries."
        },
        "yaxis": {
         "title": {
          "text": "Number of programs"
         }
        }
       }
      }
     },
     "metadata": {},
     "output_type": "display_data"
    }
   ],
   "source": [
    "# I can have a histgram for this\n",
    "fig = go.Figure()\n",
    "\n",
    "fig.add_trace(\n",
    "    go.Bar(x=df[\"country_name\"], y = df[\"program_count\"], marker_color= '#9900cc')\n",
    ")\n",
    "\n",
    "fig.update_layout(\n",
    "    template=\"plotly_dark\",\n",
    "    title=\"The number of master programs provided by each countries.\",\n",
    "    yaxis_title=\"Number of programs\",\n",
    "    bargap=0.2,\n",
    "\n",
    ")"
   ]
  },
  {
   "cell_type": "code",
   "execution_count": 111,
   "metadata": {},
   "outputs": [
    {
     "name": "stdout",
     "output_type": "stream",
     "text": [
      "----------------------------------------------------------------------------------------------------\n",
      "How many countries provides only one program ? \n",
      "              country_name  program_count\n",
      "90                  Guyana              1\n",
      "91                    Fiji              1\n",
      "92                Ethiopia              1\n",
      "93  Bosnia and Herzegovina              1\n",
      "----------------------------------------------------------------------------------------------------\n",
      "2 | How many programs provides by the top 5 countries?\n",
      "     country_name  program_count\n",
      "0   United States          24084\n",
      "1  United Kingdom          14130\n",
      "2       Australia           2932\n",
      "3          Canada           2152\n",
      "4     Netherlands           1346\n",
      "0.8194455937112123\n",
      "81% of the master programs provided by just top 10 countries\n",
      "----------------------------------------------------------------------------------------------------\n"
     ]
    }
   ],
   "source": [
    "# Analysis:\n",
    "# 1 | How many countries provides only one program ?\n",
    "print(\"--\"*50)\n",
    "print(\"How many countries provides only one program ? \")\n",
    "print(df[df[\"program_count\"] == 1])\n",
    "\n",
    "print(\"--\"*50)\n",
    "print(\"2 | How many programs provides by the top 5 countries?\")\n",
    "print(df.head())\n",
    "\n",
    "print(df.iloc[0:10, 1].sum() / df.iloc[:, 1].sum())\n",
    "print(\"81% of the master programs provided by just top 10 countries\")\n",
    "print(\"--\"*50)\n"
   ]
  },
  {
   "cell_type": "markdown",
   "metadata": {},
   "source": [
    "# 2 | which university gives the most master program"
   ]
  },
  {
   "cell_type": "code",
   "execution_count": 137,
   "metadata": {},
   "outputs": [
    {
     "data": {
      "text/plain": [
       "country_name\n",
       "Armenia                              1\n",
       "Uganda                               1\n",
       "Trinidad and Tobago                  1\n",
       "Tanzania, United Republic of         1\n",
       "Palestinian Territory, Occupied      1\n",
       "                                  ... \n",
       "Italy                               95\n",
       "France                             152\n",
       "Germany                            169\n",
       "United Kingdom                     225\n",
       "United States                      669\n",
       "Name: university_name, Length: 94, dtype: int64"
      ]
     },
     "execution_count": 137,
     "metadata": {},
     "output_type": "execute_result"
    }
   ],
   "source": [
    "university_data.sort_values()"
   ]
  },
  {
   "cell_type": "code",
   "execution_count": 140,
   "metadata": {},
   "outputs": [
    {
     "data": {
      "application/vnd.plotly.v1+json": {
       "config": {
        "plotlyServerURL": "https://plot.ly"
       },
       "data": [
        {
         "marker": {
          "color": "#9900cc"
         },
         "type": "bar",
         "x": [
          "United States",
          "United Kingdom",
          "Germany",
          "France",
          "Italy",
          "Spain",
          "Poland",
          "Canada",
          "China",
          "Australia",
          "Switzerland",
          "Netherlands",
          "Austria",
          "Sweden",
          "Belgium",
          "Russian Federation",
          "Finland",
          "Greece",
          "Taiwan, Province of China",
          "Hungary",
          "Portugal",
          "Ireland",
          "Japan",
          "Turkey",
          "Norway",
          "Czech Republic",
          "Cyprus",
          "United Arab Emirates",
          "Israel",
          "Malaysia",
          "Romania",
          "South Africa",
          "Lithuania",
          "Hong Kong",
          "Latvia",
          "Denmark",
          "New Zealand",
          "India",
          "Slovenia",
          "Singapore",
          "Estonia",
          "Thailand",
          "Korea, Republic of",
          "Bulgaria",
          "Croatia",
          "Slovakia",
          "Iceland",
          "Egypt",
          "Luxembourg",
          "Brazil",
          "Pakistan",
          "Philippines",
          "Iran, Islamic Republic of",
          "Saudi Arabia",
          "Qatar",
          "Barbados",
          "Oman",
          "Bahrain",
          "Viet Nam",
          "Rwanda",
          "Serbia",
          "Namibia",
          "Colombia",
          "Ukraine",
          "Malta",
          "Georgia",
          "Macedonia, the former Yugoslav Republic of",
          "Macao",
          "Sri Lanka",
          "Kenya",
          "Kazakhstan",
          "Indonesia",
          "Uganda",
          "Trinidad and Tobago",
          "Tanzania, United Republic of",
          "Armenia",
          "Palestinian Territory, Occupied",
          "Nigeria",
          "Azerbaijan",
          "Bangladesh",
          "Bosnia and Herzegovina",
          "Ethiopia",
          "Fiji",
          "Grenada",
          "Guam",
          "Guatemala",
          "Guyana",
          "Isle of Man",
          "Kyrgyzstan",
          "Aruba",
          "Lebanon",
          "Liechtenstein",
          "Monaco",
          "Virgin Islands, U.S."
         ],
         "y": [
          669,
          225,
          169,
          152,
          95,
          77,
          64,
          61,
          57,
          47,
          45,
          42,
          37,
          36,
          34,
          34,
          30,
          29,
          29,
          28,
          27,
          26,
          25,
          25,
          23,
          22,
          16,
          14,
          13,
          13,
          13,
          12,
          12,
          11,
          10,
          10,
          10,
          8,
          7,
          7,
          7,
          7,
          6,
          6,
          5,
          5,
          5,
          4,
          4,
          3,
          3,
          3,
          3,
          3,
          3,
          2,
          2,
          2,
          2,
          2,
          2,
          2,
          2,
          2,
          2,
          2,
          2,
          2,
          2,
          2,
          2,
          2,
          1,
          1,
          1,
          1,
          1,
          1,
          1,
          1,
          1,
          1,
          1,
          1,
          1,
          1,
          1,
          1,
          1,
          1,
          1,
          1,
          1,
          1
         ]
        }
       ],
       "layout": {
        "bargap": 0.2,
        "template": {
         "data": {
          "bar": [
           {
            "error_x": {
             "color": "#f2f5fa"
            },
            "error_y": {
             "color": "#f2f5fa"
            },
            "marker": {
             "line": {
              "color": "rgb(17,17,17)",
              "width": 0.5
             },
             "pattern": {
              "fillmode": "overlay",
              "size": 10,
              "solidity": 0.2
             }
            },
            "type": "bar"
           }
          ],
          "barpolar": [
           {
            "marker": {
             "line": {
              "color": "rgb(17,17,17)",
              "width": 0.5
             },
             "pattern": {
              "fillmode": "overlay",
              "size": 10,
              "solidity": 0.2
             }
            },
            "type": "barpolar"
           }
          ],
          "carpet": [
           {
            "aaxis": {
             "endlinecolor": "#A2B1C6",
             "gridcolor": "#506784",
             "linecolor": "#506784",
             "minorgridcolor": "#506784",
             "startlinecolor": "#A2B1C6"
            },
            "baxis": {
             "endlinecolor": "#A2B1C6",
             "gridcolor": "#506784",
             "linecolor": "#506784",
             "minorgridcolor": "#506784",
             "startlinecolor": "#A2B1C6"
            },
            "type": "carpet"
           }
          ],
          "choropleth": [
           {
            "colorbar": {
             "outlinewidth": 0,
             "ticks": ""
            },
            "type": "choropleth"
           }
          ],
          "contour": [
           {
            "colorbar": {
             "outlinewidth": 0,
             "ticks": ""
            },
            "colorscale": [
             [
              0,
              "#0d0887"
             ],
             [
              0.1111111111111111,
              "#46039f"
             ],
             [
              0.2222222222222222,
              "#7201a8"
             ],
             [
              0.3333333333333333,
              "#9c179e"
             ],
             [
              0.4444444444444444,
              "#bd3786"
             ],
             [
              0.5555555555555556,
              "#d8576b"
             ],
             [
              0.6666666666666666,
              "#ed7953"
             ],
             [
              0.7777777777777778,
              "#fb9f3a"
             ],
             [
              0.8888888888888888,
              "#fdca26"
             ],
             [
              1,
              "#f0f921"
             ]
            ],
            "type": "contour"
           }
          ],
          "contourcarpet": [
           {
            "colorbar": {
             "outlinewidth": 0,
             "ticks": ""
            },
            "type": "contourcarpet"
           }
          ],
          "heatmap": [
           {
            "colorbar": {
             "outlinewidth": 0,
             "ticks": ""
            },
            "colorscale": [
             [
              0,
              "#0d0887"
             ],
             [
              0.1111111111111111,
              "#46039f"
             ],
             [
              0.2222222222222222,
              "#7201a8"
             ],
             [
              0.3333333333333333,
              "#9c179e"
             ],
             [
              0.4444444444444444,
              "#bd3786"
             ],
             [
              0.5555555555555556,
              "#d8576b"
             ],
             [
              0.6666666666666666,
              "#ed7953"
             ],
             [
              0.7777777777777778,
              "#fb9f3a"
             ],
             [
              0.8888888888888888,
              "#fdca26"
             ],
             [
              1,
              "#f0f921"
             ]
            ],
            "type": "heatmap"
           }
          ],
          "heatmapgl": [
           {
            "colorbar": {
             "outlinewidth": 0,
             "ticks": ""
            },
            "colorscale": [
             [
              0,
              "#0d0887"
             ],
             [
              0.1111111111111111,
              "#46039f"
             ],
             [
              0.2222222222222222,
              "#7201a8"
             ],
             [
              0.3333333333333333,
              "#9c179e"
             ],
             [
              0.4444444444444444,
              "#bd3786"
             ],
             [
              0.5555555555555556,
              "#d8576b"
             ],
             [
              0.6666666666666666,
              "#ed7953"
             ],
             [
              0.7777777777777778,
              "#fb9f3a"
             ],
             [
              0.8888888888888888,
              "#fdca26"
             ],
             [
              1,
              "#f0f921"
             ]
            ],
            "type": "heatmapgl"
           }
          ],
          "histogram": [
           {
            "marker": {
             "pattern": {
              "fillmode": "overlay",
              "size": 10,
              "solidity": 0.2
             }
            },
            "type": "histogram"
           }
          ],
          "histogram2d": [
           {
            "colorbar": {
             "outlinewidth": 0,
             "ticks": ""
            },
            "colorscale": [
             [
              0,
              "#0d0887"
             ],
             [
              0.1111111111111111,
              "#46039f"
             ],
             [
              0.2222222222222222,
              "#7201a8"
             ],
             [
              0.3333333333333333,
              "#9c179e"
             ],
             [
              0.4444444444444444,
              "#bd3786"
             ],
             [
              0.5555555555555556,
              "#d8576b"
             ],
             [
              0.6666666666666666,
              "#ed7953"
             ],
             [
              0.7777777777777778,
              "#fb9f3a"
             ],
             [
              0.8888888888888888,
              "#fdca26"
             ],
             [
              1,
              "#f0f921"
             ]
            ],
            "type": "histogram2d"
           }
          ],
          "histogram2dcontour": [
           {
            "colorbar": {
             "outlinewidth": 0,
             "ticks": ""
            },
            "colorscale": [
             [
              0,
              "#0d0887"
             ],
             [
              0.1111111111111111,
              "#46039f"
             ],
             [
              0.2222222222222222,
              "#7201a8"
             ],
             [
              0.3333333333333333,
              "#9c179e"
             ],
             [
              0.4444444444444444,
              "#bd3786"
             ],
             [
              0.5555555555555556,
              "#d8576b"
             ],
             [
              0.6666666666666666,
              "#ed7953"
             ],
             [
              0.7777777777777778,
              "#fb9f3a"
             ],
             [
              0.8888888888888888,
              "#fdca26"
             ],
             [
              1,
              "#f0f921"
             ]
            ],
            "type": "histogram2dcontour"
           }
          ],
          "mesh3d": [
           {
            "colorbar": {
             "outlinewidth": 0,
             "ticks": ""
            },
            "type": "mesh3d"
           }
          ],
          "parcoords": [
           {
            "line": {
             "colorbar": {
              "outlinewidth": 0,
              "ticks": ""
             }
            },
            "type": "parcoords"
           }
          ],
          "pie": [
           {
            "automargin": true,
            "type": "pie"
           }
          ],
          "scatter": [
           {
            "marker": {
             "line": {
              "color": "#283442"
             }
            },
            "type": "scatter"
           }
          ],
          "scatter3d": [
           {
            "line": {
             "colorbar": {
              "outlinewidth": 0,
              "ticks": ""
             }
            },
            "marker": {
             "colorbar": {
              "outlinewidth": 0,
              "ticks": ""
             }
            },
            "type": "scatter3d"
           }
          ],
          "scattercarpet": [
           {
            "marker": {
             "colorbar": {
              "outlinewidth": 0,
              "ticks": ""
             }
            },
            "type": "scattercarpet"
           }
          ],
          "scattergeo": [
           {
            "marker": {
             "colorbar": {
              "outlinewidth": 0,
              "ticks": ""
             }
            },
            "type": "scattergeo"
           }
          ],
          "scattergl": [
           {
            "marker": {
             "line": {
              "color": "#283442"
             }
            },
            "type": "scattergl"
           }
          ],
          "scattermapbox": [
           {
            "marker": {
             "colorbar": {
              "outlinewidth": 0,
              "ticks": ""
             }
            },
            "type": "scattermapbox"
           }
          ],
          "scatterpolar": [
           {
            "marker": {
             "colorbar": {
              "outlinewidth": 0,
              "ticks": ""
             }
            },
            "type": "scatterpolar"
           }
          ],
          "scatterpolargl": [
           {
            "marker": {
             "colorbar": {
              "outlinewidth": 0,
              "ticks": ""
             }
            },
            "type": "scatterpolargl"
           }
          ],
          "scatterternary": [
           {
            "marker": {
             "colorbar": {
              "outlinewidth": 0,
              "ticks": ""
             }
            },
            "type": "scatterternary"
           }
          ],
          "surface": [
           {
            "colorbar": {
             "outlinewidth": 0,
             "ticks": ""
            },
            "colorscale": [
             [
              0,
              "#0d0887"
             ],
             [
              0.1111111111111111,
              "#46039f"
             ],
             [
              0.2222222222222222,
              "#7201a8"
             ],
             [
              0.3333333333333333,
              "#9c179e"
             ],
             [
              0.4444444444444444,
              "#bd3786"
             ],
             [
              0.5555555555555556,
              "#d8576b"
             ],
             [
              0.6666666666666666,
              "#ed7953"
             ],
             [
              0.7777777777777778,
              "#fb9f3a"
             ],
             [
              0.8888888888888888,
              "#fdca26"
             ],
             [
              1,
              "#f0f921"
             ]
            ],
            "type": "surface"
           }
          ],
          "table": [
           {
            "cells": {
             "fill": {
              "color": "#506784"
             },
             "line": {
              "color": "rgb(17,17,17)"
             }
            },
            "header": {
             "fill": {
              "color": "#2a3f5f"
             },
             "line": {
              "color": "rgb(17,17,17)"
             }
            },
            "type": "table"
           }
          ]
         },
         "layout": {
          "annotationdefaults": {
           "arrowcolor": "#f2f5fa",
           "arrowhead": 0,
           "arrowwidth": 1
          },
          "autotypenumbers": "strict",
          "coloraxis": {
           "colorbar": {
            "outlinewidth": 0,
            "ticks": ""
           }
          },
          "colorscale": {
           "diverging": [
            [
             0,
             "#8e0152"
            ],
            [
             0.1,
             "#c51b7d"
            ],
            [
             0.2,
             "#de77ae"
            ],
            [
             0.3,
             "#f1b6da"
            ],
            [
             0.4,
             "#fde0ef"
            ],
            [
             0.5,
             "#f7f7f7"
            ],
            [
             0.6,
             "#e6f5d0"
            ],
            [
             0.7,
             "#b8e186"
            ],
            [
             0.8,
             "#7fbc41"
            ],
            [
             0.9,
             "#4d9221"
            ],
            [
             1,
             "#276419"
            ]
           ],
           "sequential": [
            [
             0,
             "#0d0887"
            ],
            [
             0.1111111111111111,
             "#46039f"
            ],
            [
             0.2222222222222222,
             "#7201a8"
            ],
            [
             0.3333333333333333,
             "#9c179e"
            ],
            [
             0.4444444444444444,
             "#bd3786"
            ],
            [
             0.5555555555555556,
             "#d8576b"
            ],
            [
             0.6666666666666666,
             "#ed7953"
            ],
            [
             0.7777777777777778,
             "#fb9f3a"
            ],
            [
             0.8888888888888888,
             "#fdca26"
            ],
            [
             1,
             "#f0f921"
            ]
           ],
           "sequentialminus": [
            [
             0,
             "#0d0887"
            ],
            [
             0.1111111111111111,
             "#46039f"
            ],
            [
             0.2222222222222222,
             "#7201a8"
            ],
            [
             0.3333333333333333,
             "#9c179e"
            ],
            [
             0.4444444444444444,
             "#bd3786"
            ],
            [
             0.5555555555555556,
             "#d8576b"
            ],
            [
             0.6666666666666666,
             "#ed7953"
            ],
            [
             0.7777777777777778,
             "#fb9f3a"
            ],
            [
             0.8888888888888888,
             "#fdca26"
            ],
            [
             1,
             "#f0f921"
            ]
           ]
          },
          "colorway": [
           "#636efa",
           "#EF553B",
           "#00cc96",
           "#ab63fa",
           "#FFA15A",
           "#19d3f3",
           "#FF6692",
           "#B6E880",
           "#FF97FF",
           "#FECB52"
          ],
          "font": {
           "color": "#f2f5fa"
          },
          "geo": {
           "bgcolor": "rgb(17,17,17)",
           "lakecolor": "rgb(17,17,17)",
           "landcolor": "rgb(17,17,17)",
           "showlakes": true,
           "showland": true,
           "subunitcolor": "#506784"
          },
          "hoverlabel": {
           "align": "left"
          },
          "hovermode": "closest",
          "mapbox": {
           "style": "dark"
          },
          "paper_bgcolor": "rgb(17,17,17)",
          "plot_bgcolor": "rgb(17,17,17)",
          "polar": {
           "angularaxis": {
            "gridcolor": "#506784",
            "linecolor": "#506784",
            "ticks": ""
           },
           "bgcolor": "rgb(17,17,17)",
           "radialaxis": {
            "gridcolor": "#506784",
            "linecolor": "#506784",
            "ticks": ""
           }
          },
          "scene": {
           "xaxis": {
            "backgroundcolor": "rgb(17,17,17)",
            "gridcolor": "#506784",
            "gridwidth": 2,
            "linecolor": "#506784",
            "showbackground": true,
            "ticks": "",
            "zerolinecolor": "#C8D4E3"
           },
           "yaxis": {
            "backgroundcolor": "rgb(17,17,17)",
            "gridcolor": "#506784",
            "gridwidth": 2,
            "linecolor": "#506784",
            "showbackground": true,
            "ticks": "",
            "zerolinecolor": "#C8D4E3"
           },
           "zaxis": {
            "backgroundcolor": "rgb(17,17,17)",
            "gridcolor": "#506784",
            "gridwidth": 2,
            "linecolor": "#506784",
            "showbackground": true,
            "ticks": "",
            "zerolinecolor": "#C8D4E3"
           }
          },
          "shapedefaults": {
           "line": {
            "color": "#f2f5fa"
           }
          },
          "sliderdefaults": {
           "bgcolor": "#C8D4E3",
           "bordercolor": "rgb(17,17,17)",
           "borderwidth": 1,
           "tickwidth": 0
          },
          "ternary": {
           "aaxis": {
            "gridcolor": "#506784",
            "linecolor": "#506784",
            "ticks": ""
           },
           "baxis": {
            "gridcolor": "#506784",
            "linecolor": "#506784",
            "ticks": ""
           },
           "bgcolor": "rgb(17,17,17)",
           "caxis": {
            "gridcolor": "#506784",
            "linecolor": "#506784",
            "ticks": ""
           }
          },
          "title": {
           "x": 0.05
          },
          "updatemenudefaults": {
           "bgcolor": "#506784",
           "borderwidth": 0
          },
          "xaxis": {
           "automargin": true,
           "gridcolor": "#283442",
           "linecolor": "#506784",
           "ticks": "",
           "title": {
            "standoff": 15
           },
           "zerolinecolor": "#283442",
           "zerolinewidth": 2
          },
          "yaxis": {
           "automargin": true,
           "gridcolor": "#283442",
           "linecolor": "#506784",
           "ticks": "",
           "title": {
            "standoff": 15
           },
           "zerolinecolor": "#283442",
           "zerolinewidth": 2
          }
         }
        },
        "title": {
         "text": "The number of master programs provided by each countries."
        },
        "yaxis": {
         "title": {
          "text": "Number of universities"
         }
        }
       }
      }
     },
     "metadata": {},
     "output_type": "display_data"
    }
   ],
   "source": [
    "# Which country has most number of university ?\n",
    "\n",
    "university_data = data.groupby([\"country_name\"])[\"university_name\"].nunique().sort_values(ascending=False)\n",
    "df = pd.DataFrame({\"country_name\": university_data.index,\n",
    "                   \"university_count\": university_data.values})\n",
    "fig = go.Figure()\n",
    "\n",
    "fig.add_trace(\n",
    "    go.Bar(x=df[\"country_name\"], y = df[\"university_count\"], marker_color= '#9900cc')\n",
    ")\n",
    "\n",
    "fig.update_layout(\n",
    "    template=\"plotly_dark\",\n",
    "    title=\"The number of master programs provided by each countries.\",\n",
    "    yaxis_title=\"Number of universities\",\n",
    "    bargap=0.2,\n",
    "\n",
    ")"
   ]
  },
  {
   "cell_type": "markdown",
   "metadata": {},
   "source": [
    "#### The universities provide only one master program"
   ]
  },
  {
   "cell_type": "code",
   "execution_count": 146,
   "metadata": {},
   "outputs": [
    {
     "data": {
      "text/plain": [
       "[0        False\n",
       " 1        False\n",
       " 2        False\n",
       " 3        False\n",
       " 4        False\n",
       "          ...  \n",
       " 60420    False\n",
       " 60421    False\n",
       " 60422    False\n",
       " 60423    False\n",
       " 60424    False\n",
       " Name: country_name, Length: 60425, dtype: bool]"
      ]
     },
     "execution_count": 146,
     "metadata": {},
     "output_type": "execute_result"
    }
   ],
   "source": [
    "[data[\"country_name\"].isin([\"Ethiopia\", \"Guyana\", \"Bosnia and Herzegovina\", \"Fiji\"])]"
   ]
  },
  {
   "cell_type": "code",
   "execution_count": 148,
   "metadata": {},
   "outputs": [
    {
     "data": {
      "text/html": [
       "<div>\n",
       "<style scoped>\n",
       "    .dataframe tbody tr th:only-of-type {\n",
       "        vertical-align: middle;\n",
       "    }\n",
       "\n",
       "    .dataframe tbody tr th {\n",
       "        vertical-align: top;\n",
       "    }\n",
       "\n",
       "    .dataframe thead th {\n",
       "        text-align: right;\n",
       "    }\n",
       "</style>\n",
       "<table border=\"1\" class=\"dataframe\">\n",
       "  <thead>\n",
       "    <tr style=\"text-align: right;\">\n",
       "      <th></th>\n",
       "      <th>country_name</th>\n",
       "      <th>university_name</th>\n",
       "      <th>university_rank</th>\n",
       "      <th>program_name</th>\n",
       "      <th>program_type</th>\n",
       "      <th>duration</th>\n",
       "      <th>language</th>\n",
       "      <th>tution_1_currency</th>\n",
       "      <th>tution_1_money</th>\n",
       "      <th>tution_1_type</th>\n",
       "      <th>tution_2_currency</th>\n",
       "      <th>tution_2_money</th>\n",
       "      <th>tution_2_type</th>\n",
       "      <th>tuition_price_specification</th>\n",
       "      <th>ielts_score</th>\n",
       "      <th>city</th>\n",
       "    </tr>\n",
       "  </thead>\n",
       "  <tbody>\n",
       "    <tr>\n",
       "      <th>3888</th>\n",
       "      <td>Bosnia and Herzegovina</td>\n",
       "      <td>University of Sarajevo</td>\n",
       "      <td>NaN</td>\n",
       "      <td>Property</td>\n",
       "      <td>Master</td>\n",
       "      <td>24 months</td>\n",
       "      <td>English</td>\n",
       "      <td>EUR</td>\n",
       "      <td>10225.0</td>\n",
       "      <td>International</td>\n",
       "      <td>EUR</td>\n",
       "      <td>5100.0</td>\n",
       "      <td>National</td>\n",
       "      <td>Tuition (Year)</td>\n",
       "      <td>NaN</td>\n",
       "      <td>['Sarajevo']</td>\n",
       "    </tr>\n",
       "    <tr>\n",
       "      <th>7786</th>\n",
       "      <td>Ethiopia</td>\n",
       "      <td>Addis Ababa University</td>\n",
       "      <td>NaN</td>\n",
       "      <td>Accounting and Auditing</td>\n",
       "      <td>MSc</td>\n",
       "      <td>18 months</td>\n",
       "      <td>English</td>\n",
       "      <td>USD</td>\n",
       "      <td>80.0</td>\n",
       "      <td>International</td>\n",
       "      <td>USD</td>\n",
       "      <td>50.0</td>\n",
       "      <td>National</td>\n",
       "      <td>Tuition (Credit)</td>\n",
       "      <td>NaN</td>\n",
       "      <td>['Addis Ababa']</td>\n",
       "    </tr>\n",
       "    <tr>\n",
       "      <th>7787</th>\n",
       "      <td>Fiji</td>\n",
       "      <td>University of the South Pacific</td>\n",
       "      <td>NaN</td>\n",
       "      <td>Master of Business Administration</td>\n",
       "      <td>MBA</td>\n",
       "      <td>12 months</td>\n",
       "      <td>English</td>\n",
       "      <td>EUR</td>\n",
       "      <td>12274.0</td>\n",
       "      <td>International</td>\n",
       "      <td>EUR</td>\n",
       "      <td>7651.0</td>\n",
       "      <td>National</td>\n",
       "      <td>Tuition (Year)</td>\n",
       "      <td>NaN</td>\n",
       "      <td>['Suva']</td>\n",
       "    </tr>\n",
       "    <tr>\n",
       "      <th>11191</th>\n",
       "      <td>Guyana</td>\n",
       "      <td>University of Guyana</td>\n",
       "      <td>NaN</td>\n",
       "      <td>Social Sciences</td>\n",
       "      <td>Master</td>\n",
       "      <td>12 months</td>\n",
       "      <td>English</td>\n",
       "      <td>NaN</td>\n",
       "      <td>NaN</td>\n",
       "      <td>NaN</td>\n",
       "      <td>NaN</td>\n",
       "      <td>NaN</td>\n",
       "      <td>NaN</td>\n",
       "      <td>NaN</td>\n",
       "      <td>NaN</td>\n",
       "      <td>['Georgetown']</td>\n",
       "    </tr>\n",
       "  </tbody>\n",
       "</table>\n",
       "</div>"
      ],
      "text/plain": [
       "                 country_name                  university_name  \\\n",
       "3888   Bosnia and Herzegovina           University of Sarajevo   \n",
       "7786                 Ethiopia           Addis Ababa University   \n",
       "7787                     Fiji  University of the South Pacific   \n",
       "11191                  Guyana             University of Guyana   \n",
       "\n",
       "       university_rank                       program_name program_type  \\\n",
       "3888               NaN                           Property       Master   \n",
       "7786               NaN            Accounting and Auditing          MSc   \n",
       "7787               NaN  Master of Business Administration          MBA   \n",
       "11191              NaN                    Social Sciences       Master   \n",
       "\n",
       "        duration language tution_1_currency  tution_1_money  tution_1_type  \\\n",
       "3888   24 months  English               EUR         10225.0  International   \n",
       "7786   18 months  English               USD            80.0  International   \n",
       "7787   12 months  English               EUR         12274.0  International   \n",
       "11191  12 months  English               NaN             NaN            NaN   \n",
       "\n",
       "      tution_2_currency  tution_2_money tution_2_type  \\\n",
       "3888                EUR          5100.0      National   \n",
       "7786                USD            50.0      National   \n",
       "7787                EUR          7651.0      National   \n",
       "11191               NaN             NaN           NaN   \n",
       "\n",
       "      tuition_price_specification  ielts_score             city  \n",
       "3888               Tuition (Year)          NaN     ['Sarajevo']  \n",
       "7786             Tuition (Credit)          NaN  ['Addis Ababa']  \n",
       "7787               Tuition (Year)          NaN         ['Suva']  \n",
       "11191                         NaN          NaN   ['Georgetown']  "
      ]
     },
     "execution_count": 148,
     "metadata": {},
     "output_type": "execute_result"
    }
   ],
   "source": [
    "data[data[\"country_name\"].isin([\"Ethiopia\", \"Guyana\", \"Bosnia and Herzegovina\", \"Fiji\"])]"
   ]
  },
  {
   "cell_type": "code",
   "execution_count": 150,
   "metadata": {},
   "outputs": [
    {
     "name": "stdout",
     "output_type": "stream",
     "text": [
      "0.6770004189359028\n",
      "67% of universities which provide masters are present in only top 10 countries\n",
      "----------------------------------------------------------------------------------------------------\n"
     ]
    }
   ],
   "source": [
    "print(df.iloc[0:10, 1].sum() / df.iloc[:, 1].sum())\n",
    "print(\"67% of universities which provide masters are present in only top 10 countries\")\n",
    "print(\"--\"*50)"
   ]
  },
  {
   "cell_type": "code",
   "execution_count": 151,
   "metadata": {},
   "outputs": [
    {
     "data": {
      "text/plain": [
       "0.10638297872340426"
      ]
     },
     "execution_count": 151,
     "metadata": {},
     "output_type": "execute_result"
    }
   ],
   "source": [
    "10/94"
   ]
  },
  {
   "cell_type": "markdown",
   "metadata": {},
   "source": [
    "- 67% of universities which provide masters are present in only top 10 countries. that is just 10.6% of countries (10/94).\n",
    "So 67% universities are present in just 10.6% of countries."
   ]
  },
  {
   "cell_type": "code",
   "execution_count": 156,
   "metadata": {},
   "outputs": [
    {
     "data": {
      "application/vnd.plotly.v1+json": {
       "config": {
        "plotlyServerURL": "https://plot.ly"
       },
       "data": [
        {
         "marker": {
          "color": "#9900cc"
         },
         "type": "bar",
         "x": [
          "University of Kent",
          "Queen Mary University of London",
          "The University of Edinburgh",
          "University of St Andrews",
          "University of Birmingham",
          "Newcastle University",
          "The University of Manchester",
          "King's College London",
          "University of Southern Queensland",
          "City University of London",
          "The City University of New York",
          "Swansea University",
          "University of Glasgow",
          "Birkbeck University of London",
          "Leiden University",
          "University of Southampton",
          "University of Leeds",
          "Curtin University",
          "Universitat Aut\\xc3\\xb2noma de Barcelona",
          "Coventry University"
         ],
         "y": [
          1161,
          687,
          429,
          387,
          323,
          323,
          307,
          301,
          300,
          280,
          274,
          273,
          254,
          252,
          249,
          247,
          241,
          238,
          228,
          223
         ]
        }
       ],
       "layout": {
        "bargap": 0.2,
        "template": {
         "data": {
          "bar": [
           {
            "error_x": {
             "color": "#f2f5fa"
            },
            "error_y": {
             "color": "#f2f5fa"
            },
            "marker": {
             "line": {
              "color": "rgb(17,17,17)",
              "width": 0.5
             },
             "pattern": {
              "fillmode": "overlay",
              "size": 10,
              "solidity": 0.2
             }
            },
            "type": "bar"
           }
          ],
          "barpolar": [
           {
            "marker": {
             "line": {
              "color": "rgb(17,17,17)",
              "width": 0.5
             },
             "pattern": {
              "fillmode": "overlay",
              "size": 10,
              "solidity": 0.2
             }
            },
            "type": "barpolar"
           }
          ],
          "carpet": [
           {
            "aaxis": {
             "endlinecolor": "#A2B1C6",
             "gridcolor": "#506784",
             "linecolor": "#506784",
             "minorgridcolor": "#506784",
             "startlinecolor": "#A2B1C6"
            },
            "baxis": {
             "endlinecolor": "#A2B1C6",
             "gridcolor": "#506784",
             "linecolor": "#506784",
             "minorgridcolor": "#506784",
             "startlinecolor": "#A2B1C6"
            },
            "type": "carpet"
           }
          ],
          "choropleth": [
           {
            "colorbar": {
             "outlinewidth": 0,
             "ticks": ""
            },
            "type": "choropleth"
           }
          ],
          "contour": [
           {
            "colorbar": {
             "outlinewidth": 0,
             "ticks": ""
            },
            "colorscale": [
             [
              0,
              "#0d0887"
             ],
             [
              0.1111111111111111,
              "#46039f"
             ],
             [
              0.2222222222222222,
              "#7201a8"
             ],
             [
              0.3333333333333333,
              "#9c179e"
             ],
             [
              0.4444444444444444,
              "#bd3786"
             ],
             [
              0.5555555555555556,
              "#d8576b"
             ],
             [
              0.6666666666666666,
              "#ed7953"
             ],
             [
              0.7777777777777778,
              "#fb9f3a"
             ],
             [
              0.8888888888888888,
              "#fdca26"
             ],
             [
              1,
              "#f0f921"
             ]
            ],
            "type": "contour"
           }
          ],
          "contourcarpet": [
           {
            "colorbar": {
             "outlinewidth": 0,
             "ticks": ""
            },
            "type": "contourcarpet"
           }
          ],
          "heatmap": [
           {
            "colorbar": {
             "outlinewidth": 0,
             "ticks": ""
            },
            "colorscale": [
             [
              0,
              "#0d0887"
             ],
             [
              0.1111111111111111,
              "#46039f"
             ],
             [
              0.2222222222222222,
              "#7201a8"
             ],
             [
              0.3333333333333333,
              "#9c179e"
             ],
             [
              0.4444444444444444,
              "#bd3786"
             ],
             [
              0.5555555555555556,
              "#d8576b"
             ],
             [
              0.6666666666666666,
              "#ed7953"
             ],
             [
              0.7777777777777778,
              "#fb9f3a"
             ],
             [
              0.8888888888888888,
              "#fdca26"
             ],
             [
              1,
              "#f0f921"
             ]
            ],
            "type": "heatmap"
           }
          ],
          "heatmapgl": [
           {
            "colorbar": {
             "outlinewidth": 0,
             "ticks": ""
            },
            "colorscale": [
             [
              0,
              "#0d0887"
             ],
             [
              0.1111111111111111,
              "#46039f"
             ],
             [
              0.2222222222222222,
              "#7201a8"
             ],
             [
              0.3333333333333333,
              "#9c179e"
             ],
             [
              0.4444444444444444,
              "#bd3786"
             ],
             [
              0.5555555555555556,
              "#d8576b"
             ],
             [
              0.6666666666666666,
              "#ed7953"
             ],
             [
              0.7777777777777778,
              "#fb9f3a"
             ],
             [
              0.8888888888888888,
              "#fdca26"
             ],
             [
              1,
              "#f0f921"
             ]
            ],
            "type": "heatmapgl"
           }
          ],
          "histogram": [
           {
            "marker": {
             "pattern": {
              "fillmode": "overlay",
              "size": 10,
              "solidity": 0.2
             }
            },
            "type": "histogram"
           }
          ],
          "histogram2d": [
           {
            "colorbar": {
             "outlinewidth": 0,
             "ticks": ""
            },
            "colorscale": [
             [
              0,
              "#0d0887"
             ],
             [
              0.1111111111111111,
              "#46039f"
             ],
             [
              0.2222222222222222,
              "#7201a8"
             ],
             [
              0.3333333333333333,
              "#9c179e"
             ],
             [
              0.4444444444444444,
              "#bd3786"
             ],
             [
              0.5555555555555556,
              "#d8576b"
             ],
             [
              0.6666666666666666,
              "#ed7953"
             ],
             [
              0.7777777777777778,
              "#fb9f3a"
             ],
             [
              0.8888888888888888,
              "#fdca26"
             ],
             [
              1,
              "#f0f921"
             ]
            ],
            "type": "histogram2d"
           }
          ],
          "histogram2dcontour": [
           {
            "colorbar": {
             "outlinewidth": 0,
             "ticks": ""
            },
            "colorscale": [
             [
              0,
              "#0d0887"
             ],
             [
              0.1111111111111111,
              "#46039f"
             ],
             [
              0.2222222222222222,
              "#7201a8"
             ],
             [
              0.3333333333333333,
              "#9c179e"
             ],
             [
              0.4444444444444444,
              "#bd3786"
             ],
             [
              0.5555555555555556,
              "#d8576b"
             ],
             [
              0.6666666666666666,
              "#ed7953"
             ],
             [
              0.7777777777777778,
              "#fb9f3a"
             ],
             [
              0.8888888888888888,
              "#fdca26"
             ],
             [
              1,
              "#f0f921"
             ]
            ],
            "type": "histogram2dcontour"
           }
          ],
          "mesh3d": [
           {
            "colorbar": {
             "outlinewidth": 0,
             "ticks": ""
            },
            "type": "mesh3d"
           }
          ],
          "parcoords": [
           {
            "line": {
             "colorbar": {
              "outlinewidth": 0,
              "ticks": ""
             }
            },
            "type": "parcoords"
           }
          ],
          "pie": [
           {
            "automargin": true,
            "type": "pie"
           }
          ],
          "scatter": [
           {
            "marker": {
             "line": {
              "color": "#283442"
             }
            },
            "type": "scatter"
           }
          ],
          "scatter3d": [
           {
            "line": {
             "colorbar": {
              "outlinewidth": 0,
              "ticks": ""
             }
            },
            "marker": {
             "colorbar": {
              "outlinewidth": 0,
              "ticks": ""
             }
            },
            "type": "scatter3d"
           }
          ],
          "scattercarpet": [
           {
            "marker": {
             "colorbar": {
              "outlinewidth": 0,
              "ticks": ""
             }
            },
            "type": "scattercarpet"
           }
          ],
          "scattergeo": [
           {
            "marker": {
             "colorbar": {
              "outlinewidth": 0,
              "ticks": ""
             }
            },
            "type": "scattergeo"
           }
          ],
          "scattergl": [
           {
            "marker": {
             "line": {
              "color": "#283442"
             }
            },
            "type": "scattergl"
           }
          ],
          "scattermapbox": [
           {
            "marker": {
             "colorbar": {
              "outlinewidth": 0,
              "ticks": ""
             }
            },
            "type": "scattermapbox"
           }
          ],
          "scatterpolar": [
           {
            "marker": {
             "colorbar": {
              "outlinewidth": 0,
              "ticks": ""
             }
            },
            "type": "scatterpolar"
           }
          ],
          "scatterpolargl": [
           {
            "marker": {
             "colorbar": {
              "outlinewidth": 0,
              "ticks": ""
             }
            },
            "type": "scatterpolargl"
           }
          ],
          "scatterternary": [
           {
            "marker": {
             "colorbar": {
              "outlinewidth": 0,
              "ticks": ""
             }
            },
            "type": "scatterternary"
           }
          ],
          "surface": [
           {
            "colorbar": {
             "outlinewidth": 0,
             "ticks": ""
            },
            "colorscale": [
             [
              0,
              "#0d0887"
             ],
             [
              0.1111111111111111,
              "#46039f"
             ],
             [
              0.2222222222222222,
              "#7201a8"
             ],
             [
              0.3333333333333333,
              "#9c179e"
             ],
             [
              0.4444444444444444,
              "#bd3786"
             ],
             [
              0.5555555555555556,
              "#d8576b"
             ],
             [
              0.6666666666666666,
              "#ed7953"
             ],
             [
              0.7777777777777778,
              "#fb9f3a"
             ],
             [
              0.8888888888888888,
              "#fdca26"
             ],
             [
              1,
              "#f0f921"
             ]
            ],
            "type": "surface"
           }
          ],
          "table": [
           {
            "cells": {
             "fill": {
              "color": "#506784"
             },
             "line": {
              "color": "rgb(17,17,17)"
             }
            },
            "header": {
             "fill": {
              "color": "#2a3f5f"
             },
             "line": {
              "color": "rgb(17,17,17)"
             }
            },
            "type": "table"
           }
          ]
         },
         "layout": {
          "annotationdefaults": {
           "arrowcolor": "#f2f5fa",
           "arrowhead": 0,
           "arrowwidth": 1
          },
          "autotypenumbers": "strict",
          "coloraxis": {
           "colorbar": {
            "outlinewidth": 0,
            "ticks": ""
           }
          },
          "colorscale": {
           "diverging": [
            [
             0,
             "#8e0152"
            ],
            [
             0.1,
             "#c51b7d"
            ],
            [
             0.2,
             "#de77ae"
            ],
            [
             0.3,
             "#f1b6da"
            ],
            [
             0.4,
             "#fde0ef"
            ],
            [
             0.5,
             "#f7f7f7"
            ],
            [
             0.6,
             "#e6f5d0"
            ],
            [
             0.7,
             "#b8e186"
            ],
            [
             0.8,
             "#7fbc41"
            ],
            [
             0.9,
             "#4d9221"
            ],
            [
             1,
             "#276419"
            ]
           ],
           "sequential": [
            [
             0,
             "#0d0887"
            ],
            [
             0.1111111111111111,
             "#46039f"
            ],
            [
             0.2222222222222222,
             "#7201a8"
            ],
            [
             0.3333333333333333,
             "#9c179e"
            ],
            [
             0.4444444444444444,
             "#bd3786"
            ],
            [
             0.5555555555555556,
             "#d8576b"
            ],
            [
             0.6666666666666666,
             "#ed7953"
            ],
            [
             0.7777777777777778,
             "#fb9f3a"
            ],
            [
             0.8888888888888888,
             "#fdca26"
            ],
            [
             1,
             "#f0f921"
            ]
           ],
           "sequentialminus": [
            [
             0,
             "#0d0887"
            ],
            [
             0.1111111111111111,
             "#46039f"
            ],
            [
             0.2222222222222222,
             "#7201a8"
            ],
            [
             0.3333333333333333,
             "#9c179e"
            ],
            [
             0.4444444444444444,
             "#bd3786"
            ],
            [
             0.5555555555555556,
             "#d8576b"
            ],
            [
             0.6666666666666666,
             "#ed7953"
            ],
            [
             0.7777777777777778,
             "#fb9f3a"
            ],
            [
             0.8888888888888888,
             "#fdca26"
            ],
            [
             1,
             "#f0f921"
            ]
           ]
          },
          "colorway": [
           "#636efa",
           "#EF553B",
           "#00cc96",
           "#ab63fa",
           "#FFA15A",
           "#19d3f3",
           "#FF6692",
           "#B6E880",
           "#FF97FF",
           "#FECB52"
          ],
          "font": {
           "color": "#f2f5fa"
          },
          "geo": {
           "bgcolor": "rgb(17,17,17)",
           "lakecolor": "rgb(17,17,17)",
           "landcolor": "rgb(17,17,17)",
           "showlakes": true,
           "showland": true,
           "subunitcolor": "#506784"
          },
          "hoverlabel": {
           "align": "left"
          },
          "hovermode": "closest",
          "mapbox": {
           "style": "dark"
          },
          "paper_bgcolor": "rgb(17,17,17)",
          "plot_bgcolor": "rgb(17,17,17)",
          "polar": {
           "angularaxis": {
            "gridcolor": "#506784",
            "linecolor": "#506784",
            "ticks": ""
           },
           "bgcolor": "rgb(17,17,17)",
           "radialaxis": {
            "gridcolor": "#506784",
            "linecolor": "#506784",
            "ticks": ""
           }
          },
          "scene": {
           "xaxis": {
            "backgroundcolor": "rgb(17,17,17)",
            "gridcolor": "#506784",
            "gridwidth": 2,
            "linecolor": "#506784",
            "showbackground": true,
            "ticks": "",
            "zerolinecolor": "#C8D4E3"
           },
           "yaxis": {
            "backgroundcolor": "rgb(17,17,17)",
            "gridcolor": "#506784",
            "gridwidth": 2,
            "linecolor": "#506784",
            "showbackground": true,
            "ticks": "",
            "zerolinecolor": "#C8D4E3"
           },
           "zaxis": {
            "backgroundcolor": "rgb(17,17,17)",
            "gridcolor": "#506784",
            "gridwidth": 2,
            "linecolor": "#506784",
            "showbackground": true,
            "ticks": "",
            "zerolinecolor": "#C8D4E3"
           }
          },
          "shapedefaults": {
           "line": {
            "color": "#f2f5fa"
           }
          },
          "sliderdefaults": {
           "bgcolor": "#C8D4E3",
           "bordercolor": "rgb(17,17,17)",
           "borderwidth": 1,
           "tickwidth": 0
          },
          "ternary": {
           "aaxis": {
            "gridcolor": "#506784",
            "linecolor": "#506784",
            "ticks": ""
           },
           "baxis": {
            "gridcolor": "#506784",
            "linecolor": "#506784",
            "ticks": ""
           },
           "bgcolor": "rgb(17,17,17)",
           "caxis": {
            "gridcolor": "#506784",
            "linecolor": "#506784",
            "ticks": ""
           }
          },
          "title": {
           "x": 0.05
          },
          "updatemenudefaults": {
           "bgcolor": "#506784",
           "borderwidth": 0
          },
          "xaxis": {
           "automargin": true,
           "gridcolor": "#283442",
           "linecolor": "#506784",
           "ticks": "",
           "title": {
            "standoff": 15
           },
           "zerolinecolor": "#283442",
           "zerolinewidth": 2
          },
          "yaxis": {
           "automargin": true,
           "gridcolor": "#283442",
           "linecolor": "#506784",
           "ticks": "",
           "title": {
            "standoff": 15
           },
           "zerolinecolor": "#283442",
           "zerolinewidth": 2
          }
         }
        },
        "title": {
         "text": "The number of master programs provided by each countries."
        },
        "yaxis": {
         "title": {
          "text": "Number of universities"
         }
        }
       }
      }
     },
     "metadata": {},
     "output_type": "display_data"
    }
   ],
   "source": [
    "university_data = data.groupby([\"university_name\"])[\"program_name\"].count().sort_values(ascending=False)\n",
    "df = pd.DataFrame({\"university_name\": university_data.index,\n",
    "                   \"program_count\": university_data.values})\n",
    "fig = go.Figure()\n",
    "\n",
    "fig.add_trace(\n",
    "    go.Bar(x=df[\"university_name\"][:20], y = df[\"program_count\"][:20], marker_color= '#9900cc')\n",
    ")\n",
    "\n",
    "fig.update_layout(\n",
    "    template=\"plotly_dark\",\n",
    "    title=\"The number of master programs provided by each universities.\",\n",
    "    yaxis_title=\"Number of universities\",\n",
    "    bargap=0.2,\n",
    "\n",
    ")"
   ]
  },
  {
   "cell_type": "markdown",
   "metadata": {},
   "source": [
    "# 3 | Does country has any effects on the price from the same university?\n"
   ]
  },
  {
   "cell_type": "code",
   "execution_count": 163,
   "metadata": {},
   "outputs": [
    {
     "name": "stdout",
     "output_type": "stream",
     "text": [
      "Number of university 2273\n",
      "Number of university present in more than 1 countries  64\n"
     ]
    }
   ],
   "source": [
    "university_data = data.groupby([\"university_name\"])[\"country_name\"].nunique().sort_values(ascending=False)\n",
    "university_country_count = pd.DataFrame({\"university_name\": university_data.index,\n",
    "                   \"num_of_countries_present_in\": university_data.values})\n",
    "\n",
    "print(f\"Number of university {len(university_country_count)}\")\n",
    "university_country_count = university_country_count[university_country_count[\"num_of_countries_present_in\"] > 1]\n",
    "print(f\"Number of university present in more than 1 countries  {len(university_country_count)}\")\n"
   ]
  },
  {
   "cell_type": "markdown",
   "metadata": {},
   "source": [
    "- we will select 5 universities which are present in different countries and check the available programs there"
   ]
  },
  {
   "cell_type": "code",
   "execution_count": 174,
   "metadata": {},
   "outputs": [
    {
     "data": {
      "text/html": [
       "<div>\n",
       "<style scoped>\n",
       "    .dataframe tbody tr th:only-of-type {\n",
       "        vertical-align: middle;\n",
       "    }\n",
       "\n",
       "    .dataframe tbody tr th {\n",
       "        vertical-align: top;\n",
       "    }\n",
       "\n",
       "    .dataframe thead th {\n",
       "        text-align: right;\n",
       "    }\n",
       "</style>\n",
       "<table border=\"1\" class=\"dataframe\">\n",
       "  <thead>\n",
       "    <tr style=\"text-align: right;\">\n",
       "      <th></th>\n",
       "      <th>university_name</th>\n",
       "      <th>program_name</th>\n",
       "    </tr>\n",
       "  </thead>\n",
       "  <tbody>\n",
       "    <tr>\n",
       "      <th>0</th>\n",
       "      <td>EIT Digital Master School</td>\n",
       "      <td>72</td>\n",
       "    </tr>\n",
       "    <tr>\n",
       "      <th>1</th>\n",
       "      <td>ESCP Europe Business School</td>\n",
       "      <td>145</td>\n",
       "    </tr>\n",
       "    <tr>\n",
       "      <th>2</th>\n",
       "      <td>Engineering Institute of Technology</td>\n",
       "      <td>37</td>\n",
       "    </tr>\n",
       "    <tr>\n",
       "      <th>3</th>\n",
       "      <td>IHE Delft Institute for Water Education</td>\n",
       "      <td>115</td>\n",
       "    </tr>\n",
       "    <tr>\n",
       "      <th>4</th>\n",
       "      <td>University of Kent</td>\n",
       "      <td>1161</td>\n",
       "    </tr>\n",
       "  </tbody>\n",
       "</table>\n",
       "</div>"
      ],
      "text/plain": [
       "                           university_name  program_name\n",
       "0                EIT Digital Master School            72\n",
       "1              ESCP Europe Business School           145\n",
       "2      Engineering Institute of Technology            37\n",
       "3  IHE Delft Institute for Water Education           115\n",
       "4                       University of Kent          1161"
      ]
     },
     "execution_count": 174,
     "metadata": {},
     "output_type": "execute_result"
    }
   ],
   "source": [
    "selected_university = university_country_count[:5][\"university_name\"].values\n",
    "selected_uni_data = data[data[\"university_name\"].isin(selected_university)]\n",
    "selected_uni_data.groupby([\"university_name\"])[\"program_name\"].count().reset_index()"
   ]
  },
  {
   "cell_type": "code",
   "execution_count": 189,
   "metadata": {},
   "outputs": [
    {
     "data": {
      "text/plain": [
       "7894               Cloud Computing and Services (CCS)\n",
       "7895                                     Data Science\n",
       "7896                   Digital Media Technology (DMT)\n",
       "7897                            Embedded Systems (ES)\n",
       "7898     Human Computer Interaction and Design (HCID)\n",
       "                             ...                     \n",
       "25778                           Embedded Systems (ES)\n",
       "25779    Human Computer Interaction and Design (HCID)\n",
       "25780      Internet Technology and Architecture (ITA)\n",
       "25781                      Security and Privacy (S&P)\n",
       "25782        Software and Service Architectures (SSA)\n",
       "Name: program_name, Length: 72, dtype: object"
      ]
     },
     "execution_count": 189,
     "metadata": {},
     "output_type": "execute_result"
    }
   ],
   "source": [
    "selected_uni_data[(selected_uni_data[\"university_name\"] == \"EIT Digital Master School\")][\"program_name\"]"
   ]
  },
  {
   "cell_type": "code",
   "execution_count": 179,
   "metadata": {},
   "outputs": [],
   "source": [
    "# What are all the common programs in those 5 universities?\n",
    "unique_program_name: list = selected_uni_data[\"program_name\"].unique()\n",
    "\n",
    "\n",
    "\n",
    "def select_program_present_in_all_university(df, programs):\n",
    "    pass"
   ]
  },
  {
   "cell_type": "code",
   "execution_count": 188,
   "metadata": {},
   "outputs": [
    {
     "data": {
      "text/html": [
       "<div>\n",
       "<style scoped>\n",
       "    .dataframe tbody tr th:only-of-type {\n",
       "        vertical-align: middle;\n",
       "    }\n",
       "\n",
       "    .dataframe tbody tr th {\n",
       "        vertical-align: top;\n",
       "    }\n",
       "\n",
       "    .dataframe thead th {\n",
       "        text-align: right;\n",
       "    }\n",
       "</style>\n",
       "<table border=\"1\" class=\"dataframe\">\n",
       "  <thead>\n",
       "    <tr style=\"text-align: right;\">\n",
       "      <th></th>\n",
       "      <th>country_name</th>\n",
       "      <th>university_name</th>\n",
       "      <th>university_rank</th>\n",
       "      <th>program_name</th>\n",
       "      <th>program_type</th>\n",
       "      <th>duration</th>\n",
       "      <th>language</th>\n",
       "      <th>tution_1_currency</th>\n",
       "      <th>tution_1_money</th>\n",
       "      <th>tution_1_type</th>\n",
       "      <th>tution_2_currency</th>\n",
       "      <th>tution_2_money</th>\n",
       "      <th>tution_2_type</th>\n",
       "      <th>tuition_price_specification</th>\n",
       "      <th>ielts_score</th>\n",
       "      <th>city</th>\n",
       "    </tr>\n",
       "  </thead>\n",
       "  <tbody>\n",
       "    <tr>\n",
       "      <th>7894</th>\n",
       "      <td>Finland</td>\n",
       "      <td>EIT Digital Master School</td>\n",
       "      <td>NaN</td>\n",
       "      <td>Cloud Computing and Services (CCS)</td>\n",
       "      <td>MSc</td>\n",
       "      <td>24 months</td>\n",
       "      <td>English</td>\n",
       "      <td>EUR</td>\n",
       "      <td>8000.0</td>\n",
       "      <td>International</td>\n",
       "      <td>Free</td>\n",
       "      <td>0.0</td>\n",
       "      <td>EU/EEA</td>\n",
       "      <td>Tuition (Year)</td>\n",
       "      <td>6.5</td>\n",
       "      <td>['Stockholm', 'Helsinki', 'Delft', 'Paris', 'B...</td>\n",
       "    </tr>\n",
       "    <tr>\n",
       "      <th>8481</th>\n",
       "      <td>France</td>\n",
       "      <td>EIT Digital Master School</td>\n",
       "      <td>NaN</td>\n",
       "      <td>Cloud Computing and Services (CCS)</td>\n",
       "      <td>MSc</td>\n",
       "      <td>24 months</td>\n",
       "      <td>English</td>\n",
       "      <td>EUR</td>\n",
       "      <td>8000.0</td>\n",
       "      <td>International</td>\n",
       "      <td>Free</td>\n",
       "      <td>0.0</td>\n",
       "      <td>EU/EEA</td>\n",
       "      <td>Tuition (Year)</td>\n",
       "      <td>6.5</td>\n",
       "      <td>['Stockholm', 'Helsinki', 'Delft', 'Paris', 'B...</td>\n",
       "    </tr>\n",
       "    <tr>\n",
       "      <th>9496</th>\n",
       "      <td>Germany</td>\n",
       "      <td>EIT Digital Master School</td>\n",
       "      <td>NaN</td>\n",
       "      <td>Cloud Computing and Services (CCS)</td>\n",
       "      <td>MSc</td>\n",
       "      <td>24 months</td>\n",
       "      <td>English</td>\n",
       "      <td>EUR</td>\n",
       "      <td>8000.0</td>\n",
       "      <td>International</td>\n",
       "      <td>Free</td>\n",
       "      <td>0.0</td>\n",
       "      <td>EU/EEA</td>\n",
       "      <td>Tuition (Year)</td>\n",
       "      <td>6.5</td>\n",
       "      <td>['Stockholm', 'Helsinki', 'Delft', 'Paris', 'B...</td>\n",
       "    </tr>\n",
       "    <tr>\n",
       "      <th>11812</th>\n",
       "      <td>Hungary</td>\n",
       "      <td>EIT Digital Master School</td>\n",
       "      <td>NaN</td>\n",
       "      <td>Cloud Computing and Services (CCS)</td>\n",
       "      <td>MSc</td>\n",
       "      <td>24 months</td>\n",
       "      <td>English</td>\n",
       "      <td>EUR</td>\n",
       "      <td>8000.0</td>\n",
       "      <td>International</td>\n",
       "      <td>Free</td>\n",
       "      <td>0.0</td>\n",
       "      <td>EU/EEA</td>\n",
       "      <td>Tuition (Year)</td>\n",
       "      <td>6.5</td>\n",
       "      <td>['Stockholm', 'Helsinki', 'Delft', 'Paris', 'B...</td>\n",
       "    </tr>\n",
       "    <tr>\n",
       "      <th>13801</th>\n",
       "      <td>Italy</td>\n",
       "      <td>EIT Digital Master School</td>\n",
       "      <td>NaN</td>\n",
       "      <td>Cloud Computing and Services (CCS)</td>\n",
       "      <td>MSc</td>\n",
       "      <td>24 months</td>\n",
       "      <td>English</td>\n",
       "      <td>EUR</td>\n",
       "      <td>8000.0</td>\n",
       "      <td>International</td>\n",
       "      <td>Free</td>\n",
       "      <td>0.0</td>\n",
       "      <td>EU/EEA</td>\n",
       "      <td>Tuition (Year)</td>\n",
       "      <td>6.5</td>\n",
       "      <td>['Stockholm', 'Helsinki', 'Delft', 'Paris', 'B...</td>\n",
       "    </tr>\n",
       "    <tr>\n",
       "      <th>15461</th>\n",
       "      <td>Netherlands</td>\n",
       "      <td>EIT Digital Master School</td>\n",
       "      <td>NaN</td>\n",
       "      <td>Cloud Computing and Services (CCS)</td>\n",
       "      <td>MSc</td>\n",
       "      <td>24 months</td>\n",
       "      <td>English</td>\n",
       "      <td>EUR</td>\n",
       "      <td>8000.0</td>\n",
       "      <td>International</td>\n",
       "      <td>Free</td>\n",
       "      <td>0.0</td>\n",
       "      <td>EU/EEA</td>\n",
       "      <td>Tuition (Year)</td>\n",
       "      <td>6.5</td>\n",
       "      <td>['Stockholm', 'Helsinki', 'Delft', 'Paris', 'B...</td>\n",
       "    </tr>\n",
       "    <tr>\n",
       "      <th>19688</th>\n",
       "      <td>Spain</td>\n",
       "      <td>EIT Digital Master School</td>\n",
       "      <td>NaN</td>\n",
       "      <td>Cloud Computing and Services (CCS)</td>\n",
       "      <td>MSc</td>\n",
       "      <td>24 months</td>\n",
       "      <td>English</td>\n",
       "      <td>EUR</td>\n",
       "      <td>8000.0</td>\n",
       "      <td>International</td>\n",
       "      <td>Free</td>\n",
       "      <td>0.0</td>\n",
       "      <td>EU/EEA</td>\n",
       "      <td>Tuition (Year)</td>\n",
       "      <td>6.5</td>\n",
       "      <td>['Stockholm', 'Helsinki', 'Delft', 'Paris', 'B...</td>\n",
       "    </tr>\n",
       "    <tr>\n",
       "      <th>20511</th>\n",
       "      <td>Sweden</td>\n",
       "      <td>EIT Digital Master School</td>\n",
       "      <td>NaN</td>\n",
       "      <td>Cloud Computing and Services (CCS)</td>\n",
       "      <td>MSc</td>\n",
       "      <td>24 months</td>\n",
       "      <td>English</td>\n",
       "      <td>EUR</td>\n",
       "      <td>8000.0</td>\n",
       "      <td>International</td>\n",
       "      <td>Free</td>\n",
       "      <td>0.0</td>\n",
       "      <td>EU/EEA</td>\n",
       "      <td>Tuition (Year)</td>\n",
       "      <td>6.5</td>\n",
       "      <td>['Stockholm', 'Helsinki', 'Delft', 'Paris', 'B...</td>\n",
       "    </tr>\n",
       "    <tr>\n",
       "      <th>25775</th>\n",
       "      <td>United Kingdom</td>\n",
       "      <td>EIT Digital Master School</td>\n",
       "      <td>NaN</td>\n",
       "      <td>Cloud Computing and Services (CCS)</td>\n",
       "      <td>MSc</td>\n",
       "      <td>24 months</td>\n",
       "      <td>English</td>\n",
       "      <td>EUR</td>\n",
       "      <td>8000.0</td>\n",
       "      <td>International</td>\n",
       "      <td>Free</td>\n",
       "      <td>0.0</td>\n",
       "      <td>EU/EEA</td>\n",
       "      <td>Tuition (Year)</td>\n",
       "      <td>6.5</td>\n",
       "      <td>['Stockholm', 'Helsinki', 'Delft', 'Paris', 'B...</td>\n",
       "    </tr>\n",
       "  </tbody>\n",
       "</table>\n",
       "</div>"
      ],
      "text/plain": [
       "         country_name            university_name  university_rank  \\\n",
       "7894          Finland  EIT Digital Master School              NaN   \n",
       "8481           France  EIT Digital Master School              NaN   \n",
       "9496          Germany  EIT Digital Master School              NaN   \n",
       "11812         Hungary  EIT Digital Master School              NaN   \n",
       "13801           Italy  EIT Digital Master School              NaN   \n",
       "15461     Netherlands  EIT Digital Master School              NaN   \n",
       "19688           Spain  EIT Digital Master School              NaN   \n",
       "20511          Sweden  EIT Digital Master School              NaN   \n",
       "25775  United Kingdom  EIT Digital Master School              NaN   \n",
       "\n",
       "                             program_name program_type   duration language  \\\n",
       "7894   Cloud Computing and Services (CCS)          MSc  24 months  English   \n",
       "8481   Cloud Computing and Services (CCS)          MSc  24 months  English   \n",
       "9496   Cloud Computing and Services (CCS)          MSc  24 months  English   \n",
       "11812  Cloud Computing and Services (CCS)          MSc  24 months  English   \n",
       "13801  Cloud Computing and Services (CCS)          MSc  24 months  English   \n",
       "15461  Cloud Computing and Services (CCS)          MSc  24 months  English   \n",
       "19688  Cloud Computing and Services (CCS)          MSc  24 months  English   \n",
       "20511  Cloud Computing and Services (CCS)          MSc  24 months  English   \n",
       "25775  Cloud Computing and Services (CCS)          MSc  24 months  English   \n",
       "\n",
       "      tution_1_currency  tution_1_money  tution_1_type tution_2_currency  \\\n",
       "7894                EUR          8000.0  International              Free   \n",
       "8481                EUR          8000.0  International              Free   \n",
       "9496                EUR          8000.0  International              Free   \n",
       "11812               EUR          8000.0  International              Free   \n",
       "13801               EUR          8000.0  International              Free   \n",
       "15461               EUR          8000.0  International              Free   \n",
       "19688               EUR          8000.0  International              Free   \n",
       "20511               EUR          8000.0  International              Free   \n",
       "25775               EUR          8000.0  International              Free   \n",
       "\n",
       "       tution_2_money tution_2_type tuition_price_specification  ielts_score  \\\n",
       "7894              0.0        EU/EEA              Tuition (Year)          6.5   \n",
       "8481              0.0        EU/EEA              Tuition (Year)          6.5   \n",
       "9496              0.0        EU/EEA              Tuition (Year)          6.5   \n",
       "11812             0.0        EU/EEA              Tuition (Year)          6.5   \n",
       "13801             0.0        EU/EEA              Tuition (Year)          6.5   \n",
       "15461             0.0        EU/EEA              Tuition (Year)          6.5   \n",
       "19688             0.0        EU/EEA              Tuition (Year)          6.5   \n",
       "20511             0.0        EU/EEA              Tuition (Year)          6.5   \n",
       "25775             0.0        EU/EEA              Tuition (Year)          6.5   \n",
       "\n",
       "                                                    city  \n",
       "7894   ['Stockholm', 'Helsinki', 'Delft', 'Paris', 'B...  \n",
       "8481   ['Stockholm', 'Helsinki', 'Delft', 'Paris', 'B...  \n",
       "9496   ['Stockholm', 'Helsinki', 'Delft', 'Paris', 'B...  \n",
       "11812  ['Stockholm', 'Helsinki', 'Delft', 'Paris', 'B...  \n",
       "13801  ['Stockholm', 'Helsinki', 'Delft', 'Paris', 'B...  \n",
       "15461  ['Stockholm', 'Helsinki', 'Delft', 'Paris', 'B...  \n",
       "19688  ['Stockholm', 'Helsinki', 'Delft', 'Paris', 'B...  \n",
       "20511  ['Stockholm', 'Helsinki', 'Delft', 'Paris', 'B...  \n",
       "25775  ['Stockholm', 'Helsinki', 'Delft', 'Paris', 'B...  "
      ]
     },
     "execution_count": 188,
     "metadata": {},
     "output_type": "execute_result"
    }
   ],
   "source": [
    "selected_uni_data[(selected_uni_data[\"university_name\"] == \"EIT Digital Master School\") & (selected_uni_data[\"program_name\"] == \"Cloud Computing and Services (CCS)\")]"
   ]
  },
  {
   "cell_type": "markdown",
   "metadata": {},
   "source": [
    "- The same university has the same fee in all countries as expected."
   ]
  },
  {
   "cell_type": "code",
   "execution_count": null,
   "metadata": {},
   "outputs": [],
   "source": []
  },
  {
   "cell_type": "code",
   "execution_count": null,
   "metadata": {},
   "outputs": [],
   "source": []
  }
 ],
 "metadata": {
  "kernelspec": {
   "display_name": "Python 3",
   "language": "python",
   "name": "python3"
  },
  "language_info": {
   "codemirror_mode": {
    "name": "ipython",
    "version": 3
   },
   "file_extension": ".py",
   "mimetype": "text/x-python",
   "name": "python",
   "nbconvert_exporter": "python",
   "pygments_lexer": "ipython3",
   "version": "3.8.10"
  }
 },
 "nbformat": 4,
 "nbformat_minor": 2
}
